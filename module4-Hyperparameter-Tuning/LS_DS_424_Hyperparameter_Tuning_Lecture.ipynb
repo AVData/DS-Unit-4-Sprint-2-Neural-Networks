{
 "cells": [
  {
   "cell_type": "markdown",
   "metadata": {
    "colab_type": "text",
    "id": "41TS0Sa0rDNx"
   },
   "source": [
    "Lambda School Data Science\n",
    "\n",
    "*Unit 4, Sprint 2, Module 4*\n",
    "\n",
    "---"
   ]
  },
  {
   "cell_type": "markdown",
   "metadata": {
    "colab_type": "text",
    "id": "41TS0Sa0rDNx"
   },
   "source": [
    "# Neural Networks & GPUs (Prepare)\n",
    "*aka Hyperparameter Tuning*\n",
    "\n",
    "*aka Big Servers for Big Problems*"
   ]
  },
  {
   "cell_type": "markdown",
   "metadata": {
    "colab_type": "text",
    "id": "41TS0Sa0rDNx"
   },
   "source": [
    "## Learning Objectives\n",
    "* <a href=\"#p1\">Part 1</a>: Describe the major hyperparemeters to tune\n",
    "* <a href=\"#p2\">Part 2</a>: Implement an experiment tracking framework\n",
    "* <a href=\"#p3\">Part 3</a>: Search the hyperparameter space using RandomSearch (Optional)"
   ]
  },
  {
   "cell_type": "code",
   "execution_count": 1,
   "metadata": {},
   "outputs": [],
   "source": [
    "wandb_group = \"ds8\"\n",
    "wandb_project = \"inclass\""
   ]
  },
  {
   "cell_type": "markdown",
   "metadata": {},
   "source": [
    "# Hyperparameter Options (Learn)\n",
    "<a id=\"p1\"></a>"
   ]
  },
  {
   "cell_type": "markdown",
   "metadata": {},
   "source": [
    "## Overview\n",
    "\n",
    "Hyperparameter tuning is much more important with neural networks than it has been with any other models that we have considered up to this point. Other supervised learning models might have a couple of parameters, but neural networks can have dozens. These can substantially affect the accuracy of our models and although it can be a time consuming process is a necessary step when working with neural networks.\n",
    "​\n",
    "Hyperparameter tuning comes with a challenge. How can we compare models specified with different hyperparameters if our model's final error metric can vary somewhat erratically? How do we avoid just getting unlucky and selecting the wrong hyperparameter? This is a problem that to a certain degree we just have to live with as we test and test again. However, we can minimize it somewhat by pairing our experiments with Cross Validation to reduce the variance of our final accuracy values."
   ]
  },
  {
   "cell_type": "markdown",
   "metadata": {
    "colab_type": "text",
    "id": "0s0o2pqBs88q"
   },
   "source": [
    "### Load Boston Housing Data"
   ]
  },
  {
   "cell_type": "code",
   "execution_count": 3,
   "metadata": {},
   "outputs": [],
   "source": [
    "from tensorflow.keras.datasets import boston_housing\n",
    "\n",
    "(x_train, y_train), (x_test, y_test) = boston_housing.load_data()"
   ]
  },
  {
   "cell_type": "markdown",
   "metadata": {
    "colab_type": "text",
    "id": "Pm7zow5IvaTt"
   },
   "source": [
    "### Normalizing Input Data\n",
    "\n",
    "It's not 100% necessary to normalize/scale your input data before feeding it to a neural network, the network can learn the appropriate weights to deal with data of as long as it is numerically represented,  but it is recommended as it can help **make training faster** and **reduces the chances that gradient descent might get stuck in a local optimum**.\n",
    "\n",
    "<https://stackoverflow.com/questions/4674623/why-do-we-have-to-normalize-the-input-for-an-artificial-neural-network>"
   ]
  },
  {
   "cell_type": "code",
   "execution_count": 4,
   "metadata": {},
   "outputs": [
    {
     "name": "stdout",
     "output_type": "stream",
     "text": [
      "[[-0.27224633 -0.48361547 -0.43576161 -0.25683275 -0.1652266  -0.1764426\n",
      "   0.81306188  0.1166983  -0.62624905 -0.59517003  1.14850044  0.44807713\n",
      "   0.8252202 ]\n",
      " [-0.40342651  2.99178419 -1.33391162 -0.25683275 -1.21518188  1.89434613\n",
      "  -1.91036058  1.24758524 -0.85646254 -0.34843254 -1.71818909  0.43190599\n",
      "  -1.32920239]\n",
      " [ 0.1249402  -0.48361547  1.0283258  -0.25683275  0.62864202 -1.82968811\n",
      "   1.11048828 -1.18743907  1.67588577  1.5652875   0.78447637  0.22061726\n",
      "  -1.30850006]\n",
      " [-0.40149354 -0.48361547 -0.86940196 -0.25683275 -0.3615597  -0.3245576\n",
      "  -1.23667187  1.10717989 -0.51114231 -1.094663    0.78447637  0.44807713\n",
      "  -0.65292624]\n",
      " [-0.0056343  -0.48361547  1.0283258  -0.25683275  1.32861221  0.15364225\n",
      "   0.69480801 -0.57857203  1.67588577  1.5652875   0.78447637  0.3898823\n",
      "   0.26349695]\n",
      " [-0.37502238 -0.48361547 -0.54747912 -0.25683275 -0.54935658 -0.78865126\n",
      "   0.18954148  0.48371503 -0.51114231 -0.71552978  0.51145832  0.38669063\n",
      "  -0.13812828]\n",
      " [ 0.58963463 -0.48361547  1.0283258  -0.25683275  1.21764133 -1.03127774\n",
      "   1.11048828 -1.06518235  1.67588577  1.5652875   0.78447637  0.44807713\n",
      "   1.49873604]\n",
      " [ 0.0381708  -0.48361547  1.24588095 -0.25683275  2.67733525 -1.12719983\n",
      "   1.11048828 -1.14833073 -0.51114231 -0.01744323 -1.71818909  0.44807713\n",
      "   1.88793986]\n",
      " [-0.17228416 -0.48361547  1.24588095 -0.25683275  2.67733525 -0.90150078\n",
      "   1.11048828 -1.09664657 -0.51114231 -0.01744323 -1.71818909 -1.97365769\n",
      "   0.53952803]\n",
      " [-0.22932104 -0.48361547  1.58544339 -0.25683275  0.56888847 -1.76056777\n",
      "   1.11048828 -1.13471925 -0.62624905  0.18716835  1.23950646  0.44807713\n",
      "   2.99068404]]\n"
     ]
    }
   ],
   "source": [
    "from sklearn.preprocessing import StandardScaler\n",
    "\n",
    "scaler = StandardScaler()\n",
    "\n",
    "x_train = scaler.fit_transform(x_train)\n",
    "x_test = scaler.transform(x_test)\n",
    "print(x_train[:5])"
   ]
  },
  {
   "cell_type": "markdown",
   "metadata": {
    "colab_type": "text",
    "id": "l6hgCWbir90R"
   },
   "source": [
    "### Model Validation using an automatic verification Dataset\n",
    "\n",
    "Instead of doing seperate train test split class, Keras has a really nice feature that you can set the validation.data argument when fitting your model and Keras will take that portion of your test data and use it as a validation dataset. "
   ]
  },
  {
   "cell_type": "code",
   "execution_count": 5,
   "metadata": {
    "colab": {
     "base_uri": "https://localhost:8080/",
     "height": 1750
    },
    "colab_type": "code",
    "collapsed": true,
    "id": "GMXVfmzXp1Oo",
    "jupyter": {
     "outputs_hidden": true
    },
    "outputId": "b05e251e-508f-46e6-865b-f869ae2a5dc4"
   },
   "outputs": [
    {
     "name": "stdout",
     "output_type": "stream",
     "text": [
      "Train on 404 samples, validate on 102 samples\n",
      "Epoch 1/75\n",
      "404/404 [==============================] - 0s 1ms/sample - loss: 537.5099 - mse: 537.5099 - mae: 21.3286 - val_loss: 475.7309 - val_mse: 475.7309 - val_mae: 19.9681\n",
      "Epoch 2/75\n",
      "404/404 [==============================] - 0s 194us/sample - loss: 320.2322 - mse: 320.2322 - mae: 15.5962 - val_loss: 166.2034 - val_mse: 166.2034 - val_mae: 11.0206\n",
      "Epoch 3/75\n",
      "404/404 [==============================] - 0s 210us/sample - loss: 77.7950 - mse: 77.7950 - mae: 6.5817 - val_loss: 46.0170 - val_mse: 46.0170 - val_mae: 5.3487\n",
      "Epoch 4/75\n",
      "404/404 [==============================] - 0s 216us/sample - loss: 36.1425 - mse: 36.1425 - mae: 4.1527 - val_loss: 29.3243 - val_mse: 29.3243 - val_mae: 4.2109\n",
      "Epoch 5/75\n",
      "404/404 [==============================] - 0s 222us/sample - loss: 26.8252 - mse: 26.8252 - mae: 3.5771 - val_loss: 24.7720 - val_mse: 24.7720 - val_mae: 3.9469\n",
      "Epoch 6/75\n",
      "404/404 [==============================] - 0s 200us/sample - loss: 23.1154 - mse: 23.1154 - mae: 3.2905 - val_loss: 22.5796 - val_mse: 22.5796 - val_mae: 3.7700\n",
      "Epoch 7/75\n",
      "404/404 [==============================] - 0s 212us/sample - loss: 20.2762 - mse: 20.2762 - mae: 3.1382 - val_loss: 22.3601 - val_mse: 22.3601 - val_mae: 3.7306\n",
      "Epoch 8/75\n",
      "404/404 [==============================] - 0s 197us/sample - loss: 18.5727 - mse: 18.5727 - mae: 3.0149 - val_loss: 21.5166 - val_mse: 21.5166 - val_mae: 3.6155\n",
      "Epoch 9/75\n",
      "404/404 [==============================] - 0s 223us/sample - loss: 16.9155 - mse: 16.9155 - mae: 2.9083 - val_loss: 21.1326 - val_mse: 21.1326 - val_mae: 3.5200\n",
      "Epoch 10/75\n",
      "404/404 [==============================] - 0s 227us/sample - loss: 16.0352 - mse: 16.0352 - mae: 2.7717 - val_loss: 20.5577 - val_mse: 20.5577 - val_mae: 3.4490\n",
      "Epoch 11/75\n",
      "404/404 [==============================] - 0s 172us/sample - loss: 14.8638 - mse: 14.8638 - mae: 2.6992 - val_loss: 20.6549 - val_mse: 20.6549 - val_mae: 3.4104\n",
      "Epoch 12/75\n",
      "404/404 [==============================] - 0s 219us/sample - loss: 14.0627 - mse: 14.0627 - mae: 2.6374 - val_loss: 20.8239 - val_mse: 20.8239 - val_mae: 3.4066\n",
      "Epoch 13/75\n",
      "404/404 [==============================] - 0s 218us/sample - loss: 13.3850 - mse: 13.3850 - mae: 2.5602 - val_loss: 20.7684 - val_mse: 20.7684 - val_mae: 3.3369\n",
      "Epoch 14/75\n",
      "404/404 [==============================] - 0s 212us/sample - loss: 12.7793 - mse: 12.7793 - mae: 2.5056 - val_loss: 21.1441 - val_mse: 21.1441 - val_mae: 3.3648\n",
      "Epoch 15/75\n",
      "404/404 [==============================] - ETA: 0s - loss: 12.3700 - mse: 12.3700 - mae: 2.488 - 0s 202us/sample - loss: 12.2249 - mse: 12.2249 - mae: 2.4934 - val_loss: 20.9761 - val_mse: 20.9761 - val_mae: 3.2941\n",
      "Epoch 16/75\n",
      "404/404 [==============================] - 0s 199us/sample - loss: 12.2385 - mse: 12.2385 - mae: 2.4273 - val_loss: 21.1328 - val_mse: 21.1328 - val_mae: 3.2380\n",
      "Epoch 17/75\n",
      "404/404 [==============================] - 0s 238us/sample - loss: 11.6680 - mse: 11.6680 - mae: 2.4065 - val_loss: 20.5174 - val_mse: 20.5174 - val_mae: 3.1408\n",
      "Epoch 18/75\n",
      "404/404 [==============================] - 0s 219us/sample - loss: 10.9892 - mse: 10.9892 - mae: 2.3234 - val_loss: 20.5345 - val_mse: 20.5345 - val_mae: 3.1682\n",
      "Epoch 19/75\n",
      "404/404 [==============================] - 0s 184us/sample - loss: 11.0251 - mse: 11.0251 - mae: 2.3787 - val_loss: 21.5533 - val_mse: 21.5533 - val_mae: 3.2109\n",
      "Epoch 20/75\n",
      "404/404 [==============================] - 0s 185us/sample - loss: 10.4906 - mse: 10.4906 - mae: 2.2614 - val_loss: 20.1633 - val_mse: 20.1633 - val_mae: 3.0768\n",
      "Epoch 21/75\n",
      "404/404 [==============================] - 0s 210us/sample - loss: 10.1836 - mse: 10.1836 - mae: 2.2498 - val_loss: 21.5241 - val_mse: 21.5241 - val_mae: 3.1438\n",
      "Epoch 22/75\n",
      "404/404 [==============================] - 0s 201us/sample - loss: 9.9394 - mse: 9.9394 - mae: 2.2400 - val_loss: 19.8942 - val_mse: 19.8942 - val_mae: 3.0007\n",
      "Epoch 23/75\n",
      "404/404 [==============================] - 0s 171us/sample - loss: 9.9585 - mse: 9.9585 - mae: 2.2203 - val_loss: 20.6032 - val_mse: 20.6032 - val_mae: 3.0856\n",
      "Epoch 24/75\n",
      "404/404 [==============================] - 0s 210us/sample - loss: 9.8526 - mse: 9.8526 - mae: 2.2185 - val_loss: 21.1118 - val_mse: 21.1118 - val_mae: 3.0461\n",
      "Epoch 25/75\n",
      "404/404 [==============================] - 0s 238us/sample - loss: 9.6780 - mse: 9.6780 - mae: 2.1726 - val_loss: 22.5155 - val_mse: 22.5155 - val_mae: 3.1475\n",
      "Epoch 26/75\n",
      "404/404 [==============================] - 0s 271us/sample - loss: 9.4653 - mse: 9.4653 - mae: 2.1924 - val_loss: 21.9604 - val_mse: 21.9604 - val_mae: 3.0874\n",
      "Epoch 27/75\n",
      "404/404 [==============================] - 0s 249us/sample - loss: 9.1652 - mse: 9.1652 - mae: 2.1141 - val_loss: 21.8432 - val_mse: 21.8432 - val_mae: 3.0651\n",
      "Epoch 28/75\n",
      "404/404 [==============================] - 0s 195us/sample - loss: 8.9927 - mse: 8.9927 - mae: 2.1245 - val_loss: 20.7747 - val_mse: 20.7747 - val_mae: 2.9753\n",
      "Epoch 29/75\n",
      "404/404 [==============================] - 0s 734us/sample - loss: 8.8693 - mse: 8.8693 - mae: 2.1026 - val_loss: 22.5614 - val_mse: 22.5614 - val_mae: 3.0830\n",
      "Epoch 30/75\n",
      "404/404 [==============================] - 0s 552us/sample - loss: 8.5695 - mse: 8.5695 - mae: 2.1164 - val_loss: 20.6166 - val_mse: 20.6166 - val_mae: 2.9095\n",
      "Epoch 31/75\n",
      "404/404 [==============================] - 0s 469us/sample - loss: 8.5966 - mse: 8.5966 - mae: 2.1126 - val_loss: 20.5693 - val_mse: 20.5693 - val_mae: 2.9880\n",
      "Epoch 32/75\n",
      "404/404 [==============================] - 0s 490us/sample - loss: 8.4880 - mse: 8.4880 - mae: 2.0321 - val_loss: 21.4399 - val_mse: 21.4399 - val_mae: 2.9640\n",
      "Epoch 33/75\n",
      "404/404 [==============================] - 0s 687us/sample - loss: 8.3681 - mse: 8.3681 - mae: 2.0543 - val_loss: 20.7923 - val_mse: 20.7923 - val_mae: 2.9204\n",
      "Epoch 34/75\n",
      "404/404 [==============================] - 0s 482us/sample - loss: 8.5180 - mse: 8.5180 - mae: 2.1377 - val_loss: 20.3874 - val_mse: 20.3874 - val_mae: 2.8490\n",
      "Epoch 35/75\n",
      "404/404 [==============================] - 0s 362us/sample - loss: 8.0646 - mse: 8.0646 - mae: 2.0038 - val_loss: 19.9827 - val_mse: 19.9827 - val_mae: 2.8524\n",
      "Epoch 36/75\n",
      "404/404 [==============================] - 0s 325us/sample - loss: 7.9867 - mse: 7.9867 - mae: 1.9939 - val_loss: 20.5283 - val_mse: 20.5283 - val_mae: 2.9202\n",
      "Epoch 37/75\n",
      "404/404 [==============================] - 0s 406us/sample - loss: 7.8431 - mse: 7.8431 - mae: 1.9901 - val_loss: 20.5214 - val_mse: 20.5214 - val_mae: 2.9233\n",
      "Epoch 38/75\n",
      "404/404 [==============================] - 0s 444us/sample - loss: 7.8237 - mse: 7.8237 - mae: 1.9852 - val_loss: 21.1684 - val_mse: 21.1684 - val_mae: 2.9655\n",
      "Epoch 39/75\n",
      "404/404 [==============================] - 0s 336us/sample - loss: 7.7659 - mse: 7.7659 - mae: 1.9869 - val_loss: 19.8742 - val_mse: 19.8742 - val_mae: 2.7933\n",
      "Epoch 40/75\n",
      "404/404 [==============================] - 0s 203us/sample - loss: 7.6701 - mse: 7.6701 - mae: 1.9338 - val_loss: 22.4184 - val_mse: 22.4184 - val_mae: 3.1036\n",
      "Epoch 41/75\n",
      "404/404 [==============================] - 0s 200us/sample - loss: 7.3966 - mse: 7.3966 - mae: 1.9455 - val_loss: 19.4117 - val_mse: 19.4117 - val_mae: 2.7759\n",
      "Epoch 42/75\n",
      "404/404 [==============================] - 0s 194us/sample - loss: 7.4485 - mse: 7.4485 - mae: 1.9343 - val_loss: 20.1752 - val_mse: 20.1752 - val_mae: 2.8675\n",
      "Epoch 43/75\n",
      "404/404 [==============================] - 0s 209us/sample - loss: 7.3465 - mse: 7.3465 - mae: 1.9256 - val_loss: 20.1250 - val_mse: 20.1250 - val_mae: 2.8043\n",
      "Epoch 44/75\n",
      "404/404 [==============================] - 0s 243us/sample - loss: 7.1319 - mse: 7.1319 - mae: 1.9500 - val_loss: 18.9803 - val_mse: 18.9803 - val_mae: 2.8002\n",
      "Epoch 45/75\n",
      "404/404 [==============================] - 0s 244us/sample - loss: 7.3691 - mse: 7.3691 - mae: 1.9356 - val_loss: 19.6943 - val_mse: 19.6943 - val_mae: 2.8054\n",
      "Epoch 46/75\n",
      "404/404 [==============================] - 0s 217us/sample - loss: 7.0752 - mse: 7.0752 - mae: 1.9225 - val_loss: 18.5801 - val_mse: 18.5801 - val_mae: 2.7082\n",
      "Epoch 47/75\n",
      "404/404 [==============================] - 0s 198us/sample - loss: 6.9362 - mse: 6.9362 - mae: 1.8648 - val_loss: 20.1413 - val_mse: 20.1413 - val_mae: 2.9379\n",
      "Epoch 48/75\n",
      "404/404 [==============================] - 0s 241us/sample - loss: 6.8975 - mse: 6.8975 - mae: 1.8919 - val_loss: 19.2300 - val_mse: 19.2300 - val_mae: 2.8085\n",
      "Epoch 49/75\n",
      "404/404 [==============================] - 0s 277us/sample - loss: 6.7862 - mse: 6.7862 - mae: 1.8739 - val_loss: 18.5297 - val_mse: 18.5297 - val_mae: 2.7164\n",
      "Epoch 50/75\n",
      "404/404 [==============================] - 0s 211us/sample - loss: 6.6992 - mse: 6.6992 - mae: 1.8548 - val_loss: 17.6922 - val_mse: 17.6922 - val_mae: 2.7096\n",
      "Epoch 51/75\n",
      "404/404 [==============================] - 0s 205us/sample - loss: 6.8867 - mse: 6.8867 - mae: 1.8719 - val_loss: 18.8549 - val_mse: 18.8549 - val_mae: 2.7970\n",
      "Epoch 52/75\n",
      "404/404 [==============================] - 0s 229us/sample - loss: 6.5341 - mse: 6.5341 - mae: 1.8383 - val_loss: 18.0699 - val_mse: 18.0699 - val_mae: 2.7491\n",
      "Epoch 53/75\n",
      "404/404 [==============================] - 0s 220us/sample - loss: 6.4591 - mse: 6.4591 - mae: 1.8082 - val_loss: 17.8624 - val_mse: 17.8624 - val_mae: 2.6080\n",
      "Epoch 54/75\n",
      "404/404 [==============================] - 0s 224us/sample - loss: 6.7650 - mse: 6.7650 - mae: 1.8522 - val_loss: 17.3592 - val_mse: 17.3592 - val_mae: 2.6192\n",
      "Epoch 55/75\n",
      "404/404 [==============================] - 0s 230us/sample - loss: 6.5803 - mse: 6.5803 - mae: 1.8434 - val_loss: 17.5681 - val_mse: 17.5681 - val_mae: 2.6738\n",
      "Epoch 56/75\n",
      "404/404 [==============================] - 0s 209us/sample - loss: 6.3201 - mse: 6.3201 - mae: 1.7887 - val_loss: 17.9965 - val_mse: 17.9965 - val_mae: 2.6527\n",
      "Epoch 57/75\n",
      "404/404 [==============================] - 0s 229us/sample - loss: 6.1579 - mse: 6.1579 - mae: 1.7857 - val_loss: 19.2997 - val_mse: 19.2997 - val_mae: 2.8051\n",
      "Epoch 58/75\n",
      "404/404 [==============================] - 0s 225us/sample - loss: 6.1232 - mse: 6.1232 - mae: 1.7864 - val_loss: 18.2005 - val_mse: 18.2005 - val_mae: 2.6426\n",
      "Epoch 59/75\n",
      "404/404 [==============================] - 0s 211us/sample - loss: 6.1175 - mse: 6.1175 - mae: 1.7669 - val_loss: 17.5156 - val_mse: 17.5156 - val_mae: 2.5895\n",
      "Epoch 60/75\n",
      "404/404 [==============================] - 0s 184us/sample - loss: 5.9102 - mse: 5.9102 - mae: 1.7930 - val_loss: 16.8916 - val_mse: 16.8916 - val_mae: 2.5755\n",
      "Epoch 61/75\n",
      "404/404 [==============================] - 0s 203us/sample - loss: 6.0336 - mse: 6.0336 - mae: 1.7621 - val_loss: 17.6530 - val_mse: 17.6530 - val_mae: 2.6573\n",
      "Epoch 62/75\n",
      "404/404 [==============================] - 0s 233us/sample - loss: 5.7328 - mse: 5.7328 - mae: 1.7367 - val_loss: 16.8331 - val_mse: 16.8331 - val_mae: 2.5728\n",
      "Epoch 63/75\n",
      "404/404 [==============================] - 0s 236us/sample - loss: 5.7354 - mse: 5.7354 - mae: 1.7114 - val_loss: 16.7695 - val_mse: 16.7695 - val_mae: 2.5224\n",
      "Epoch 64/75\n",
      "404/404 [==============================] - 0s 218us/sample - loss: 5.5810 - mse: 5.5810 - mae: 1.7168 - val_loss: 16.7205 - val_mse: 16.7205 - val_mae: 2.5704\n",
      "Epoch 65/75\n",
      "404/404 [==============================] - 0s 233us/sample - loss: 5.5630 - mse: 5.5630 - mae: 1.7089 - val_loss: 16.2427 - val_mse: 16.2427 - val_mae: 2.5288\n",
      "Epoch 66/75\n",
      "404/404 [==============================] - 0s 205us/sample - loss: 5.3973 - mse: 5.3973 - mae: 1.6497 - val_loss: 16.7536 - val_mse: 16.7536 - val_mae: 2.5316\n",
      "Epoch 67/75\n",
      "404/404 [==============================] - 0s 212us/sample - loss: 5.4965 - mse: 5.4965 - mae: 1.7223 - val_loss: 17.1449 - val_mse: 17.1449 - val_mae: 2.6280\n",
      "Epoch 68/75\n",
      "404/404 [==============================] - 0s 220us/sample - loss: 5.4154 - mse: 5.4154 - mae: 1.7128 - val_loss: 16.3585 - val_mse: 16.3584 - val_mae: 2.5762\n",
      "Epoch 69/75\n",
      "404/404 [==============================] - 0s 199us/sample - loss: 5.4045 - mse: 5.4045 - mae: 1.6823 - val_loss: 16.2567 - val_mse: 16.2567 - val_mae: 2.5405\n",
      "Epoch 70/75\n",
      "404/404 [==============================] - 0s 212us/sample - loss: 5.5419 - mse: 5.5419 - mae: 1.7303 - val_loss: 14.9679 - val_mse: 14.9679 - val_mae: 2.4593\n",
      "Epoch 71/75\n",
      "404/404 [==============================] - 0s 353us/sample - loss: 5.1682 - mse: 5.1682 - mae: 1.6507 - val_loss: 16.0708 - val_mse: 16.0708 - val_mae: 2.5390\n",
      "Epoch 72/75\n",
      "404/404 [==============================] - 0s 653us/sample - loss: 5.0159 - mse: 5.0159 - mae: 1.6153 - val_loss: 15.4341 - val_mse: 15.4341 - val_mae: 2.4589\n",
      "Epoch 73/75\n",
      "404/404 [==============================] - 0s 770us/sample - loss: 5.1199 - mse: 5.1199 - mae: 1.6376 - val_loss: 15.1083 - val_mse: 15.1083 - val_mae: 2.4533\n",
      "Epoch 74/75\n",
      "404/404 [==============================] - 0s 578us/sample - loss: 5.0215 - mse: 5.0215 - mae: 1.6121 - val_loss: 15.5793 - val_mse: 15.5793 - val_mae: 2.4603\n",
      "Epoch 75/75\n",
      "404/404 [==============================] - 0s 487us/sample - loss: 4.9445 - mse: 4.9445 - mae: 1.6046 - val_loss: 15.3073 - val_mse: 15.3073 - val_mae: 2.5006\n"
     ]
    },
    {
     "data": {
      "text/plain": [
       "<tensorflow.python.keras.callbacks.History at 0x12f921518>"
      ]
     },
     "execution_count": 5,
     "metadata": {},
     "output_type": "execute_result"
    }
   ],
   "source": [
    "from tensorflow import keras\n",
    "from tensorflow.keras.models import Sequential\n",
    "from tensorflow.keras.layers import Dense\n",
    "\n",
    "# Important Hyperparameters\n",
    "inputs = x_train.shape[1]\n",
    "epochs = 75\n",
    "batch_size = 10\n",
    "\n",
    "\n",
    "# Create Model\n",
    "model = Sequential()\n",
    "model.add(Dense(64, activation='relu', input_shape=(inputs,)))\n",
    "model.add(Dense(64, activation='relu'))\n",
    "model.add(Dense(1))\n",
    "\n",
    "# Compile Model\n",
    "model.compile(optimizer='adam', loss='mse', metrics=['mse', 'mae'])\n",
    "\n",
    "# Fit Model\n",
    "model.fit(x_train, y_train, \n",
    "          validation_data=(x_test,y_test), # focus in \n",
    "          epochs=epochs, \n",
    "          batch_size=batch_size\n",
    "         )"
   ]
  },
  {
   "cell_type": "markdown",
   "metadata": {
    "colab_type": "text",
    "id": "sYJ8t_ezHP4W"
   },
   "source": [
    "### Hyperparameter Tuning Approaches:\n",
    "\n",
    "#### 1) Babysitting AKA \"Grad Student Descent\".\n",
    "\n",
    "If you fiddled with any hyperparameters yesterday, this is basically what you did. This approach is 100% manual and is pretty common among researchers where finding that 1 exact specification that jumps your model to a level of accuracy never seen before is the difference between publishing and not publishing a paper. Of course the professors don't do this themselves, that's grunt work. This is also known as the fiddle with hyperparameters until you run out of time method.\n",
    "\n",
    "#### 2) Grid Search\n",
    "\n",
    "Grid Search is the Grad Student galaxy brain realization of: why don't I just specify all the experiments I want to run and let the computer try every possible combination of them while I go and grab lunch. This has a specific downside in that if I specify 5 hyperparameters with 5 options each then I've just created 5^5 combinations of hyperparameters to check. Which means that I have to train 3125 different versions of my model Then if I use 5-fold Cross Validation on that then my model has to run 15,525 times. This is the brute-force method of hyperparameter tuning, but it can be very profitable if done wisely. \n",
    "\n",
    "When using Grid Search here's what I suggest: don't use it to test combinations of different hyperparameters, only use it to test different specifications of **a single** hyperparameter. It's rare that combinations between different hyperparameters lead to big performance gains. You'll get 90-95% of the way there if you just Grid Search one parameter and take the best result, then retain that best result while you test another, and then retain the best specification from that while you train another. This at least makes the situation much more manageable and leads to pretty good results. \n",
    "\n",
    "#### 3) Random Search\n",
    "\n",
    "Do Grid Search for a couple of hours and you'll say to yourself - \"There's got to be a better way.\" Enter Random Search. For Random search you specify a hyperparameter space and it picks specifications from that randomly, tries them out, gives you the best results and says - That's going to have to be good enough, go home and spend time with your family. \n",
    "\n",
    "Grid Search treats every parameter as if it was equally important, but this just isn't the case, some are known to move the needle a lot more than others (we'll talk about that in a minute). Random Search allows searching to be specified along the most important parameter and experiments less along the dimensions of less important hyperparameters. The downside of Random search is that it won't find the absolute best hyperparameters, but it is much less costly to perform than Grid Search. \n",
    "\n",
    "#### 4) Bayesian Methods\n",
    "\n",
    "One thing that can make more manual methods like babysitting and gridsearch effective is that as the experimenter sees results he can then make updates to his future searches taking into account the results of past specifications. If only we could hyperparameter tune our hyperparameter tuning. Well, we kind of can. Enter Bayesian Optimization. Neural Networks are like an optimization problem within an optimization problem, and Bayesian Optimization is a search strategy that tries to take into account the results of past searches in order to improve future ones. This is the most advanced method but can be a little bit tricky to implement, but there are some early steps with `hyperas` which is Bayesian optimization wrapper for `keras`. "
   ]
  },
  {
   "cell_type": "markdown",
   "metadata": {
    "colab_type": "text",
    "id": "HfQ7D043OMMn"
   },
   "source": [
    "## What Hyperparameters are there to test?\n",
    "\n",
    "- batch_size\n",
    "- training epochs\n",
    "- optimization algorithms\n",
    "- learning rate\n",
    "- momentum\n",
    "- activation functions\n",
    "- dropout regularization\n",
    "- number of neurons in the hidden layer\n",
    "\n",
    "There are more, but these are the most important."
   ]
  },
  {
   "cell_type": "markdown",
   "metadata": {},
   "source": [
    "## Follow Along"
   ]
  },
  {
   "cell_type": "markdown",
   "metadata": {
    "colab_type": "text",
    "id": "Mri5-kXzVKAa"
   },
   "source": [
    "## Batch Size\n",
    "\n",
    "Batch size determines how many observations the model is shown before it calculates loss/error and updates the model weights via gradient descent. You're looking for a sweet spot here where you're showing it enough observations that you have enough information to updates the weights, but not such a large batch size that you don't get a lot of weight update iterations performed in a given epoch. Feed-forward Neural Networks aren't as sensitive to bach_size as other networks, but it is still an important hyperparameter to tune. Smaller batch sizes will also take longer to train. "
   ]
  },
  {
   "cell_type": "code",
   "execution_count": 1,
   "metadata": {
    "colab": {
     "base_uri": "https://localhost:8080/",
     "height": 13561
    },
    "colab_type": "code",
    "id": "2smXfriNAGn7",
    "outputId": "ae996575-78e2-43fb-9dbe-5d44aaf0b430"
   },
   "outputs": [
    {
     "name": "stdout",
     "output_type": "stream",
     "text": [
      "Best: 0.6470758080482483 using {'batch_size': 10, 'epochs': 20}\n",
      "Means: 0.6470758080482483, Stdev: 0.04446619961890881 with: {'batch_size': 10, 'epochs': 20}\n",
      "Means: 0.6250063657760621, Stdev: 0.04715253046117109 with: {'batch_size': 20, 'epochs': 20}\n",
      "Means: 0.5506069123744964, Stdev: 0.0665165885895093 with: {'batch_size': 40, 'epochs': 20}\n",
      "Means: 0.574373996257782, Stdev: 0.06607465598487462 with: {'batch_size': 60, 'epochs': 20}\n",
      "Means: 0.5492742598056793, Stdev: 0.07083987956926022 with: {'batch_size': 80, 'epochs': 20}\n",
      "Means: 0.6041252851486206, Stdev: 0.03356222049875606 with: {'batch_size': 100, 'epochs': 20}\n"
     ]
    }
   ],
   "source": [
    "import numpy\n",
    "import pandas as pd\n",
    "from sklearn.model_selection import GridSearchCV\n",
    "from tensorflow.keras.models import Sequential\n",
    "from tensorflow.keras.layers import Dense\n",
    "from tensorflow.keras.wrappers.scikit_learn import KerasClassifier\n",
    "\n",
    "# fix random seed for reproducibility\n",
    "seed = 7\n",
    "numpy.random.seed(seed)\n",
    "\n",
    "# load dataset\n",
    "url =\"https://raw.githubusercontent.com/jbrownlee/Datasets/master/pima-indians-diabetes.data.csv\"\n",
    "\n",
    "dataset = pd.read_csv(url, header=None).values\n",
    "\n",
    "# split into input (X) and output (Y) variables\n",
    "X = dataset[:,0:8]\n",
    "Y = dataset[:,8]\n",
    "\n",
    "# Function to create model, required for KerasClassifier\n",
    "def create_model():\n",
    "    # create model\n",
    "    model = Sequential()\n",
    "    model.add(Dense(12, input_dim=8, activation='relu'))\n",
    "    model.add(Dense(1, activation='sigmoid'))\n",
    "    # Compile model\n",
    "    model.compile(loss='binary_crossentropy', optimizer='adam', metrics=['accuracy'])\n",
    "    return model\n",
    "\n",
    "# create model\n",
    "model = KerasClassifier(build_fn=create_model, verbose=0) # we pass function created above to our KerasClass\n",
    "                                                          # works as any other model would \n",
    "\n",
    "# define the grid search parameters\n",
    "# batch_size = [10, 20, 40, 60, 80, 100]\n",
    "# param_grid = dict(batch_size=batch_size, epochs=epochs)\n",
    "\n",
    "# define the grid search parameters\n",
    "param_grid = {'batch_size': [10, 20, 40, 60, 80, 100],    # these are some of the params we will be manipulating\n",
    "              'epochs': [20]}\n",
    "\n",
    "# Create Grid Search\n",
    "grid = GridSearchCV(estimator=model, param_grid=param_grid, n_jobs=1)  # Not dist. training, dist exp trying to\n",
    "grid_result = grid.fit(X, Y)                                          \n",
    "\n",
    "# Note: look into what is cross validate, again!\n",
    "\n",
    "# Report Results\n",
    "print(f\"Best: {grid_result.best_score_} using {grid_result.best_params_}\")\n",
    "means = grid_result.cv_results_['mean_test_score']\n",
    "stds = grid_result.cv_results_['std_test_score']\n",
    "params = grid_result.cv_results_['params']\n",
    "for mean, stdev, param in zip(means, stds, params):\n",
    "    print(f\"Means: {mean}, Stdev: {stdev} with: {param}\") "
   ]
  },
  {
   "cell_type": "code",
   "execution_count": 5,
   "metadata": {},
   "outputs": [
    {
     "data": {
      "text/plain": [
       "(768, 9)"
      ]
     },
     "execution_count": 5,
     "metadata": {},
     "output_type": "execute_result"
    }
   ],
   "source": [
    "dataset.shape"
   ]
  },
  {
   "cell_type": "markdown",
   "metadata": {
    "colab_type": "text",
    "id": "pmABfjlvXbqi"
   },
   "source": [
    "## Epochs\n",
    "\n",
    "The number of training epochs has a large and direct affect on the accuracy, However, more epochs is almost always goign to better than less epochs. This means that if you tune this parameter at the beginning and try and maintain the same value all throughout your training, you're going to be waiting a long time for each iteration of GridSearch. I suggest picking a fixed moderat # of epochs all throughout your training and then Grid Searching this parameter at the very end. "
   ]
  },
  {
   "cell_type": "code",
   "execution_count": 7,
   "metadata": {
    "colab": {
     "base_uri": "https://localhost:8080/",
     "height": 26329
    },
    "colab_type": "code",
    "id": "bAmxP3N7TmFh",
    "outputId": "3ddb08c4-51ac-4eaa-ff39-143397024544"
   },
   "outputs": [
    {
     "name": "stdout",
     "output_type": "stream",
     "text": [
      "Best: 0.7304982662200927 using {'batch_size': 20, 'epochs': 200}\n",
      "Means: 0.6705627799034118, Stdev: 0.010014703041215987 with: {'batch_size': 20, 'epochs': 20}\n",
      "Means: 0.656268572807312, Stdev: 0.03439644921194647 with: {'batch_size': 20, 'epochs': 40}\n",
      "Means: 0.6953229904174805, Stdev: 0.03848464919676255 with: {'batch_size': 20, 'epochs': 60}\n",
      "Means: 0.7304982662200927, Stdev: 0.020804450487169657 with: {'batch_size': 20, 'epochs': 200}\n"
     ]
    }
   ],
   "source": [
    "# define the grid search parameters\n",
    "param_grid = {'batch_size': [20],\n",
    "              'epochs': [20, 40, 60,200]}\n",
    "\n",
    "# Create Grid Search\n",
    "grid = GridSearchCV(estimator=model, param_grid=param_grid, n_jobs=1)\n",
    "grid_result = grid.fit(X, Y)\n",
    "\n",
    "# Report Results\n",
    "print(f\"Best: {grid_result.best_score_} using {grid_result.best_params_}\")\n",
    "means = grid_result.cv_results_['mean_test_score']\n",
    "stds = grid_result.cv_results_['std_test_score']\n",
    "params = grid_result.cv_results_['params']\n",
    "for mean, stdev, param in zip(means, stds, params):\n",
    "    print(f\"Means: {mean}, Stdev: {stdev} with: {param}\")"
   ]
  },
  {
   "cell_type": "markdown",
   "metadata": {
    "colab_type": "text",
    "id": "EKcuY6OiaLfz"
   },
   "source": [
    "# Optimizer\n",
    "\n",
    "Remember that there's a different optimizers [optimizers](https://keras.io/optimizers/). At some point, take some time to read up on them a little bit. \"adam\" usually gives the best results. The thing to know about choosing an optimizer is that different optimizers have different hyperparameters like learning rate, momentum, etc. So based on the optimizer you choose you might also have to tune the learning rate and momentum of those optimizers after that. "
   ]
  },
  {
   "cell_type": "markdown",
   "metadata": {
    "colab_type": "text",
    "id": "DG3wq5iOaLig"
   },
   "source": [
    "## Learning Rate\n",
    "\n",
    "Remember that the Learning Rate is a hyperparameter that is specific to your gradient-descent based optimizer selection. A learning rate that is too high will cause divergent behavior, but a Learning Rate that is too low will fail to converge, again, you're looking for the sweet spot. I would start out tuning learning rates by orders of magnitude: [.001, .01, .1, .2, .3, .5] etc. I wouldn't go above .5, but you can try it and see what the behavior is like. \n",
    "\n",
    "Once you have narrowed it down, make the window even smaller and try it again. If after running the above specification your model reports that .1 is the best optimizer, then you should probably try things like [.05, .08, .1, .12, .15] to try and narrow it down. \n",
    "\n",
    "It can also be good to tune the number of epochs in combination with the learning rate since the number of iterations that you allow the learning rate to reach the minimum can determine if you have let it run long enough to converge to the minimum. \n",
    "\n",
    "in addition to tuning a statistic learning rate, you can alsu use aa dynamic learning rate via a LearningRateScheduler.  The choise of how the rate is scheduled is itself a hyperperam.  Common choices..."
   ]
  },
  {
   "cell_type": "markdown",
   "metadata": {
    "colab_type": "text",
    "id": "gNTBUWd1aLlA"
   },
   "source": [
    "## Momentum\n",
    "\n",
    "Momentum is a hyperparameter that is more commonly associated with Stochastic Gradient Descent. SGD is a common optimizer because it's what people understand and know, but I doubt it will get you the best results, you can try hyperparameter tuning its attributes and see if you can beat the performance from adam. Momentum is a property that decides the willingness of an optimizer to overshoot the minimum. Imagine a ball rolling down one side of a bowl and then up the opposite side a little bit before settling back to the bottom. The purpose of momentum is to try and escale local minima.\n",
    "\n",
    "Note: you'll see ppl use this with the things we are using today"
   ]
  },
  {
   "cell_type": "markdown",
   "metadata": {
    "colab_type": "text",
    "id": "xnEG-bCJaLnZ"
   },
   "source": [
    "## Activation Functions\n",
    "\n",
    "We've talked about this a little bit, typically you'l want to use ReLU for hidden layers and either Sigmoid, or Softmax for output layers of binary and multi-class classification implementations respectively, but try other activation functions and see if you can get any better results with sigmoid or tanh or something. There are a lot of activation functions that we haven't really talked about. Maybe you'll get good results with them. Maybe you won't. :) <https://keras.io/activations/>\n",
    "\n",
    "Note: no activation functions for regression probs"
   ]
  },
  {
   "cell_type": "markdown",
   "metadata": {
    "colab_type": "text",
    "id": "oul9sPq-dU-h"
   },
   "source": [
    "## Network Weight Initialization\n",
    "\n",
    "You saw how big of an effect the way that we initialize our network's weights can have on our results. There are **a lot** of what are called initialization modes. I don't understand all of them, but they can have a big affect on your model's initial accuracy. Your model will get further with less epochs if you initialize it with weights that are well suited to the problem you're trying to solve.\n",
    "\n",
    "`init_mode = ['uniform', 'lecun_uniform', 'normal', 'zero', 'glorot_normal', 'glorot_uniform', 'he_normal', 'he_uniform']`"
   ]
  },
  {
   "cell_type": "markdown",
   "metadata": {
    "colab_type": "text",
    "id": "bqtEuxeQaLqE"
   },
   "source": [
    "## Dropout Regularization and the Weight Constraint\n",
    "\n",
    "the Dropout Regularization value is a percentage of neurons that you want to be randomly deactivated during training. The weight constraint is a second regularization parameter that works in tandem with dropout regularization. You should tune these two values at the same time. \n",
    "\n",
    "Using dropout on visible vs hidden layers might have a different effect. Using dropout on hidden layers might not have any effect while using dropout on hidden layers might have a substantial effect. You don't necessarily need to turn use dropout unless you see that your model has overfitting and generalizability problems."
   ]
  },
  {
   "cell_type": "markdown",
   "metadata": {
    "colab_type": "text",
    "id": "P2c5Cv6oaLtO"
   },
   "source": [
    "## Neurons in Hidden Layer \n",
    "\n",
    "Remember that when we only had a single perceptron our model was only able to fit to linearly separable data, but as we have added layers and nodes to those layers our network has become a powerhouse of fitting nonlinearity in data. The larger the network and the more nodes generally the stronger the network's capacity to fit nonlinear patterns in data. The more nodes and layers the longer it will take to train a network, and higher the probability of overfitting. The larger your network gets the more you'll need dropout regularization or other regularization techniques to keep it in check. \n",
    "\n",
    "Typically depth (more layers) is more important than width (more nodes) for neural networks. This is part of why Deep Learning is so highly touted. Certain deep learning architectures have truly been huge breakthroughs for certain machine learning tasks. \n",
    "\n",
    "You might borrow ideas from other network architectures. For example if I was doing image recognition and I wasn't taking cues from state of the art architectures like resnet, alexnet, googlenet, etc. Then I'm probably going to have to do a lot more experimentation on my own before I find something that works.\n",
    "\n",
    "There are some heuristics, but I am highly skeptical of them. I think you're better off experimenting on your own and forming your own intuition for these kinds of problems. \n",
    "\n",
    "- https://machinelearningmastery.com/how-to-configure-the-number-of-layers-and-nodes-in-a-neural-network/"
   ]
  },
  {
   "cell_type": "markdown",
   "metadata": {},
   "source": [
    "## Challenge\n",
    "You will be expected to tune several hyperparameters in today's module project. "
   ]
  },
  {
   "cell_type": "markdown",
   "metadata": {},
   "source": [
    "# Experiment Tracking Framework (Learn)\n",
    "<a id=\"p2\"></a>"
   ]
  },
  {
   "cell_type": "markdown",
   "metadata": {},
   "source": [
    "## Overview\n",
    "\n",
    "You will notice quickly that managing the results of all the experiments you are running becomes challenging. Which set of parameters did the best? Are my results today different than my results yesterday? Although we use Ipython Notebooks to work, the format is not well suited to logging experimental results. Enter experiment tracking frameworks like [Comet.ml](https://comet.ml) and [Weights and Biases](https://wandb.ai/).\n",
    "\n",
    "Those tools will help you track your experiments, store the results, and the code associated with those experiments. Experimental results can also be readily visualized to see changes in performance across any metric you care about. Data is sent to the tool as each epoch is completed, so you can also see if your model is converging. Let's check out Weights & Biases today. "
   ]
  },
  {
   "cell_type": "markdown",
   "metadata": {},
   "source": [
    "## Follow Along\n",
    "\n",
    "Make sure you login into `wandb` in the terminal before running the next cell. "
   ]
  },
  {
   "cell_type": "code",
   "execution_count": 9,
   "metadata": {},
   "outputs": [
    {
     "name": "stdout",
     "output_type": "stream",
     "text": [
      "\u001b[34m\u001b[1mwandb\u001b[0m: Appending key for api.wandb.ai to your netrc file: /Users/flanuer/.netrc\n",
      "\u001b[32mSuccessfully logged in to Weights & Biases!\u001b[0m\n"
     ]
    }
   ],
   "source": [
    "!wandb login db24a3abcb3e599299e5cddedefda9616c319c85"
   ]
  },
  {
   "cell_type": "code",
   "execution_count": 10,
   "metadata": {},
   "outputs": [],
   "source": [
    "import wandb\n",
    "from wandb.keras import WandbCallback"
   ]
  },
  {
   "cell_type": "code",
   "execution_count": 13,
   "metadata": {
    "colab": {
     "base_uri": "https://localhost:8080/",
     "height": 1750
    },
    "colab_type": "code",
    "id": "GMXVfmzXp1Oo",
    "outputId": "b05e251e-508f-46e6-865b-f869ae2a5dc4"
   },
   "outputs": [
    {
     "data": {
      "text/html": [
       "\n",
       "                Logging results to <a href=\"https://wandb.com\" target=\"_blank\">Weights & Biases</a> <a href=\"https://docs.wandb.com/integrations/jupyter.html\" target=\"_blank\">(Documentation)</a>.<br/>\n",
       "                Project page: <a href=\"https://app.wandb.ai/ds8/ds10_inclass\" target=\"_blank\">https://app.wandb.ai/ds8/ds10_inclass</a><br/>\n",
       "                Run page: <a href=\"https://app.wandb.ai/ds8/ds10_inclass/runs/qrw7xyk5\" target=\"_blank\">https://app.wandb.ai/ds8/ds10_inclass/runs/qrw7xyk5</a><br/>\n",
       "            "
      ],
      "text/plain": [
       "<IPython.core.display.HTML object>"
      ]
     },
     "metadata": {},
     "output_type": "display_data"
    },
    {
     "name": "stderr",
     "output_type": "stream",
     "text": [
      "Failed to query for notebook name, you can set it manually with the WANDB_NOTEBOOK_NAME environment variable\n"
     ]
    },
    {
     "name": "stdout",
     "output_type": "stream",
     "text": [
      "Train on 270 samples, validate on 134 samples\n",
      "Epoch 1/50\n",
      "270/270 [==============================] - 1s 5ms/sample - loss: 516.9558 - mse: 516.9557 - mae: 21.2155 - val_loss: 543.8856 - val_mse: 543.8857 - val_mae: 21.5520\n",
      "Epoch 2/50\n",
      "270/270 [==============================] - 0s 656us/sample - loss: 370.9802 - mse: 370.9803 - mae: 17.9120 - val_loss: 297.2922 - val_mse: 297.2922 - val_mae: 14.8910\n",
      "Epoch 3/50\n",
      "270/270 [==============================] - 0s 593us/sample - loss: 132.7816 - mse: 132.7816 - mae: 9.4481 - val_loss: 87.5607 - val_mse: 87.5607 - val_mae: 6.7253\n",
      "Epoch 4/50\n",
      "270/270 [==============================] - 0s 607us/sample - loss: 34.6632 - mse: 34.6632 - mae: 4.0112 - val_loss: 47.6648 - val_mse: 47.6648 - val_mae: 4.3900\n",
      "Epoch 5/50\n",
      "270/270 [==============================] - 0s 403us/sample - loss: 23.9348 - mse: 23.9348 - mae: 3.3233 - val_loss: 42.3689 - val_mse: 42.3689 - val_mae: 4.1018\n",
      "Epoch 6/50\n",
      "270/270 [==============================] - 0s 336us/sample - loss: 20.9793 - mse: 20.9793 - mae: 3.1022 - val_loss: 37.6612 - val_mse: 37.6612 - val_mae: 3.9143\n",
      "Epoch 7/50\n",
      "270/270 [==============================] - 0s 377us/sample - loss: 18.9191 - mse: 18.9191 - mae: 2.9597 - val_loss: 33.8391 - val_mse: 33.8391 - val_mae: 3.6942\n",
      "Epoch 8/50\n",
      "270/270 [==============================] - 0s 332us/sample - loss: 17.3280 - mse: 17.3280 - mae: 2.8719 - val_loss: 31.5225 - val_mse: 31.5225 - val_mae: 3.5611\n",
      "Epoch 9/50\n",
      "270/270 [==============================] - 0s 332us/sample - loss: 16.1467 - mse: 16.1467 - mae: 2.7946 - val_loss: 30.1899 - val_mse: 30.1899 - val_mae: 3.3595\n",
      "Epoch 10/50\n",
      "270/270 [==============================] - 0s 346us/sample - loss: 14.8763 - mse: 14.8763 - mae: 2.6705 - val_loss: 27.4636 - val_mse: 27.4636 - val_mae: 3.3206\n",
      "Epoch 11/50\n",
      "270/270 [==============================] - 0s 357us/sample - loss: 14.5954 - mse: 14.5954 - mae: 2.7741 - val_loss: 27.4473 - val_mse: 27.4473 - val_mae: 3.1336\n",
      "Epoch 12/50\n",
      "270/270 [==============================] - 0s 331us/sample - loss: 13.0935 - mse: 13.0935 - mae: 2.4985 - val_loss: 25.7282 - val_mse: 25.7282 - val_mae: 3.2601\n",
      "Epoch 13/50\n",
      "270/270 [==============================] - 0s 340us/sample - loss: 13.2826 - mse: 13.2826 - mae: 2.5791 - val_loss: 24.3958 - val_mse: 24.3958 - val_mae: 3.0266\n",
      "Epoch 14/50\n",
      "270/270 [==============================] - 0s 232us/sample - loss: 12.4685 - mse: 12.4685 - mae: 2.4703 - val_loss: 24.8843 - val_mse: 24.8843 - val_mae: 3.1565\n",
      "Epoch 15/50\n",
      "270/270 [==============================] - 0s 293us/sample - loss: 12.0923 - mse: 12.0923 - mae: 2.4475 - val_loss: 22.9095 - val_mse: 22.9095 - val_mae: 3.0392\n",
      "Epoch 16/50\n",
      "270/270 [==============================] - 0s 227us/sample - loss: 11.5450 - mse: 11.5450 - mae: 2.3953 - val_loss: 22.9249 - val_mse: 22.9249 - val_mae: 2.8302\n",
      "Epoch 17/50\n",
      "270/270 [==============================] - 0s 320us/sample - loss: 11.0451 - mse: 11.0451 - mae: 2.3944 - val_loss: 21.0876 - val_mse: 21.0876 - val_mae: 2.8295\n",
      "Epoch 18/50\n",
      "270/270 [==============================] - 0s 317us/sample - loss: 10.4220 - mse: 10.4220 - mae: 2.2823 - val_loss: 20.8542 - val_mse: 20.8542 - val_mae: 2.7615\n",
      "Epoch 19/50\n",
      "270/270 [==============================] - 0s 330us/sample - loss: 9.8986 - mse: 9.8986 - mae: 2.2195 - val_loss: 20.4494 - val_mse: 20.4494 - val_mae: 2.7362\n",
      "Epoch 20/50\n",
      "270/270 [==============================] - 0s 297us/sample - loss: 10.0566 - mse: 10.0566 - mae: 2.3353 - val_loss: 21.2701 - val_mse: 21.2701 - val_mae: 2.7518\n",
      "Epoch 21/50\n",
      "270/270 [==============================] - 0s 319us/sample - loss: 10.1660 - mse: 10.1660 - mae: 2.2091 - val_loss: 19.9442 - val_mse: 19.9442 - val_mae: 2.6651\n",
      "Epoch 22/50\n",
      "270/270 [==============================] - 0s 325us/sample - loss: 9.2349 - mse: 9.2349 - mae: 2.1584 - val_loss: 18.3639 - val_mse: 18.3639 - val_mae: 2.6871\n",
      "Epoch 23/50\n",
      "270/270 [==============================] - 0s 234us/sample - loss: 8.8453 - mse: 8.8453 - mae: 2.2149 - val_loss: 18.6711 - val_mse: 18.6711 - val_mae: 2.6682\n",
      "Epoch 24/50\n",
      "270/270 [==============================] - 0s 250us/sample - loss: 9.0578 - mse: 9.0578 - mae: 2.1835 - val_loss: 19.4892 - val_mse: 19.4892 - val_mae: 2.6281\n",
      "Epoch 25/50\n",
      "270/270 [==============================] - 0s 295us/sample - loss: 9.2251 - mse: 9.2251 - mae: 2.2004 - val_loss: 17.4079 - val_mse: 17.4079 - val_mae: 2.5823\n",
      "Epoch 26/50\n",
      "270/270 [==============================] - 0s 218us/sample - loss: 8.2244 - mse: 8.2244 - mae: 2.0608 - val_loss: 17.9735 - val_mse: 17.9735 - val_mae: 2.5736\n",
      "Epoch 27/50\n",
      "270/270 [==============================] - 0s 368us/sample - loss: 8.4338 - mse: 8.4338 - mae: 2.0817 - val_loss: 17.2695 - val_mse: 17.2695 - val_mae: 2.6064\n",
      "Epoch 28/50\n",
      "270/270 [==============================] - 0s 443us/sample - loss: 8.2482 - mse: 8.2482 - mae: 2.0426 - val_loss: 18.4992 - val_mse: 18.4992 - val_mae: 2.7659\n",
      "Epoch 29/50\n",
      "270/270 [==============================] - 0s 483us/sample - loss: 8.0549 - mse: 8.0549 - mae: 2.1101 - val_loss: 17.0583 - val_mse: 17.0583 - val_mae: 2.5622\n",
      "Epoch 30/50\n",
      "270/270 [==============================] - 0s 487us/sample - loss: 8.4630 - mse: 8.4630 - mae: 2.1282 - val_loss: 17.4585 - val_mse: 17.4585 - val_mae: 2.6496\n",
      "Epoch 31/50\n",
      "270/270 [==============================] - 0s 606us/sample - loss: 7.8555 - mse: 7.8555 - mae: 2.0441 - val_loss: 18.4978 - val_mse: 18.4978 - val_mae: 2.8999\n",
      "Epoch 32/50\n",
      "270/270 [==============================] - 0s 451us/sample - loss: 9.6252 - mse: 9.6252 - mae: 2.3195 - val_loss: 21.7421 - val_mse: 21.7421 - val_mae: 3.2857\n",
      "Epoch 33/50\n",
      "270/270 [==============================] - 0s 543us/sample - loss: 8.7145 - mse: 8.7145 - mae: 2.0990 - val_loss: 16.5579 - val_mse: 16.5579 - val_mae: 2.5331\n",
      "Epoch 34/50\n",
      "270/270 [==============================] - 0s 642us/sample - loss: 8.0458 - mse: 8.0458 - mae: 2.1133 - val_loss: 16.4252 - val_mse: 16.4252 - val_mae: 2.5637\n",
      "Epoch 35/50\n",
      "270/270 [==============================] - 0s 687us/sample - loss: 7.2342 - mse: 7.2342 - mae: 1.9542 - val_loss: 16.4018 - val_mse: 16.4018 - val_mae: 2.4944\n",
      "Epoch 36/50\n",
      "270/270 [==============================] - 0s 873us/sample - loss: 7.4873 - mse: 7.4873 - mae: 1.9721 - val_loss: 15.9388 - val_mse: 15.9388 - val_mae: 2.5622\n",
      "Epoch 37/50\n",
      "270/270 [==============================] - 0s 560us/sample - loss: 7.2517 - mse: 7.2517 - mae: 1.9275 - val_loss: 16.5091 - val_mse: 16.5091 - val_mae: 2.5475\n",
      "Epoch 38/50\n",
      "270/270 [==============================] - 0s 401us/sample - loss: 7.4658 - mse: 7.4658 - mae: 1.9827 - val_loss: 16.2280 - val_mse: 16.2280 - val_mae: 2.5900\n",
      "Epoch 39/50\n",
      "270/270 [==============================] - 0s 541us/sample - loss: 7.2305 - mse: 7.2305 - mae: 1.9535 - val_loss: 17.7810 - val_mse: 17.7810 - val_mae: 2.6945\n",
      "Epoch 40/50\n",
      "270/270 [==============================] - 0s 520us/sample - loss: 7.7564 - mse: 7.7564 - mae: 2.0525 - val_loss: 15.3800 - val_mse: 15.3800 - val_mae: 2.4822\n",
      "Epoch 41/50\n",
      "270/270 [==============================] - 0s 407us/sample - loss: 6.6889 - mse: 6.6889 - mae: 1.8786 - val_loss: 15.5349 - val_mse: 15.5349 - val_mae: 2.4851\n",
      "Epoch 42/50\n",
      "270/270 [==============================] - 0s 556us/sample - loss: 6.6461 - mse: 6.6461 - mae: 1.8848 - val_loss: 14.6121 - val_mse: 14.6121 - val_mae: 2.4321\n",
      "Epoch 43/50\n",
      "270/270 [==============================] - 0s 378us/sample - loss: 6.6768 - mse: 6.6768 - mae: 1.8904 - val_loss: 14.8899 - val_mse: 14.8899 - val_mae: 2.4000\n",
      "Epoch 44/50\n",
      "270/270 [==============================] - 0s 595us/sample - loss: 6.7014 - mse: 6.7014 - mae: 1.8780 - val_loss: 15.4628 - val_mse: 15.4628 - val_mae: 2.5197\n",
      "Epoch 45/50\n",
      "270/270 [==============================] - 0s 453us/sample - loss: 7.0247 - mse: 7.0247 - mae: 1.9453 - val_loss: 15.1424 - val_mse: 15.1424 - val_mae: 2.4588\n",
      "Epoch 46/50\n",
      "270/270 [==============================] - 0s 367us/sample - loss: 7.0427 - mse: 7.0427 - mae: 1.9672 - val_loss: 17.1980 - val_mse: 17.1980 - val_mae: 2.6448\n",
      "Epoch 47/50\n",
      "270/270 [==============================] - 0s 360us/sample - loss: 7.2271 - mse: 7.2271 - mae: 1.9698 - val_loss: 14.9313 - val_mse: 14.9313 - val_mae: 2.4442\n",
      "Epoch 48/50\n",
      "270/270 [==============================] - 0s 352us/sample - loss: 7.2346 - mse: 7.2346 - mae: 1.9844 - val_loss: 15.6364 - val_mse: 15.6364 - val_mae: 2.6016\n",
      "Epoch 49/50\n",
      "270/270 [==============================] - 0s 420us/sample - loss: 6.2806 - mse: 6.2806 - mae: 1.8231 - val_loss: 14.3535 - val_mse: 14.3535 - val_mae: 2.4535\n",
      "Epoch 50/50\n",
      "270/270 [==============================] - 0s 377us/sample - loss: 7.1369 - mse: 7.1369 - mae: 1.9149 - val_loss: 15.4960 - val_mse: 15.4960 - val_mae: 2.6931\n"
     ]
    },
    {
     "data": {
      "text/plain": [
       "<tensorflow.python.keras.callbacks.History at 0x131aa9f98>"
      ]
     },
     "execution_count": 13,
     "metadata": {},
     "output_type": "execute_result"
    }
   ],
   "source": [
    "wandb.init(project=\"ds10_inclass\", entity=\"ds8\") #Initializes and Experiment\n",
    "\n",
    "# Important Hyperparameters\n",
    "X =  x_train\n",
    "y =  y_train\n",
    "\n",
    "inputs = X.shape[1]\n",
    "wandb.config.epochs = 30\n",
    "wandb.config.batch_size = 10\n",
    "\n",
    "# Create Model\n",
    "model = Sequential()\n",
    "model.add(Dense(64, activation='relu', input_shape=(inputs,)))\n",
    "model.add(Dense(64, activation='relu'))\n",
    "model.add(Dense(64, activation='relu'))\n",
    "model.add(Dense(1))\n",
    "# Compile Model\n",
    "model.compile(optimizer='adam', loss='mse', metrics=['mse', 'mae'])\n",
    "\n",
    "# Fit Model\n",
    "model.fit(X, y, \n",
    "          validation_split=0.33, \n",
    "          epochs=wandb.config.epochs, \n",
    "          batch_size=wandb.config.batch_size, \n",
    "          callbacks=[WandbCallback()]\n",
    "         )"
   ]
  },
  {
   "cell_type": "markdown",
   "metadata": {},
   "source": [
    "## Challenge\n",
    "\n",
    "You will be expected to use Weights & Biases to try to tune your model during your module assignment today. "
   ]
  },
  {
   "cell_type": "markdown",
   "metadata": {},
   "source": [
    "# Hyperparameters with RandomSearchCV (Learn)"
   ]
  },
  {
   "cell_type": "markdown",
   "metadata": {},
   "source": [
    "## Overview\n",
    "\n",
    "Basically `GridSearchCV` takes forever. You'll want to adopt a slightly more sophiscated strategy."
   ]
  },
  {
   "cell_type": "markdown",
   "metadata": {},
   "source": [
    "## Follow Along"
   ]
  },
  {
   "cell_type": "code",
   "execution_count": 9,
   "metadata": {},
   "outputs": [],
   "source": [
    "sweep_config = {\n",
    "    'method': 'random',\n",
    "    'parameters': {\n",
    "        'learning_rate': {'distribution': 'normal'},\n",
    "        'epochs': {'distribution': 'uniform',\n",
    "                    'min': 100,\n",
    "                    'max': 1000},\n",
    "        'batch_size': {'distribution': 'uniform',\n",
    "            'min': 10,\n",
    "            'max': 400}\n",
    "    }\n",
    "}"
   ]
  },
  {
   "cell_type": "code",
   "execution_count": 13,
   "metadata": {},
   "outputs": [
    {
     "name": "stdout",
     "output_type": "stream",
     "text": [
      "Create sweep with ID: huau0u9r\n",
      "Sweep URL: https://app.wandb.ai/lambda-ds7/boston/sweeps/huau0u9r\n"
     ]
    }
   ],
   "source": [
    "sweep_id = wandb.sweep(sweep_config)"
   ]
  },
  {
   "cell_type": "code",
   "execution_count": 11,
   "metadata": {},
   "outputs": [],
   "source": [
    "import wandb\n",
    "from wandb.keras import WandbCallback\n",
    "#Initializes and Experiment\n",
    "\n",
    "from tensorflow.keras.optimizers import Adam\n",
    "\n",
    "# Important Hyperparameters\n",
    "X =  x_train\n",
    "y =  y_train\n",
    "\n",
    "inputs = X.shape[1]\n",
    "\n",
    "def train():\n",
    "    \n",
    "    wandb.init(project=\"boston\", entity=\"lambda-ds7\") \n",
    "    \n",
    "    config = wandb.config\n",
    "\n",
    "    # Create Model\n",
    "    model = Sequential()\n",
    "    model.add(Dense(64, activation='relu', input_shape=(inputs,)))\n",
    "    model.add(Dense(64, activation='relu'))\n",
    "    model.add(Dense(64, activation='relu'))\n",
    "    model.add(Dense(1))\n",
    "\n",
    "    # Optimizer \n",
    "    adam = Adam(learning_rate=config.learning_rate)\n",
    "\n",
    "    # Compile Model\n",
    "    model.compile(optimizer=adam, loss='mse', metrics=['mse', 'mae'])\n",
    "\n",
    "    # Fit Model\n",
    "    model.fit(X, y, \n",
    "              validation_split=0.33, \n",
    "              epochs=config.epochs, \n",
    "              batch_size=config.batch_size, \n",
    "              callbacks=[WandbCallback()]\n",
    "             )"
   ]
  },
  {
   "cell_type": "code",
   "execution_count": null,
   "metadata": {},
   "outputs": [
    {
     "name": "stdout",
     "output_type": "stream",
     "text": [
      "wandb: Agent Starting Run: 2g77kp6k with config:\n",
      "\tbatch_size: 308.503347845309\n",
      "\tepochs: 704.9395850579006\n",
      "\tlearning_rate: 1.480005523005428\n",
      "wandb: Agent Started Run: 2g77kp6k\n"
     ]
    },
    {
     "data": {
      "text/html": [
       "\n",
       "                Logging results to <a href=\"https://wandb.com\" target=\"_blank\">Weights & Biases</a> <a href=\"https://docs.wandb.com/integrations/jupyter.html\" target=\"_blank\">(Documentation)</a>.<br/>\n",
       "                Project page: <a href=\"https://app.wandb.ai/lambda-ds7/boston\" target=\"_blank\">https://app.wandb.ai/lambda-ds7/boston</a><br/>\n",
       "                Run page: <a href=\"https://app.wandb.ai/lambda-ds7/boston/runs/t4w9l4ye\" target=\"_blank\">https://app.wandb.ai/lambda-ds7/boston/runs/t4w9l4ye</a><br/>\n",
       "            "
      ],
      "text/plain": [
       "<IPython.core.display.HTML object>"
      ]
     },
     "metadata": {},
     "output_type": "display_data"
    }
   ],
   "source": [
    "wandb.agent(sweep_id, function=train)"
   ]
  },
  {
   "cell_type": "markdown",
   "metadata": {},
   "source": [
    "## Challenge\n",
    "\n",
    "Try to apply RandomSearchCV to your module project today. "
   ]
  },
  {
   "cell_type": "markdown",
   "metadata": {},
   "source": [
    "# Review\n",
    "* <a href=\"#p1\">Part 1</a>: Describe the major hyperparemeters to tune\n",
    "    - Activation Functions\n",
    "    - Optimizer\n",
    "    - Number of Layers\n",
    "    - Number of Neurons\n",
    "    - Batch Size\n",
    "    - Dropout Regulaization\n",
    "    - Learning Rate\n",
    "    - Number of Epochs\n",
    "    - and many more\n",
    "* <a href=\"#p2\">Part 2</a>: Implement an experiment tracking framework\n",
    "    - Weights & Biases\n",
    "    - Comet.ml\n",
    "    - By Hand / GridSearch\n",
    "* <a href=\"#p3\">Part 3</a>: Search the hyperparameter space using RandomSearch\n",
    "    - Sklearn still useful (haha)\n",
    "    - Integration with Wieghts & Biases\n",
    "* <a href=\"#p4\">Part 4</a>: Discuss emerging hyperparameter tuning strategies\n",
    "    - Bayesian Optimization\n",
    "    - Hyperopt\n",
    "    - Genetic Evolution"
   ]
  },
  {
   "cell_type": "markdown",
   "metadata": {},
   "source": [
    "# Sources"
   ]
  },
  {
   "cell_type": "markdown",
   "metadata": {},
   "source": [
    "## Additional Reading\n",
    "- https://machinelearningmastery.com/grid-search-hyperparameters-deep-learning-models-python-keras/\n",
    "- https://blog.floydhub.com/guide-to-hyperparameters-search-for-deep-learning-models/\n",
    "- https://machinelearningmastery.com/dropout-regularization-deep-learning-models-keras/\n",
    "- https://machinelearningmastery.com/introduction-to-weight-constraints-to-reduce-generalization-error-in-deep-learning/\n",
    "- https://machinelearningmastery.com/how-to-configure-the-number-of-layers-and-nodes-in-a-neural-network/"
   ]
  }
 ],
 "metadata": {
  "kernelspec": {
   "display_name": "U4-S2-NN (Python3)",
   "language": "python",
   "name": "u4-s1-nn"
  },
  "language_info": {
   "codemirror_mode": {
    "name": "ipython",
    "version": 3
   },
   "file_extension": ".py",
   "mimetype": "text/x-python",
   "name": "python",
   "nbconvert_exporter": "python",
   "pygments_lexer": "ipython3",
   "version": "3.7.0"
  }
 },
 "nbformat": 4,
 "nbformat_minor": 4
}
