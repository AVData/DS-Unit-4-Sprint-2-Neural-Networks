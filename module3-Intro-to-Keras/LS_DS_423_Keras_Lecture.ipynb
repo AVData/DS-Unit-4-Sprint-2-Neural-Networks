{
 "cells": [
  {
   "cell_type": "markdown",
   "metadata": {
    "colab_type": "text",
    "id": "HJzTIkYAsLxw"
   },
   "source": [
    "Lambda School Data Science\n",
    "\n",
    "*Unit 4, Sprint 2, Module 3*\n",
    "\n",
    "---"
   ]
  },
  {
   "cell_type": "markdown",
   "metadata": {
    "colab_type": "text",
    "id": "HJzTIkYAsLxw"
   },
   "source": [
    "# Neural Network Frameworks (Prepare)"
   ]
  },
  {
   "cell_type": "markdown",
   "metadata": {
    "colab_type": "text",
    "id": "HJzTIkYAsLxw"
   },
   "source": [
    "## Learning Objectives\n",
    "* <a href=\"#p1\">Part 1</a>: Introduce the Keras Sequential Model API\n",
    "* <a href=\"#p2\">Part 2</a>: Learn How to Select Model Architecture \n",
    "* <a href=\"#p3\">Part 3</a>: Discuss the trade-off between various activation functions\n",
    "\n",
    "## Lets Use Libraries!\n",
    "\n",
    "The objective of the last two days has been to familiarize you with the fundamentals of neural networks: terminology, structure of networks, forward propagation, error/cost functions, backpropagation, epochs, and gradient descent. We have tried to reinforce these topics by requiring to you code some of the simplest neural networks by hand including Perceptrons (single node neural networks) and Multi-Layer Perceptrons also known as Feed-Forward Neural Networks. Continuing to do things by hand would not be the best use of our limited time. You're ready to graduate from doing things by hand and start using some powerful libraries to build cutting-edge predictive models. "
   ]
  },
  {
   "cell_type": "markdown",
   "metadata": {},
   "source": [
    "# Keras Sequential API (Learn)"
   ]
  },
  {
   "cell_type": "markdown",
   "metadata": {
    "toc-hr-collapsed": true
   },
   "source": [
    "## Overview\n",
    "\n",
    "> \"Keras is a high-level neural networks API, written in Python and capable of running on top of TensorFlow, CNTK, or Theano. It was developed with a focus on enabling fast experimentation. Being able to go from idea to result with the least possible delay is key to doing good research. Use Keras if you need a deep learning library that:\n",
    "\n",
    "> Allows for easy and fast prototyping (through user friendliness, modularity, and extensibility).\n",
    "Supports both convolutional networks and recurrent networks, as well as combinations of the two.\n",
    "Runs seamlessly on CPU and GPU.\" "
   ]
  },
  {
   "cell_type": "markdown",
   "metadata": {
    "colab_type": "text",
    "id": "AIJoRBxHy27n"
   },
   "source": [
    "### Keras Perceptron Sample"
   ]
  },
  {
   "cell_type": "code",
   "execution_count": 37,
   "metadata": {},
   "outputs": [],
   "source": [
    "import pandas as pd\n",
    "\n",
    "data = { 'x1': [0,1,0,1],\n",
    "         'x2': [0,0,1,1],\n",
    "         'y':  [1,1,1,0]\n",
    "       }\n",
    "\n",
    "df = pd.DataFrame.from_dict(data).astype('int')\n",
    "X = df[['x1', 'x2']].values\n",
    "y = df['y'].values"
   ]
  },
  {
   "cell_type": "code",
   "execution_count": 38,
   "metadata": {
    "colab": {
     "base_uri": "https://localhost:8080/",
     "height": 5216
    },
    "colab_type": "code",
    "id": "TQxyONqKvFxB",
    "outputId": "12966e66-2297-4f82-85b3-c275a9c38563"
   },
   "outputs": [
    {
     "name": "stdout",
     "output_type": "stream",
     "text": [
      "Train on 4 samples\n",
      "Epoch 1/5\n",
      "4/4 [==============================] - 0s 56ms/sample - loss: 0.7737 - accuracy: 0.2500\n",
      "Epoch 2/5\n",
      "4/4 [==============================] - 0s 562us/sample - loss: 0.7731 - accuracy: 0.5000\n",
      "Epoch 3/5\n",
      "4/4 [==============================] - 0s 592us/sample - loss: 0.7725 - accuracy: 0.5000\n",
      "Epoch 4/5\n",
      "4/4 [==============================] - 0s 638us/sample - loss: 0.7719 - accuracy: 0.5000\n",
      "Epoch 5/5\n",
      "4/4 [==============================] - 0s 617us/sample - loss: 0.7713 - accuracy: 0.5000\n"
     ]
    },
    {
     "data": {
      "text/plain": [
       "<tensorflow.python.keras.callbacks.History at 0x133b031d0>"
      ]
     },
     "execution_count": 38,
     "metadata": {},
     "output_type": "execute_result"
    }
   ],
   "source": [
    "from tensorflow.keras.models import Sequential\n",
    "from tensorflow.keras.layers import Dense\n",
    "\n",
    "# This is our perceptron from Monday's by-hand: \n",
    "model = Sequential()\n",
    "model.add(Dense(1,input_dim=2, activation='sigmoid'))\n",
    "model.compile(loss='binary_crossentropy', optimizer='adam', metrics=['accuracy'])\n",
    "model.fit(X,y, epochs=5)"
   ]
  },
  {
   "cell_type": "code",
   "execution_count": 39,
   "metadata": {
    "colab": {
     "base_uri": "https://localhost:8080/",
     "height": 69
    },
    "colab_type": "code",
    "id": "Z1wfKUxszPKa",
    "outputId": "0cdacd1d-6e5a-4bbe-fabb-568cd94724be"
   },
   "outputs": [
    {
     "name": "stdout",
     "output_type": "stream",
     "text": [
      "4/4 [==============================] - 0s 14ms/sample - loss: 0.7707 - accuracy: 0.5000\n",
      "accuracy: 50.0\n"
     ]
    }
   ],
   "source": [
    "# evaluate the model\n",
    "scores = model.evaluate(X, y)\n",
    "print(f\"{model.metrics_names[1]}: {scores[1]*100}\")"
   ]
  },
  {
   "cell_type": "markdown",
   "metadata": {
    "toc-hr-collapsed": true
   },
   "source": [
    "## Follow Along\n",
    "\n",
    "In the `Sequential` api model, you specify a model architecture by 'sequentially specifying layers. This type of specification works well for feed forward neural networks in which the data flows in one direction (forward propagation) and the error flows in the opposite direction (backwards propagation). The Keras `Sequential` API follows a standardarized worklow to estimate a 'net: \n",
    "\n",
    "1. Load Data\n",
    "2. Define Model\n",
    "3. Compile Model\n",
    "4. Fit Model\n",
    "5. Evaluate Model\n",
    "\n",
    "You saw these steps in our Keras Perceptron Sample, but let's walk thru each step in detail."
   ]
  },
  {
   "cell_type": "markdown",
   "metadata": {
    "colab_type": "text",
    "id": "Md5D67XwqVAf",
    "toc-hr-collapsed": false
   },
   "source": [
    "### Load Data\n",
    "\n",
    "Our life is going to be easier if our data is already cleaned up and numeric, so lets use this dataset from Jason Brownlee that is already numeric and has no column headers so we'll need to slice off the last column of data to act as our y values."
   ]
  },
  {
   "cell_type": "code",
   "execution_count": 40,
   "metadata": {
    "colab": {
     "base_uri": "https://localhost:8080/",
     "height": 109,
     "resources": {
      "http://localhost:8080/nbextensions/google.colab/files.js": {
       "data": "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",
       "headers": [
        [
         "content-type",
         "application/javascript"
        ]
       ],
       "ok": true,
       "status": 200,
       "status_text": ""
      }
     }
    },
    "colab_type": "code",
    "id": "bn09phMBpY1J",
    "outputId": "1c45fb6a-e3cb-4ec1-fb85-de52b3c60bae"
   },
   "outputs": [],
   "source": [
    "import pandas as pd\n",
    "\n",
    "url =\"https://raw.githubusercontent.com/jbrownlee/Datasets/master/pima-indians-diabetes.data.csv\"\n",
    "\n",
    "dataset = pd.read_csv(url, header=None)"
   ]
  },
  {
   "cell_type": "code",
   "execution_count": 41,
   "metadata": {},
   "outputs": [
    {
     "data": {
      "text/html": [
       "<div>\n",
       "<style scoped>\n",
       "    .dataframe tbody tr th:only-of-type {\n",
       "        vertical-align: middle;\n",
       "    }\n",
       "\n",
       "    .dataframe tbody tr th {\n",
       "        vertical-align: top;\n",
       "    }\n",
       "\n",
       "    .dataframe thead th {\n",
       "        text-align: right;\n",
       "    }\n",
       "</style>\n",
       "<table border=\"1\" class=\"dataframe\">\n",
       "  <thead>\n",
       "    <tr style=\"text-align: right;\">\n",
       "      <th></th>\n",
       "      <th>0</th>\n",
       "      <th>1</th>\n",
       "      <th>2</th>\n",
       "      <th>3</th>\n",
       "      <th>4</th>\n",
       "      <th>5</th>\n",
       "      <th>6</th>\n",
       "      <th>7</th>\n",
       "      <th>8</th>\n",
       "    </tr>\n",
       "  </thead>\n",
       "  <tbody>\n",
       "    <tr>\n",
       "      <th>0</th>\n",
       "      <td>6</td>\n",
       "      <td>148</td>\n",
       "      <td>72</td>\n",
       "      <td>35</td>\n",
       "      <td>0</td>\n",
       "      <td>33.6</td>\n",
       "      <td>0.627</td>\n",
       "      <td>50</td>\n",
       "      <td>1</td>\n",
       "    </tr>\n",
       "    <tr>\n",
       "      <th>1</th>\n",
       "      <td>1</td>\n",
       "      <td>85</td>\n",
       "      <td>66</td>\n",
       "      <td>29</td>\n",
       "      <td>0</td>\n",
       "      <td>26.6</td>\n",
       "      <td>0.351</td>\n",
       "      <td>31</td>\n",
       "      <td>0</td>\n",
       "    </tr>\n",
       "    <tr>\n",
       "      <th>2</th>\n",
       "      <td>8</td>\n",
       "      <td>183</td>\n",
       "      <td>64</td>\n",
       "      <td>0</td>\n",
       "      <td>0</td>\n",
       "      <td>23.3</td>\n",
       "      <td>0.672</td>\n",
       "      <td>32</td>\n",
       "      <td>1</td>\n",
       "    </tr>\n",
       "    <tr>\n",
       "      <th>3</th>\n",
       "      <td>1</td>\n",
       "      <td>89</td>\n",
       "      <td>66</td>\n",
       "      <td>23</td>\n",
       "      <td>94</td>\n",
       "      <td>28.1</td>\n",
       "      <td>0.167</td>\n",
       "      <td>21</td>\n",
       "      <td>0</td>\n",
       "    </tr>\n",
       "    <tr>\n",
       "      <th>4</th>\n",
       "      <td>0</td>\n",
       "      <td>137</td>\n",
       "      <td>40</td>\n",
       "      <td>35</td>\n",
       "      <td>168</td>\n",
       "      <td>43.1</td>\n",
       "      <td>2.288</td>\n",
       "      <td>33</td>\n",
       "      <td>1</td>\n",
       "    </tr>\n",
       "  </tbody>\n",
       "</table>\n",
       "</div>"
      ],
      "text/plain": [
       "   0    1   2   3    4     5      6   7  8\n",
       "0  6  148  72  35    0  33.6  0.627  50  1\n",
       "1  1   85  66  29    0  26.6  0.351  31  0\n",
       "2  8  183  64   0    0  23.3  0.672  32  1\n",
       "3  1   89  66  23   94  28.1  0.167  21  0\n",
       "4  0  137  40  35  168  43.1  2.288  33  1"
      ]
     },
     "execution_count": 41,
     "metadata": {},
     "output_type": "execute_result"
    }
   ],
   "source": [
    "dataset.head()"
   ]
  },
  {
   "cell_type": "code",
   "execution_count": 42,
   "metadata": {
    "colab": {
     "base_uri": "https://localhost:8080/",
     "height": 725
    },
    "colab_type": "code",
    "id": "FKuofD3Pogil",
    "outputId": "16c2f4fa-93c8-491d-b339-9f35f7918621"
   },
   "outputs": [
    {
     "name": "stdout",
     "output_type": "stream",
     "text": [
      "(768, 8)\n",
      "[[  6.    148.     72.    ...  33.6     0.627  50.   ]\n",
      " [  1.     85.     66.    ...  26.6     0.351  31.   ]\n",
      " [  8.    183.     64.    ...  23.3     0.672  32.   ]\n",
      " ...\n",
      " [  5.    121.     72.    ...  26.2     0.245  30.   ]\n",
      " [  1.    126.     60.    ...  30.1     0.349  47.   ]\n",
      " [  1.     93.     70.    ...  30.4     0.315  23.   ]]\n"
     ]
    }
   ],
   "source": [
    "X = dataset.values[:,0:8]\n",
    "print(X.shape)\n",
    "print(X)"
   ]
  },
  {
   "cell_type": "code",
   "execution_count": 43,
   "metadata": {},
   "outputs": [
    {
     "name": "stdout",
     "output_type": "stream",
     "text": [
      "(768,)\n"
     ]
    }
   ],
   "source": [
    "y = dataset.values[:,-1]\n",
    "print(y.shape)\n",
    "# print(y)"
   ]
  },
  {
   "cell_type": "markdown",
   "metadata": {
    "colab_type": "text",
    "id": "o0xMqOyTs5xt"
   },
   "source": [
    "### Define Model"
   ]
  },
  {
   "cell_type": "code",
   "execution_count": 44,
   "metadata": {
    "colab": {},
    "colab_type": "code",
    "id": "Bp9USczrfu6M"
   },
   "outputs": [],
   "source": [
    "from tensorflow.keras.models import Sequential\n",
    "from tensorflow.keras.layers import Dense\n",
    "\n",
    "import numpy as np\n",
    "\n",
    "np.random.seed(812)"
   ]
  },
  {
   "cell_type": "markdown",
   "metadata": {
    "colab_type": "text",
    "id": "wAzHLg27thoN"
   },
   "source": [
    "I'll instantiate my model as a \"sequential\" model. This just means that I'm going to tell Keras what my model's architecture should be one layer at a time."
   ]
  },
  {
   "cell_type": "code",
   "execution_count": 45,
   "metadata": {
    "colab": {},
    "colab_type": "code",
    "id": "DSNsL49Xp6KI"
   },
   "outputs": [],
   "source": [
    "# https://keras.io/getting-started/sequential-model-guide/\n",
    "model = Sequential()"
   ]
  },
  {
   "cell_type": "markdown",
   "metadata": {
    "colab_type": "text",
    "id": "ZCYX6QzJtvpG"
   },
   "source": [
    "Adding a \"Dense\" layer to our model is how we add \"vanilla\" perceptron-based layers to our neural network. These are also called \"fully-connected\" or \"densely-connected\" layers. They're used as a layer type in lots of other Neural Net Architectures but they're not referred to as perceptrons or multi-layer perceptrons very often in those situations even though that's what they are.\n",
    "\n",
    " > [\"Just your regular densely-connected NN layer.\"](https://keras.io/layers/core/)\n",
    " \n",
    " The first argument is how many neurons we want to have in that layer. To create a perceptron model we will just set it to 1. We will tell it that there will be 8 inputs coming into this layer from our dataset and set it to use the sigmoid activation function."
   ]
  },
  {
   "cell_type": "code",
   "execution_count": 46,
   "metadata": {
    "colab": {
     "base_uri": "https://localhost:8080/",
     "height": 89
    },
    "colab_type": "code",
    "id": "GNzOLidxtvFa",
    "outputId": "35b1457d-0189-49f1-aa6d-3ef15b29bd6e"
   },
   "outputs": [],
   "source": [
    "model.add(Dense(1, input_dim=8, activation=\"sigmoid\")) #Relu is valid option. "
   ]
  },
  {
   "cell_type": "markdown",
   "metadata": {
    "colab_type": "text",
    "id": "EnI3jwKMtBL2",
    "toc-hr-collapsed": false
   },
   "source": [
    "### Compile Model\n",
    "Using binary_crossentropy as the loss function here is just telling keras that I'm doing binary classification so that it can use the appropriate loss function accordingly. If we were predicting non-binary categories we might assign something like `categorical_crossentropy`. We're also telling keras that we want it to report model accuracy as our main error metric for each epoch. We will also be able to see the overall accuracy once the model has finished training.\n",
    "\n",
    "#### Adam Optimizer\n",
    "Check out this links for more background on the Adam optimizer and Stohastic Gradient Descent\n",
    "* [Adam Optimization Algorithm](https://machinelearningmastery.com/adam-optimization-algorithm-for-deep-learning/)\n",
    "* [Adam Optimizer - original paper](https://arxiv.org/abs/1412.6980)"
   ]
  },
  {
   "cell_type": "code",
   "execution_count": 47,
   "metadata": {
    "colab": {},
    "colab_type": "code",
    "id": "qp6xwYaqurRO"
   },
   "outputs": [],
   "source": [
    "model.compile(loss='binary_crossentropy', optimizer='adam', metrics=['accuracy'])"
   ]
  },
  {
   "cell_type": "markdown",
   "metadata": {
    "colab_type": "text",
    "id": "5dW8SZ2Ls9SX",
    "toc-hr-collapsed": false
   },
   "source": [
    "### Fit Model\n",
    "\n",
    "Lets train it up! `model.fit()` has a `batch_size` parameter that we can use if we want to do mini-batch epochs, but since this tabular dataset is pretty small we're just going to delete that parameter. Keras' default `batch_size` is `None` so omiting it will tell Keras to do batch epochs."
   ]
  },
  {
   "cell_type": "code",
   "execution_count": 48,
   "metadata": {
    "collapsed": true,
    "jupyter": {
     "outputs_hidden": true
    }
   },
   "outputs": [
    {
     "name": "stdout",
     "output_type": "stream",
     "text": [
      "Train on 768 samples\n",
      "Epoch 1/150\n",
      "768/768 [==============================] - 0s 266us/sample - loss: 23.2943 - accuracy: 0.5013\n",
      "Epoch 2/150\n",
      "768/768 [==============================] - 0s 32us/sample - loss: 21.8409 - accuracy: 0.5065\n",
      "Epoch 3/150\n",
      "768/768 [==============================] - 0s 33us/sample - loss: 20.4395 - accuracy: 0.5247\n",
      "Epoch 4/150\n",
      "768/768 [==============================] - 0s 36us/sample - loss: 19.2853 - accuracy: 0.5443\n",
      "Epoch 5/150\n",
      "768/768 [==============================] - 0s 39us/sample - loss: 18.2685 - accuracy: 0.5560\n",
      "Epoch 6/150\n",
      "768/768 [==============================] - 0s 38us/sample - loss: 17.3401 - accuracy: 0.5729\n",
      "Epoch 7/150\n",
      "768/768 [==============================] - 0s 41us/sample - loss: 16.5326 - accuracy: 0.5781\n",
      "Epoch 8/150\n",
      "768/768 [==============================] - 0s 36us/sample - loss: 15.7651 - accuracy: 0.5781\n",
      "Epoch 9/150\n",
      "768/768 [==============================] - 0s 38us/sample - loss: 15.0239 - accuracy: 0.5833\n",
      "Epoch 10/150\n",
      "768/768 [==============================] - 0s 39us/sample - loss: 14.2819 - accuracy: 0.5846\n",
      "Epoch 11/150\n",
      "768/768 [==============================] - 0s 36us/sample - loss: 13.5445 - accuracy: 0.5859\n",
      "Epoch 12/150\n",
      "768/768 [==============================] - 0s 40us/sample - loss: 12.7952 - accuracy: 0.5846\n",
      "Epoch 13/150\n",
      "768/768 [==============================] - 0s 38us/sample - loss: 12.0487 - accuracy: 0.5833\n",
      "Epoch 14/150\n",
      "768/768 [==============================] - 0s 38us/sample - loss: 11.3001 - accuracy: 0.5846\n",
      "Epoch 15/150\n",
      "768/768 [==============================] - 0s 35us/sample - loss: 10.5498 - accuracy: 0.5924\n",
      "Epoch 16/150\n",
      "768/768 [==============================] - 0s 32us/sample - loss: 9.8484 - accuracy: 0.5872\n",
      "Epoch 17/150\n",
      "768/768 [==============================] - 0s 35us/sample - loss: 9.0671 - accuracy: 0.5846\n",
      "Epoch 18/150\n",
      "768/768 [==============================] - 0s 43us/sample - loss: 8.3412 - accuracy: 0.5924\n",
      "Epoch 19/150\n",
      "768/768 [==============================] - 0s 41us/sample - loss: 7.6395 - accuracy: 0.5859\n",
      "Epoch 20/150\n",
      "768/768 [==============================] - 0s 29us/sample - loss: 6.9745 - accuracy: 0.5742\n",
      "Epoch 21/150\n",
      "768/768 [==============================] - 0s 36us/sample - loss: 6.3916 - accuracy: 0.5768\n",
      "Epoch 22/150\n",
      "768/768 [==============================] - 0s 36us/sample - loss: 5.9083 - accuracy: 0.5612\n",
      "Epoch 23/150\n",
      "768/768 [==============================] - 0s 35us/sample - loss: 5.4956 - accuracy: 0.5768\n",
      "Epoch 24/150\n",
      "768/768 [==============================] - 0s 53us/sample - loss: 5.1550 - accuracy: 0.5703\n",
      "Epoch 25/150\n",
      "768/768 [==============================] - 0s 29us/sample - loss: 4.8621 - accuracy: 0.5547\n",
      "Epoch 26/150\n",
      "768/768 [==============================] - 0s 44us/sample - loss: 4.6294 - accuracy: 0.5768\n",
      "Epoch 27/150\n",
      "768/768 [==============================] - 0s 52us/sample - loss: 4.4118 - accuracy: 0.5599\n",
      "Epoch 28/150\n",
      "768/768 [==============================] - 0s 36us/sample - loss: 4.2197 - accuracy: 0.5651\n",
      "Epoch 29/150\n",
      "768/768 [==============================] - 0s 42us/sample - loss: 4.0522 - accuracy: 0.5716\n",
      "Epoch 30/150\n",
      "768/768 [==============================] - 0s 38us/sample - loss: 3.8979 - accuracy: 0.5729\n",
      "Epoch 31/150\n",
      "768/768 [==============================] - 0s 55us/sample - loss: 3.7457 - accuracy: 0.5768\n",
      "Epoch 32/150\n",
      "768/768 [==============================] - 0s 60us/sample - loss: 3.6053 - accuracy: 0.5716\n",
      "Epoch 33/150\n",
      "768/768 [==============================] - 0s 40us/sample - loss: 3.4607 - accuracy: 0.5768\n",
      "Epoch 34/150\n",
      "768/768 [==============================] - 0s 38us/sample - loss: 3.3259 - accuracy: 0.5742\n",
      "Epoch 35/150\n",
      "768/768 [==============================] - 0s 41us/sample - loss: 3.1894 - accuracy: 0.5794\n",
      "Epoch 36/150\n",
      "768/768 [==============================] - 0s 54us/sample - loss: 3.0581 - accuracy: 0.5846\n",
      "Epoch 37/150\n",
      "768/768 [==============================] - 0s 35us/sample - loss: 2.9224 - accuracy: 0.5846\n",
      "Epoch 38/150\n",
      "768/768 [==============================] - 0s 39us/sample - loss: 2.8016 - accuracy: 0.5781\n",
      "Epoch 39/150\n",
      "768/768 [==============================] - 0s 39us/sample - loss: 2.6746 - accuracy: 0.5768\n",
      "Epoch 40/150\n",
      "768/768 [==============================] - 0s 38us/sample - loss: 2.5623 - accuracy: 0.5872\n",
      "Epoch 41/150\n",
      "768/768 [==============================] - 0s 35us/sample - loss: 2.4166 - accuracy: 0.5794\n",
      "Epoch 42/150\n",
      "768/768 [==============================] - 0s 33us/sample - loss: 2.2921 - accuracy: 0.5794\n",
      "Epoch 43/150\n",
      "768/768 [==============================] - 0s 35us/sample - loss: 2.1744 - accuracy: 0.5872\n",
      "Epoch 44/150\n",
      "768/768 [==============================] - 0s 34us/sample - loss: 2.0632 - accuracy: 0.5859\n",
      "Epoch 45/150\n",
      "768/768 [==============================] - 0s 33us/sample - loss: 1.9419 - accuracy: 0.5872\n",
      "Epoch 46/150\n",
      "768/768 [==============================] - 0s 38us/sample - loss: 1.8271 - accuracy: 0.5911\n",
      "Epoch 47/150\n",
      "768/768 [==============================] - 0s 34us/sample - loss: 1.7357 - accuracy: 0.5807\n",
      "Epoch 48/150\n",
      "768/768 [==============================] - 0s 33us/sample - loss: 1.6159 - accuracy: 0.6029\n",
      "Epoch 49/150\n",
      "768/768 [==============================] - 0s 33us/sample - loss: 1.5082 - accuracy: 0.5938\n",
      "Epoch 50/150\n",
      "768/768 [==============================] - 0s 32us/sample - loss: 1.4001 - accuracy: 0.5964\n",
      "Epoch 51/150\n",
      "768/768 [==============================] - 0s 35us/sample - loss: 1.3107 - accuracy: 0.6003\n",
      "Epoch 52/150\n",
      "768/768 [==============================] - 0s 46us/sample - loss: 1.2013 - accuracy: 0.6029\n",
      "Epoch 53/150\n",
      "768/768 [==============================] - 0s 63us/sample - loss: 1.1141 - accuracy: 0.5964\n",
      "Epoch 54/150\n",
      "768/768 [==============================] - 0s 47us/sample - loss: 1.0292 - accuracy: 0.6146\n",
      "Epoch 55/150\n",
      "768/768 [==============================] - 0s 56us/sample - loss: 0.9505 - accuracy: 0.6159\n",
      "Epoch 56/150\n",
      "768/768 [==============================] - 0s 49us/sample - loss: 0.8814 - accuracy: 0.6185\n",
      "Epoch 57/150\n",
      "768/768 [==============================] - 0s 34us/sample - loss: 0.8376 - accuracy: 0.6133\n",
      "Epoch 58/150\n",
      "768/768 [==============================] - 0s 43us/sample - loss: 0.7719 - accuracy: 0.6302\n",
      "Epoch 59/150\n",
      "768/768 [==============================] - 0s 42us/sample - loss: 0.7323 - accuracy: 0.6432\n",
      "Epoch 60/150\n",
      "768/768 [==============================] - 0s 38us/sample - loss: 0.7024 - accuracy: 0.6419\n",
      "Epoch 61/150\n",
      "768/768 [==============================] - 0s 41us/sample - loss: 0.6785 - accuracy: 0.6602\n",
      "Epoch 62/150\n",
      "768/768 [==============================] - 0s 45us/sample - loss: 0.6620 - accuracy: 0.6628\n",
      "Epoch 63/150\n",
      "768/768 [==============================] - 0s 44us/sample - loss: 0.6455 - accuracy: 0.6953\n",
      "Epoch 64/150\n",
      "768/768 [==============================] - 0s 47us/sample - loss: 0.6348 - accuracy: 0.6914\n",
      "Epoch 65/150\n",
      "768/768 [==============================] - 0s 39us/sample - loss: 0.6325 - accuracy: 0.7070\n",
      "Epoch 66/150\n",
      "768/768 [==============================] - 0s 46us/sample - loss: 0.6242 - accuracy: 0.7057\n",
      "Epoch 67/150\n",
      "768/768 [==============================] - 0s 39us/sample - loss: 0.6228 - accuracy: 0.7044\n",
      "Epoch 68/150\n",
      "768/768 [==============================] - 0s 43us/sample - loss: 0.6201 - accuracy: 0.7005\n",
      "Epoch 69/150\n",
      "768/768 [==============================] - 0s 43us/sample - loss: 0.6169 - accuracy: 0.7122\n",
      "Epoch 70/150\n",
      "768/768 [==============================] - 0s 42us/sample - loss: 0.6134 - accuracy: 0.6888\n",
      "Epoch 71/150\n",
      "768/768 [==============================] - 0s 44us/sample - loss: 0.6132 - accuracy: 0.7018\n",
      "Epoch 72/150\n",
      "768/768 [==============================] - 0s 48us/sample - loss: 0.6123 - accuracy: 0.7096\n",
      "Epoch 73/150\n",
      "768/768 [==============================] - 0s 44us/sample - loss: 0.6170 - accuracy: 0.6810\n",
      "Epoch 74/150\n",
      "768/768 [==============================] - 0s 45us/sample - loss: 0.6143 - accuracy: 0.6966\n",
      "Epoch 75/150\n",
      "768/768 [==============================] - 0s 43us/sample - loss: 0.6138 - accuracy: 0.6927\n",
      "Epoch 76/150\n",
      "768/768 [==============================] - 0s 38us/sample - loss: 0.6092 - accuracy: 0.6914\n",
      "Epoch 77/150\n",
      "768/768 [==============================] - 0s 42us/sample - loss: 0.6098 - accuracy: 0.7083\n",
      "Epoch 78/150\n",
      "768/768 [==============================] - 0s 40us/sample - loss: 0.6131 - accuracy: 0.6823\n",
      "Epoch 79/150\n",
      "768/768 [==============================] - 0s 42us/sample - loss: 0.6055 - accuracy: 0.7057\n",
      "Epoch 80/150\n",
      "768/768 [==============================] - 0s 51us/sample - loss: 0.6104 - accuracy: 0.6979\n",
      "Epoch 81/150\n",
      "768/768 [==============================] - 0s 46us/sample - loss: 0.6049 - accuracy: 0.6940\n",
      "Epoch 82/150\n",
      "768/768 [==============================] - 0s 47us/sample - loss: 0.6016 - accuracy: 0.6979\n",
      "Epoch 83/150\n",
      "768/768 [==============================] - 0s 45us/sample - loss: 0.6063 - accuracy: 0.6979\n",
      "Epoch 84/150\n",
      "768/768 [==============================] - 0s 41us/sample - loss: 0.6095 - accuracy: 0.6901\n",
      "Epoch 85/150\n",
      "768/768 [==============================] - 0s 40us/sample - loss: 0.6187 - accuracy: 0.6823\n",
      "Epoch 86/150\n",
      "768/768 [==============================] - 0s 44us/sample - loss: 0.6048 - accuracy: 0.7096\n",
      "Epoch 87/150\n",
      "768/768 [==============================] - 0s 42us/sample - loss: 0.6023 - accuracy: 0.6966\n",
      "Epoch 88/150\n",
      "768/768 [==============================] - 0s 40us/sample - loss: 0.6072 - accuracy: 0.6979\n",
      "Epoch 89/150\n",
      "768/768 [==============================] - 0s 47us/sample - loss: 0.6070 - accuracy: 0.6797\n",
      "Epoch 90/150\n",
      "768/768 [==============================] - 0s 57us/sample - loss: 0.6019 - accuracy: 0.7083\n",
      "Epoch 91/150\n",
      "768/768 [==============================] - 0s 41us/sample - loss: 0.6001 - accuracy: 0.6966\n",
      "Epoch 92/150\n",
      "768/768 [==============================] - 0s 41us/sample - loss: 0.6186 - accuracy: 0.6862\n",
      "Epoch 93/150\n",
      "768/768 [==============================] - 0s 45us/sample - loss: 0.6016 - accuracy: 0.6940\n",
      "Epoch 94/150\n",
      "768/768 [==============================] - 0s 39us/sample - loss: 0.6038 - accuracy: 0.6940\n",
      "Epoch 95/150\n",
      "768/768 [==============================] - 0s 36us/sample - loss: 0.5979 - accuracy: 0.7109\n",
      "Epoch 96/150\n",
      "768/768 [==============================] - 0s 49us/sample - loss: 0.6028 - accuracy: 0.6927\n",
      "Epoch 97/150\n",
      "768/768 [==============================] - 0s 45us/sample - loss: 0.5992 - accuracy: 0.6979\n",
      "Epoch 98/150\n",
      "768/768 [==============================] - 0s 42us/sample - loss: 0.5996 - accuracy: 0.7018\n",
      "Epoch 99/150\n",
      "768/768 [==============================] - 0s 51us/sample - loss: 0.6104 - accuracy: 0.6875\n",
      "Epoch 100/150\n",
      "768/768 [==============================] - 0s 38us/sample - loss: 0.6018 - accuracy: 0.6927\n",
      "Epoch 101/150\n",
      "768/768 [==============================] - 0s 38us/sample - loss: 0.5948 - accuracy: 0.7044\n",
      "Epoch 102/150\n",
      "768/768 [==============================] - 0s 43us/sample - loss: 0.6025 - accuracy: 0.6901\n",
      "Epoch 103/150\n",
      "768/768 [==============================] - 0s 44us/sample - loss: 0.5978 - accuracy: 0.6992\n",
      "Epoch 104/150\n",
      "768/768 [==============================] - 0s 44us/sample - loss: 0.5957 - accuracy: 0.7096\n",
      "Epoch 105/150\n",
      "768/768 [==============================] - 0s 42us/sample - loss: 0.5964 - accuracy: 0.6992\n",
      "Epoch 106/150\n",
      "768/768 [==============================] - 0s 42us/sample - loss: 0.5972 - accuracy: 0.6914\n",
      "Epoch 107/150\n",
      "768/768 [==============================] - 0s 38us/sample - loss: 0.6003 - accuracy: 0.6927\n",
      "Epoch 108/150\n",
      "768/768 [==============================] - 0s 39us/sample - loss: 0.6032 - accuracy: 0.6940\n",
      "Epoch 109/150\n",
      "768/768 [==============================] - 0s 52us/sample - loss: 0.5957 - accuracy: 0.7070\n",
      "Epoch 110/150\n",
      "768/768 [==============================] - 0s 39us/sample - loss: 0.6001 - accuracy: 0.6901\n",
      "Epoch 111/150\n",
      "768/768 [==============================] - 0s 43us/sample - loss: 0.5889 - accuracy: 0.7044\n",
      "Epoch 112/150\n",
      "768/768 [==============================] - 0s 44us/sample - loss: 0.5948 - accuracy: 0.7005\n",
      "Epoch 113/150\n",
      "768/768 [==============================] - 0s 38us/sample - loss: 0.5918 - accuracy: 0.7201\n",
      "Epoch 114/150\n",
      "768/768 [==============================] - 0s 40us/sample - loss: 0.5913 - accuracy: 0.7031\n",
      "Epoch 115/150\n",
      "768/768 [==============================] - 0s 44us/sample - loss: 0.5930 - accuracy: 0.7083\n",
      "Epoch 116/150\n",
      "768/768 [==============================] - 0s 39us/sample - loss: 0.5961 - accuracy: 0.7018\n",
      "Epoch 117/150\n",
      "768/768 [==============================] - 0s 44us/sample - loss: 0.6001 - accuracy: 0.7109\n",
      "Epoch 118/150\n",
      "768/768 [==============================] - 0s 42us/sample - loss: 0.6092 - accuracy: 0.6823\n",
      "Epoch 119/150\n",
      "768/768 [==============================] - 0s 41us/sample - loss: 0.5931 - accuracy: 0.6927\n",
      "Epoch 120/150\n",
      "768/768 [==============================] - 0s 35us/sample - loss: 0.5963 - accuracy: 0.6979\n",
      "Epoch 121/150\n",
      "768/768 [==============================] - 0s 40us/sample - loss: 0.5981 - accuracy: 0.6979\n",
      "Epoch 122/150\n",
      "768/768 [==============================] - 0s 39us/sample - loss: 0.5990 - accuracy: 0.6914\n",
      "Epoch 123/150\n",
      "768/768 [==============================] - 0s 34us/sample - loss: 0.5961 - accuracy: 0.7083\n",
      "Epoch 124/150\n",
      "768/768 [==============================] - 0s 37us/sample - loss: 0.5908 - accuracy: 0.7005\n",
      "Epoch 125/150\n",
      "768/768 [==============================] - 0s 35us/sample - loss: 0.5919 - accuracy: 0.7018\n",
      "Epoch 126/150\n",
      "768/768 [==============================] - 0s 34us/sample - loss: 0.5913 - accuracy: 0.7057\n",
      "Epoch 127/150\n",
      "768/768 [==============================] - 0s 37us/sample - loss: 0.5859 - accuracy: 0.7044\n",
      "Epoch 128/150\n",
      "768/768 [==============================] - 0s 35us/sample - loss: 0.5918 - accuracy: 0.6875\n",
      "Epoch 129/150\n",
      "768/768 [==============================] - 0s 34us/sample - loss: 0.5864 - accuracy: 0.7148\n",
      "Epoch 130/150\n",
      "768/768 [==============================] - 0s 31us/sample - loss: 0.5907 - accuracy: 0.7005\n",
      "Epoch 131/150\n",
      "768/768 [==============================] - 0s 34us/sample - loss: 0.5865 - accuracy: 0.7096\n",
      "Epoch 132/150\n",
      "768/768 [==============================] - 0s 32us/sample - loss: 0.5923 - accuracy: 0.7070\n",
      "Epoch 133/150\n",
      "768/768 [==============================] - 0s 34us/sample - loss: 0.5988 - accuracy: 0.6797\n",
      "Epoch 134/150\n",
      "768/768 [==============================] - 0s 33us/sample - loss: 0.5835 - accuracy: 0.7096\n",
      "Epoch 135/150\n",
      "768/768 [==============================] - 0s 33us/sample - loss: 0.5948 - accuracy: 0.6875\n",
      "Epoch 136/150\n",
      "768/768 [==============================] - 0s 34us/sample - loss: 0.6015 - accuracy: 0.6901\n",
      "Epoch 137/150\n",
      "768/768 [==============================] - 0s 33us/sample - loss: 0.5943 - accuracy: 0.7096\n",
      "Epoch 138/150\n",
      "768/768 [==============================] - 0s 38us/sample - loss: 0.5851 - accuracy: 0.7122\n",
      "Epoch 139/150\n",
      "768/768 [==============================] - 0s 56us/sample - loss: 0.5828 - accuracy: 0.7201\n",
      "Epoch 140/150\n",
      "768/768 [==============================] - 0s 38us/sample - loss: 0.5882 - accuracy: 0.7109\n",
      "Epoch 141/150\n",
      "768/768 [==============================] - 0s 38us/sample - loss: 0.5857 - accuracy: 0.7018\n",
      "Epoch 142/150\n",
      "768/768 [==============================] - 0s 42us/sample - loss: 0.5840 - accuracy: 0.7109\n",
      "Epoch 143/150\n",
      "768/768 [==============================] - 0s 38us/sample - loss: 0.5844 - accuracy: 0.7070\n",
      "Epoch 144/150\n",
      "768/768 [==============================] - 0s 42us/sample - loss: 0.5897 - accuracy: 0.7005\n",
      "Epoch 145/150\n",
      "768/768 [==============================] - 0s 43us/sample - loss: 0.5850 - accuracy: 0.7083\n",
      "Epoch 146/150\n",
      "768/768 [==============================] - 0s 41us/sample - loss: 0.5986 - accuracy: 0.6940\n",
      "Epoch 147/150\n",
      "768/768 [==============================] - 0s 42us/sample - loss: 0.6121 - accuracy: 0.6914\n",
      "Epoch 148/150\n",
      "768/768 [==============================] - 0s 51us/sample - loss: 0.6014 - accuracy: 0.6875\n",
      "Epoch 149/150\n",
      "768/768 [==============================] - 0s 52us/sample - loss: 0.5816 - accuracy: 0.7109\n",
      "Epoch 150/150\n",
      "768/768 [==============================] - 0s 41us/sample - loss: 0.5862 - accuracy: 0.7005\n"
     ]
    },
    {
     "data": {
      "text/plain": [
       "<tensorflow.python.keras.callbacks.History at 0x103a09278>"
      ]
     },
     "execution_count": 48,
     "metadata": {},
     "output_type": "execute_result"
    }
   ],
   "source": [
    "model.fit(X, y, epochs=150)"
   ]
  },
  {
   "cell_type": "code",
   "execution_count": 49,
   "metadata": {},
   "outputs": [
    {
     "data": {
      "text/plain": [
       "(768,)"
      ]
     },
     "execution_count": 49,
     "metadata": {},
     "output_type": "execute_result"
    }
   ],
   "source": [
    "y.shape"
   ]
  },
  {
   "cell_type": "markdown",
   "metadata": {},
   "source": [
    "### Evaluate Model"
   ]
  },
  {
   "cell_type": "code",
   "execution_count": 50,
   "metadata": {},
   "outputs": [
    {
     "data": {
      "text/plain": [
       "array([1., 0., 1., 0., 1., 0., 1., 0., 1., 1., 0., 1., 0., 1., 1., 1., 1.,\n",
       "       1., 0., 1., 0., 0., 1., 1., 1., 1., 1., 0., 0., 0., 0., 1., 0., 0.,\n",
       "       0., 0., 0., 1., 1., 1., 0., 0., 0., 1., 0., 1., 0., 0., 1., 0.])"
      ]
     },
     "execution_count": 50,
     "metadata": {},
     "output_type": "execute_result"
    }
   ],
   "source": [
    "y[:50]"
   ]
  },
  {
   "cell_type": "code",
   "execution_count": 51,
   "metadata": {},
   "outputs": [
    {
     "data": {
      "text/plain": [
       "0.3489583333333333"
      ]
     },
     "execution_count": 51,
     "metadata": {},
     "output_type": "execute_result"
    }
   ],
   "source": [
    "# Predicting never diabetes\n",
    "sum(y) / len(y) "
   ]
  },
  {
   "cell_type": "code",
   "execution_count": 52,
   "metadata": {},
   "outputs": [
    {
     "name": "stdout",
     "output_type": "stream",
     "text": [
      "768/768 [==============================] - 0s 92us/sample - loss: 0.5921 - accuracy: 0.7109\n",
      "accuracy: 71.09375\n"
     ]
    }
   ],
   "source": [
    "scores = model.evaluate(X,y)\n",
    "print(f\"{model.metrics_names[1]}: {scores[1]*100}\")"
   ]
  },
  {
   "cell_type": "markdown",
   "metadata": {
    "colab_type": "text",
    "id": "zHYB7k9q3O8T"
   },
   "source": [
    "### Unstable Results\n",
    "\n",
    "You'll notice that if we rerun the results might differ from the origin run. This can be explain by a bunch of factors. Check out some of them in this article: \n",
    "\n",
    "<https://machinelearningmastery.com/randomness-in-machine-learning/>"
   ]
  },
  {
   "cell_type": "markdown",
   "metadata": {},
   "source": [
    "## Challenge\n",
    "\n",
    "You will be expected to leverage the Keras `Sequential`api to estimate a feed forward neural networks on a dataset."
   ]
  },
  {
   "cell_type": "markdown",
   "metadata": {
    "colab_type": "text",
    "id": "ueDVpctAzvy8"
   },
   "source": [
    "# Choosing Architecture (Learn)"
   ]
  },
  {
   "cell_type": "markdown",
   "metadata": {},
   "source": [
    "## Overview\n",
    "\n",
    "Choosing an architecture for a neural network is almost more an art than a science. Let's do a few experiments:"
   ]
  },
  {
   "cell_type": "markdown",
   "metadata": {},
   "source": [
    "## Follow Along"
   ]
  },
  {
   "cell_type": "code",
   "execution_count": 53,
   "metadata": {
    "colab": {},
    "colab_type": "code",
    "id": "6W2Sc7-LzQo_"
   },
   "outputs": [
    {
     "name": "stdout",
     "output_type": "stream",
     "text": [
      "Model: \"3LayerJunk\"\n",
      "_________________________________________________________________\n",
      "Layer (type)                 Output Shape              Param #   \n",
      "=================================================================\n",
      "FirstHidden (Dense)          (None, 4)                 36        \n",
      "_________________________________________________________________\n",
      "dense_15 (Dense)             (None, 3)                 15        \n",
      "_________________________________________________________________\n",
      "dense_16 (Dense)             (None, 1)                 4         \n",
      "=================================================================\n",
      "Total params: 55\n",
      "Trainable params: 55\n",
      "Non-trainable params: 0\n",
      "_________________________________________________________________\n"
     ]
    }
   ],
   "source": [
    "# Tell me your ideas\n",
    "\n",
    "model_improved = Sequential(name=\"3LayerJunk\")\n",
    "\n",
    "model_improved.add(Dense(4, input_dim=8, activation='relu', name=\"FirstHidden\"))\n",
    "model_improved.add(Dense(3, activation='sigmoid'))\n",
    "model_improved.add(Dense(1, activation='sigmoid'))\n",
    "\n",
    "model_improved.compile(loss='binary_crossentropy', optimizer='adam',\n",
    "              metrics=['accuracy'])\n",
    "\n",
    "# Let's inspect our new architecture\n",
    "model_improved.summary()"
   ]
  },
  {
   "cell_type": "code",
   "execution_count": 54,
   "metadata": {},
   "outputs": [
    {
     "data": {
      "text/plain": [
       "<tensorflow.python.keras.callbacks.History at 0x103ac3048>"
      ]
     },
     "execution_count": 54,
     "metadata": {},
     "output_type": "execute_result"
    }
   ],
   "source": [
    "model_improved.fit(X, y, epochs=150, verbose=False) # What parameters can I specify here?"
   ]
  },
  {
   "cell_type": "code",
   "execution_count": 55,
   "metadata": {},
   "outputs": [
    {
     "name": "stdout",
     "output_type": "stream",
     "text": [
      "768/768 [==============================] - 0s 95us/sample - loss: 0.6466 - accuracy: 0.6510\n",
      "accuracy: 65.10416865348816\n"
     ]
    }
   ],
   "source": [
    "scores = model_improved.evaluate(X,y)\n",
    "print(f\"{model_improved.metrics_names[1]}: {scores[1]*100}\")"
   ]
  },
  {
   "cell_type": "markdown",
   "metadata": {},
   "source": [
    "### Experiment with 1 Additional Layer & Change Activation F(x)s"
   ]
  },
  {
   "cell_type": "code",
   "execution_count": 56,
   "metadata": {},
   "outputs": [
    {
     "name": "stdout",
     "output_type": "stream",
     "text": [
      "Model: \"4LayerJunk\"\n",
      "_________________________________________________________________\n",
      "Layer (type)                 Output Shape              Param #   \n",
      "=================================================================\n",
      "Dense1 (Dense)               (None, 4)                 36        \n",
      "_________________________________________________________________\n",
      "dense_17 (Dense)             (None, 3)                 15        \n",
      "_________________________________________________________________\n",
      "dense_18 (Dense)             (None, 3)                 12        \n",
      "_________________________________________________________________\n",
      "dense_19 (Dense)             (None, 1)                 4         \n",
      "=================================================================\n",
      "Total params: 67\n",
      "Trainable params: 67\n",
      "Non-trainable params: 0\n",
      "_________________________________________________________________\n"
     ]
    }
   ],
   "source": [
    "# Tell me your ideas\n",
    "\n",
    "model_improved = Sequential(name=\"4LayerJunk\")\n",
    "\n",
    "model_improved.add(Dense(4, input_dim=8, activation='relu', name=\"Dense1\"))\n",
    "model_improved.add(Dense(3, activation='relu'))\n",
    "model_improved.add(Dense(3, activation='relu'))\n",
    "model_improved.add(Dense(1, activation='sigmoid'))\n",
    "\n",
    "model_improved.compile(loss='binary_crossentropy', optimizer='adam',\n",
    "              metrics=['accuracy'])\n",
    "\n",
    "# Let's inspect our new architecture\n",
    "model_improved.summary()"
   ]
  },
  {
   "cell_type": "code",
   "execution_count": 57,
   "metadata": {},
   "outputs": [
    {
     "data": {
      "text/plain": [
       "<tensorflow.python.keras.callbacks.History at 0x141714d68>"
      ]
     },
     "execution_count": 57,
     "metadata": {},
     "output_type": "execute_result"
    }
   ],
   "source": [
    "model_improved.fit(X,y, epochs=250, verbose=False)"
   ]
  },
  {
   "cell_type": "code",
   "execution_count": 58,
   "metadata": {},
   "outputs": [
    {
     "name": "stdout",
     "output_type": "stream",
     "text": [
      "768/768 [==============================] - 0s 121us/sample - loss: 0.6199 - accuracy: 0.6654\n"
     ]
    },
    {
     "data": {
      "text/plain": [
       "[0.6198876177271208, 0.66536456]"
      ]
     },
     "execution_count": 58,
     "metadata": {},
     "output_type": "execute_result"
    }
   ],
   "source": [
    "model_improved.evaluate(X,y)\n",
    "#print(f\"{model_improved.metrics_names[1]}: {scores[1]*100}\")"
   ]
  },
  {
   "cell_type": "markdown",
   "metadata": {},
   "source": [
    "### New Experiment with Identical Neuron Numbers"
   ]
  },
  {
   "cell_type": "code",
   "execution_count": 59,
   "metadata": {},
   "outputs": [
    {
     "name": "stdout",
     "output_type": "stream",
     "text": [
      "Model: \"EvenNuerons4LayerJunk\"\n",
      "_________________________________________________________________\n",
      "Layer (type)                 Output Shape              Param #   \n",
      "=================================================================\n",
      "Dense1 (Dense)               (None, 8)                 72        \n",
      "_________________________________________________________________\n",
      "dense_20 (Dense)             (None, 8)                 72        \n",
      "_________________________________________________________________\n",
      "dense_21 (Dense)             (None, 8)                 72        \n",
      "_________________________________________________________________\n",
      "dense_22 (Dense)             (None, 1)                 9         \n",
      "=================================================================\n",
      "Total params: 225\n",
      "Trainable params: 225\n",
      "Non-trainable params: 0\n",
      "_________________________________________________________________\n"
     ]
    }
   ],
   "source": [
    "# Tell me your ideas\n",
    "\n",
    "model_improved = Sequential(name=\"EvenNuerons4LayerJunk\")\n",
    "\n",
    "model_improved.add(Dense(8, input_dim=8, activation='relu', name=\"Dense1\"))\n",
    "model_improved.add(Dense(8, activation='relu'))\n",
    "model_improved.add(Dense(8, activation='relu'))\n",
    "model_improved.add(Dense(1, activation='sigmoid'))\n",
    "\n",
    "model_improved.compile(loss='binary_crossentropy', optimizer='adam',\n",
    "              metrics=['accuracy'])\n",
    "\n",
    "# Let's inspect our new architecture\n",
    "model_improved.summary()"
   ]
  },
  {
   "cell_type": "code",
   "execution_count": 60,
   "metadata": {
    "collapsed": true,
    "jupyter": {
     "outputs_hidden": true
    }
   },
   "outputs": [
    {
     "name": "stdout",
     "output_type": "stream",
     "text": [
      "Train on 691 samples, validate on 77 samples\n",
      "Epoch 1/250\n",
      "691/691 [==============================] - 0s 634us/sample - loss: 1.2597 - accuracy: 0.4978 - val_loss: 0.9780 - val_accuracy: 0.4026\n",
      "Epoch 2/250\n",
      "691/691 [==============================] - 0s 51us/sample - loss: 0.9540 - accuracy: 0.4298 - val_loss: 0.8295 - val_accuracy: 0.3636\n",
      "Epoch 3/250\n",
      "691/691 [==============================] - 0s 53us/sample - loss: 0.8162 - accuracy: 0.4732 - val_loss: 0.7735 - val_accuracy: 0.5455\n",
      "Epoch 4/250\n",
      "691/691 [==============================] - 0s 56us/sample - loss: 0.7412 - accuracy: 0.5528 - val_loss: 0.7395 - val_accuracy: 0.5974\n",
      "Epoch 5/250\n",
      "691/691 [==============================] - 0s 54us/sample - loss: 0.6836 - accuracy: 0.6527 - val_loss: 0.7286 - val_accuracy: 0.5974\n",
      "Epoch 6/250\n",
      "691/691 [==============================] - 0s 55us/sample - loss: 0.6593 - accuracy: 0.6512 - val_loss: 0.7279 - val_accuracy: 0.5455\n",
      "Epoch 7/250\n",
      "691/691 [==============================] - 0s 53us/sample - loss: 0.6444 - accuracy: 0.6556 - val_loss: 0.7263 - val_accuracy: 0.5974\n",
      "Epoch 8/250\n",
      "691/691 [==============================] - 0s 60us/sample - loss: 0.6353 - accuracy: 0.6700 - val_loss: 0.7358 - val_accuracy: 0.5974\n",
      "Epoch 9/250\n",
      "691/691 [==============================] - 0s 53us/sample - loss: 0.6313 - accuracy: 0.6643 - val_loss: 0.7458 - val_accuracy: 0.5844\n",
      "Epoch 10/250\n",
      "691/691 [==============================] - 0s 53us/sample - loss: 0.6260 - accuracy: 0.6700 - val_loss: 0.7419 - val_accuracy: 0.6234\n",
      "Epoch 11/250\n",
      "691/691 [==============================] - 0s 58us/sample - loss: 0.6211 - accuracy: 0.6585 - val_loss: 0.7409 - val_accuracy: 0.6104\n",
      "Epoch 12/250\n",
      "691/691 [==============================] - 0s 55us/sample - loss: 0.6180 - accuracy: 0.6700 - val_loss: 0.7438 - val_accuracy: 0.5844\n",
      "Epoch 13/250\n",
      "691/691 [==============================] - 0s 53us/sample - loss: 0.6157 - accuracy: 0.6729 - val_loss: 0.7416 - val_accuracy: 0.6104\n",
      "Epoch 14/250\n",
      "691/691 [==============================] - 0s 54us/sample - loss: 0.6127 - accuracy: 0.6758 - val_loss: 0.7458 - val_accuracy: 0.5714\n",
      "Epoch 15/250\n",
      "691/691 [==============================] - 0s 55us/sample - loss: 0.6172 - accuracy: 0.6671 - val_loss: 0.7420 - val_accuracy: 0.6104\n",
      "Epoch 16/250\n",
      "691/691 [==============================] - 0s 52us/sample - loss: 0.6114 - accuracy: 0.6773 - val_loss: 0.7378 - val_accuracy: 0.5844\n",
      "Epoch 17/250\n",
      "691/691 [==============================] - 0s 52us/sample - loss: 0.6080 - accuracy: 0.6802 - val_loss: 0.7416 - val_accuracy: 0.5974\n",
      "Epoch 18/250\n",
      "691/691 [==============================] - 0s 50us/sample - loss: 0.6087 - accuracy: 0.6816 - val_loss: 0.7460 - val_accuracy: 0.5714\n",
      "Epoch 19/250\n",
      "691/691 [==============================] - 0s 49us/sample - loss: 0.6055 - accuracy: 0.6831 - val_loss: 0.7434 - val_accuracy: 0.6104\n",
      "Epoch 20/250\n",
      "691/691 [==============================] - 0s 53us/sample - loss: 0.6049 - accuracy: 0.6831 - val_loss: 0.7434 - val_accuracy: 0.6104\n",
      "Epoch 21/250\n",
      "691/691 [==============================] - 0s 50us/sample - loss: 0.6030 - accuracy: 0.6773 - val_loss: 0.7418 - val_accuracy: 0.6104\n",
      "Epoch 22/250\n",
      "691/691 [==============================] - 0s 51us/sample - loss: 0.6074 - accuracy: 0.6831 - val_loss: 0.7523 - val_accuracy: 0.5974\n",
      "Epoch 23/250\n",
      "691/691 [==============================] - 0s 52us/sample - loss: 0.6053 - accuracy: 0.6729 - val_loss: 0.7424 - val_accuracy: 0.6104\n",
      "Epoch 24/250\n",
      "691/691 [==============================] - 0s 55us/sample - loss: 0.5987 - accuracy: 0.6787 - val_loss: 0.7438 - val_accuracy: 0.5974\n",
      "Epoch 25/250\n",
      "691/691 [==============================] - 0s 44us/sample - loss: 0.5975 - accuracy: 0.6831 - val_loss: 0.7459 - val_accuracy: 0.5974\n",
      "Epoch 26/250\n",
      "691/691 [==============================] - 0s 43us/sample - loss: 0.5971 - accuracy: 0.6773 - val_loss: 0.7445 - val_accuracy: 0.6104\n",
      "Epoch 27/250\n",
      "691/691 [==============================] - 0s 45us/sample - loss: 0.5952 - accuracy: 0.6845 - val_loss: 0.7523 - val_accuracy: 0.5714\n",
      "Epoch 28/250\n",
      "691/691 [==============================] - 0s 212us/sample - loss: 0.5935 - accuracy: 0.6860 - val_loss: 0.7551 - val_accuracy: 0.5974\n",
      "Epoch 29/250\n",
      "691/691 [==============================] - 0s 118us/sample - loss: 0.5963 - accuracy: 0.6686 - val_loss: 0.7630 - val_accuracy: 0.5325\n",
      "Epoch 30/250\n",
      "691/691 [==============================] - 0s 81us/sample - loss: 0.5921 - accuracy: 0.6903 - val_loss: 0.7599 - val_accuracy: 0.5844\n",
      "Epoch 31/250\n",
      "691/691 [==============================] - 0s 72us/sample - loss: 0.5970 - accuracy: 0.6657 - val_loss: 0.7512 - val_accuracy: 0.5455\n",
      "Epoch 32/250\n",
      "691/691 [==============================] - 0s 71us/sample - loss: 0.5933 - accuracy: 0.6729 - val_loss: 0.7496 - val_accuracy: 0.5844\n",
      "Epoch 33/250\n",
      "691/691 [==============================] - 0s 66us/sample - loss: 0.5914 - accuracy: 0.6758 - val_loss: 0.7578 - val_accuracy: 0.5844\n",
      "Epoch 34/250\n",
      "691/691 [==============================] - 0s 70us/sample - loss: 0.5893 - accuracy: 0.6845 - val_loss: 0.7592 - val_accuracy: 0.5584\n",
      "Epoch 35/250\n",
      "691/691 [==============================] - 0s 69us/sample - loss: 0.5913 - accuracy: 0.6860 - val_loss: 0.7629 - val_accuracy: 0.5844\n",
      "Epoch 36/250\n",
      "691/691 [==============================] - 0s 78us/sample - loss: 0.5896 - accuracy: 0.6744 - val_loss: 0.7701 - val_accuracy: 0.5974\n",
      "Epoch 37/250\n",
      "691/691 [==============================] - 0s 56us/sample - loss: 0.5938 - accuracy: 0.6744 - val_loss: 0.7683 - val_accuracy: 0.5844\n",
      "Epoch 38/250\n",
      "691/691 [==============================] - 0s 60us/sample - loss: 0.5922 - accuracy: 0.6787 - val_loss: 0.7625 - val_accuracy: 0.5714\n",
      "Epoch 39/250\n",
      "691/691 [==============================] - 0s 50us/sample - loss: 0.5879 - accuracy: 0.6889 - val_loss: 0.7528 - val_accuracy: 0.5974\n",
      "Epoch 40/250\n",
      "691/691 [==============================] - 0s 62us/sample - loss: 0.5872 - accuracy: 0.6744 - val_loss: 0.7599 - val_accuracy: 0.5455\n",
      "Epoch 41/250\n",
      "691/691 [==============================] - 0s 65us/sample - loss: 0.5887 - accuracy: 0.6903 - val_loss: 0.7668 - val_accuracy: 0.6104\n",
      "Epoch 42/250\n",
      "691/691 [==============================] - 0s 54us/sample - loss: 0.5925 - accuracy: 0.6671 - val_loss: 0.7582 - val_accuracy: 0.5844\n",
      "Epoch 43/250\n",
      "691/691 [==============================] - 0s 65us/sample - loss: 0.5869 - accuracy: 0.6744 - val_loss: 0.7587 - val_accuracy: 0.5325\n",
      "Epoch 44/250\n",
      "691/691 [==============================] - 0s 61us/sample - loss: 0.5916 - accuracy: 0.6599 - val_loss: 0.7680 - val_accuracy: 0.6104\n",
      "Epoch 45/250\n",
      "691/691 [==============================] - 0s 54us/sample - loss: 0.5905 - accuracy: 0.6831 - val_loss: 0.7754 - val_accuracy: 0.6104\n",
      "Epoch 46/250\n",
      "691/691 [==============================] - 0s 57us/sample - loss: 0.5878 - accuracy: 0.6874 - val_loss: 0.7634 - val_accuracy: 0.5584\n",
      "Epoch 47/250\n",
      "691/691 [==============================] - 0s 51us/sample - loss: 0.5852 - accuracy: 0.6845 - val_loss: 0.7643 - val_accuracy: 0.5844\n",
      "Epoch 48/250\n",
      "691/691 [==============================] - 0s 63us/sample - loss: 0.5860 - accuracy: 0.6802 - val_loss: 0.7603 - val_accuracy: 0.5844\n",
      "Epoch 49/250\n",
      "691/691 [==============================] - 0s 48us/sample - loss: 0.5913 - accuracy: 0.6758 - val_loss: 0.7685 - val_accuracy: 0.5584\n",
      "Epoch 50/250\n",
      "691/691 [==============================] - 0s 50us/sample - loss: 0.5880 - accuracy: 0.6874 - val_loss: 0.7678 - val_accuracy: 0.5844\n",
      "Epoch 51/250\n",
      "691/691 [==============================] - 0s 57us/sample - loss: 0.5831 - accuracy: 0.6816 - val_loss: 0.7602 - val_accuracy: 0.5974\n",
      "Epoch 52/250\n",
      "691/691 [==============================] - 0s 54us/sample - loss: 0.5868 - accuracy: 0.6845 - val_loss: 0.7643 - val_accuracy: 0.6104\n",
      "Epoch 53/250\n",
      "691/691 [==============================] - 0s 91us/sample - loss: 0.5883 - accuracy: 0.6744 - val_loss: 0.7586 - val_accuracy: 0.5844\n",
      "Epoch 54/250\n",
      "691/691 [==============================] - 0s 72us/sample - loss: 0.5837 - accuracy: 0.6918 - val_loss: 0.7693 - val_accuracy: 0.5714\n",
      "Epoch 55/250\n",
      "691/691 [==============================] - 0s 67us/sample - loss: 0.5838 - accuracy: 0.6874 - val_loss: 0.7753 - val_accuracy: 0.5714\n",
      "Epoch 56/250\n",
      "691/691 [==============================] - 0s 66us/sample - loss: 0.5845 - accuracy: 0.6845 - val_loss: 0.7692 - val_accuracy: 0.5844\n",
      "Epoch 57/250\n",
      "691/691 [==============================] - 0s 54us/sample - loss: 0.5845 - accuracy: 0.6787 - val_loss: 0.7824 - val_accuracy: 0.6104\n",
      "Epoch 58/250\n",
      "691/691 [==============================] - 0s 61us/sample - loss: 0.5840 - accuracy: 0.6802 - val_loss: 0.7787 - val_accuracy: 0.5584\n",
      "Epoch 59/250\n",
      "691/691 [==============================] - 0s 53us/sample - loss: 0.5865 - accuracy: 0.6831 - val_loss: 0.7756 - val_accuracy: 0.5325\n",
      "Epoch 60/250\n",
      "691/691 [==============================] - 0s 61us/sample - loss: 0.5831 - accuracy: 0.6874 - val_loss: 0.7720 - val_accuracy: 0.5974\n",
      "Epoch 61/250\n",
      "691/691 [==============================] - 0s 62us/sample - loss: 0.5807 - accuracy: 0.6860 - val_loss: 0.7708 - val_accuracy: 0.5714\n",
      "Epoch 62/250\n",
      "691/691 [==============================] - 0s 63us/sample - loss: 0.5807 - accuracy: 0.6975 - val_loss: 0.7728 - val_accuracy: 0.5844\n",
      "Epoch 63/250\n",
      "691/691 [==============================] - 0s 70us/sample - loss: 0.5827 - accuracy: 0.6773 - val_loss: 0.7832 - val_accuracy: 0.6104\n",
      "Epoch 64/250\n",
      "691/691 [==============================] - 0s 56us/sample - loss: 0.5828 - accuracy: 0.6787 - val_loss: 0.7777 - val_accuracy: 0.5714\n",
      "Epoch 65/250\n",
      "691/691 [==============================] - 0s 66us/sample - loss: 0.5826 - accuracy: 0.6903 - val_loss: 0.7859 - val_accuracy: 0.5455\n",
      "Epoch 66/250\n",
      "691/691 [==============================] - 0s 57us/sample - loss: 0.5863 - accuracy: 0.6802 - val_loss: 0.7835 - val_accuracy: 0.5584\n",
      "Epoch 67/250\n",
      "691/691 [==============================] - 0s 65us/sample - loss: 0.5869 - accuracy: 0.6744 - val_loss: 0.7676 - val_accuracy: 0.6104\n",
      "Epoch 68/250\n",
      "691/691 [==============================] - 0s 60us/sample - loss: 0.5802 - accuracy: 0.6845 - val_loss: 0.7766 - val_accuracy: 0.5584\n",
      "Epoch 69/250\n",
      "691/691 [==============================] - 0s 56us/sample - loss: 0.5841 - accuracy: 0.6802 - val_loss: 0.7746 - val_accuracy: 0.5584\n",
      "Epoch 70/250\n",
      "691/691 [==============================] - 0s 77us/sample - loss: 0.5815 - accuracy: 0.6874 - val_loss: 0.7841 - val_accuracy: 0.5195\n",
      "Epoch 71/250\n",
      "691/691 [==============================] - 0s 62us/sample - loss: 0.5820 - accuracy: 0.6802 - val_loss: 0.7750 - val_accuracy: 0.5325\n",
      "Epoch 72/250\n",
      "691/691 [==============================] - 0s 72us/sample - loss: 0.5855 - accuracy: 0.6773 - val_loss: 0.7833 - val_accuracy: 0.5714\n",
      "Epoch 73/250\n",
      "691/691 [==============================] - 0s 56us/sample - loss: 0.5809 - accuracy: 0.6903 - val_loss: 0.7868 - val_accuracy: 0.5584\n",
      "Epoch 74/250\n",
      "691/691 [==============================] - 0s 48us/sample - loss: 0.5798 - accuracy: 0.6946 - val_loss: 0.7833 - val_accuracy: 0.5974\n",
      "Epoch 75/250\n",
      "691/691 [==============================] - 0s 71us/sample - loss: 0.5818 - accuracy: 0.6903 - val_loss: 0.7885 - val_accuracy: 0.5455\n",
      "Epoch 76/250\n",
      "691/691 [==============================] - 0s 55us/sample - loss: 0.5823 - accuracy: 0.6918 - val_loss: 0.7872 - val_accuracy: 0.5974\n",
      "Epoch 77/250\n",
      "691/691 [==============================] - 0s 53us/sample - loss: 0.5806 - accuracy: 0.6831 - val_loss: 0.7955 - val_accuracy: 0.6104\n",
      "Epoch 78/250\n",
      "691/691 [==============================] - 0s 52us/sample - loss: 0.5795 - accuracy: 0.6758 - val_loss: 0.7998 - val_accuracy: 0.5455\n",
      "Epoch 79/250\n",
      "691/691 [==============================] - 0s 50us/sample - loss: 0.5841 - accuracy: 0.6729 - val_loss: 0.7989 - val_accuracy: 0.6104\n",
      "Epoch 80/250\n",
      "691/691 [==============================] - 0s 53us/sample - loss: 0.5807 - accuracy: 0.6816 - val_loss: 0.7890 - val_accuracy: 0.5584\n",
      "Epoch 81/250\n",
      "691/691 [==============================] - 0s 49us/sample - loss: 0.5833 - accuracy: 0.6715 - val_loss: 0.7914 - val_accuracy: 0.5714\n",
      "Epoch 82/250\n",
      "691/691 [==============================] - 0s 51us/sample - loss: 0.5770 - accuracy: 0.6918 - val_loss: 0.7924 - val_accuracy: 0.5844\n",
      "Epoch 83/250\n",
      "691/691 [==============================] - 0s 62us/sample - loss: 0.5774 - accuracy: 0.6990 - val_loss: 0.7988 - val_accuracy: 0.5455\n",
      "Epoch 84/250\n",
      "691/691 [==============================] - 0s 52us/sample - loss: 0.5776 - accuracy: 0.6903 - val_loss: 0.7975 - val_accuracy: 0.6234\n",
      "Epoch 85/250\n",
      "691/691 [==============================] - 0s 54us/sample - loss: 0.5801 - accuracy: 0.6874 - val_loss: 0.8006 - val_accuracy: 0.5325\n",
      "Epoch 86/250\n",
      "691/691 [==============================] - 0s 47us/sample - loss: 0.5813 - accuracy: 0.6816 - val_loss: 0.7989 - val_accuracy: 0.5195\n",
      "Epoch 87/250\n",
      "691/691 [==============================] - 0s 49us/sample - loss: 0.5777 - accuracy: 0.6961 - val_loss: 0.7943 - val_accuracy: 0.5584\n",
      "Epoch 88/250\n",
      "691/691 [==============================] - 0s 48us/sample - loss: 0.5781 - accuracy: 0.6744 - val_loss: 0.7940 - val_accuracy: 0.6234\n",
      "Epoch 89/250\n",
      "691/691 [==============================] - 0s 47us/sample - loss: 0.5782 - accuracy: 0.6918 - val_loss: 0.7944 - val_accuracy: 0.5714\n",
      "Epoch 90/250\n",
      "691/691 [==============================] - 0s 48us/sample - loss: 0.5781 - accuracy: 0.6831 - val_loss: 0.7916 - val_accuracy: 0.5325\n",
      "Epoch 91/250\n",
      "691/691 [==============================] - 0s 48us/sample - loss: 0.5771 - accuracy: 0.6845 - val_loss: 0.7858 - val_accuracy: 0.6104\n",
      "Epoch 92/250\n",
      "691/691 [==============================] - 0s 56us/sample - loss: 0.5752 - accuracy: 0.6918 - val_loss: 0.7845 - val_accuracy: 0.5455\n",
      "Epoch 93/250\n",
      "691/691 [==============================] - 0s 49us/sample - loss: 0.5758 - accuracy: 0.6918 - val_loss: 0.7844 - val_accuracy: 0.5974\n",
      "Epoch 94/250\n",
      "691/691 [==============================] - 0s 48us/sample - loss: 0.5749 - accuracy: 0.6918 - val_loss: 0.7943 - val_accuracy: 0.6234\n",
      "Epoch 95/250\n",
      "691/691 [==============================] - 0s 48us/sample - loss: 0.5765 - accuracy: 0.6889 - val_loss: 0.7876 - val_accuracy: 0.5714\n",
      "Epoch 96/250\n",
      "691/691 [==============================] - 0s 51us/sample - loss: 0.5731 - accuracy: 0.6946 - val_loss: 0.7946 - val_accuracy: 0.5584\n",
      "Epoch 97/250\n",
      "691/691 [==============================] - 0s 49us/sample - loss: 0.5736 - accuracy: 0.6946 - val_loss: 0.8013 - val_accuracy: 0.5714\n",
      "Epoch 98/250\n",
      "691/691 [==============================] - 0s 66us/sample - loss: 0.5756 - accuracy: 0.6903 - val_loss: 0.8041 - val_accuracy: 0.5974\n",
      "Epoch 99/250\n",
      "691/691 [==============================] - 0s 46us/sample - loss: 0.5738 - accuracy: 0.6918 - val_loss: 0.7985 - val_accuracy: 0.5714\n",
      "Epoch 100/250\n",
      "691/691 [==============================] - 0s 44us/sample - loss: 0.5762 - accuracy: 0.6903 - val_loss: 0.8072 - val_accuracy: 0.5455\n",
      "Epoch 101/250\n",
      "691/691 [==============================] - 0s 39us/sample - loss: 0.5760 - accuracy: 0.6773 - val_loss: 0.8007 - val_accuracy: 0.5584\n",
      "Epoch 102/250\n",
      "691/691 [==============================] - 0s 39us/sample - loss: 0.5812 - accuracy: 0.6816 - val_loss: 0.8073 - val_accuracy: 0.6234\n",
      "Epoch 103/250\n",
      "691/691 [==============================] - 0s 40us/sample - loss: 0.5752 - accuracy: 0.6874 - val_loss: 0.8081 - val_accuracy: 0.5455\n",
      "Epoch 104/250\n",
      "691/691 [==============================] - 0s 38us/sample - loss: 0.5802 - accuracy: 0.6773 - val_loss: 0.7980 - val_accuracy: 0.5455\n",
      "Epoch 105/250\n",
      "691/691 [==============================] - 0s 38us/sample - loss: 0.5750 - accuracy: 0.6845 - val_loss: 0.7928 - val_accuracy: 0.6104\n",
      "Epoch 106/250\n",
      "691/691 [==============================] - 0s 40us/sample - loss: 0.5752 - accuracy: 0.6932 - val_loss: 0.7997 - val_accuracy: 0.5455\n",
      "Epoch 107/250\n",
      "691/691 [==============================] - 0s 38us/sample - loss: 0.5750 - accuracy: 0.6860 - val_loss: 0.7993 - val_accuracy: 0.5325\n",
      "Epoch 108/250\n",
      "691/691 [==============================] - 0s 38us/sample - loss: 0.5707 - accuracy: 0.6874 - val_loss: 0.7984 - val_accuracy: 0.5714\n",
      "Epoch 109/250\n",
      "691/691 [==============================] - 0s 39us/sample - loss: 0.5766 - accuracy: 0.6831 - val_loss: 0.8031 - val_accuracy: 0.5974\n",
      "Epoch 110/250\n",
      "691/691 [==============================] - 0s 38us/sample - loss: 0.5711 - accuracy: 0.6831 - val_loss: 0.8037 - val_accuracy: 0.5714\n",
      "Epoch 111/250\n",
      "691/691 [==============================] - 0s 43us/sample - loss: 0.5717 - accuracy: 0.6946 - val_loss: 0.8001 - val_accuracy: 0.5714\n",
      "Epoch 112/250\n",
      "691/691 [==============================] - 0s 38us/sample - loss: 0.5698 - accuracy: 0.6918 - val_loss: 0.8065 - val_accuracy: 0.6234\n",
      "Epoch 113/250\n",
      "691/691 [==============================] - 0s 38us/sample - loss: 0.5715 - accuracy: 0.6860 - val_loss: 0.8100 - val_accuracy: 0.5584\n",
      "Epoch 114/250\n",
      "691/691 [==============================] - 0s 38us/sample - loss: 0.5693 - accuracy: 0.7004 - val_loss: 0.8093 - val_accuracy: 0.5584\n",
      "Epoch 115/250\n",
      "691/691 [==============================] - 0s 38us/sample - loss: 0.5682 - accuracy: 0.6918 - val_loss: 0.8056 - val_accuracy: 0.6104\n",
      "Epoch 116/250\n",
      "691/691 [==============================] - 0s 38us/sample - loss: 0.5707 - accuracy: 0.6903 - val_loss: 0.8145 - val_accuracy: 0.5844\n",
      "Epoch 117/250\n",
      "691/691 [==============================] - 0s 38us/sample - loss: 0.5752 - accuracy: 0.6802 - val_loss: 0.8191 - val_accuracy: 0.6234\n",
      "Epoch 118/250\n",
      "691/691 [==============================] - 0s 39us/sample - loss: 0.5729 - accuracy: 0.6845 - val_loss: 0.8198 - val_accuracy: 0.5584\n",
      "Epoch 119/250\n",
      "691/691 [==============================] - 0s 38us/sample - loss: 0.5687 - accuracy: 0.6975 - val_loss: 0.8133 - val_accuracy: 0.6234\n",
      "Epoch 120/250\n",
      "691/691 [==============================] - 0s 38us/sample - loss: 0.5713 - accuracy: 0.6845 - val_loss: 0.8236 - val_accuracy: 0.5455\n",
      "Epoch 121/250\n",
      "691/691 [==============================] - 0s 39us/sample - loss: 0.5650 - accuracy: 0.6860 - val_loss: 0.8097 - val_accuracy: 0.6364\n",
      "Epoch 122/250\n",
      "691/691 [==============================] - 0s 44us/sample - loss: 0.5692 - accuracy: 0.6845 - val_loss: 0.8020 - val_accuracy: 0.6234\n",
      "Epoch 123/250\n",
      "691/691 [==============================] - 0s 39us/sample - loss: 0.5648 - accuracy: 0.6946 - val_loss: 0.8023 - val_accuracy: 0.5714\n",
      "Epoch 124/250\n",
      "691/691 [==============================] - 0s 39us/sample - loss: 0.5690 - accuracy: 0.6961 - val_loss: 0.8121 - val_accuracy: 0.6234\n",
      "Epoch 125/250\n",
      "691/691 [==============================] - 0s 40us/sample - loss: 0.5680 - accuracy: 0.6889 - val_loss: 0.8137 - val_accuracy: 0.6234\n",
      "Epoch 126/250\n",
      "691/691 [==============================] - 0s 46us/sample - loss: 0.5673 - accuracy: 0.6845 - val_loss: 0.8202 - val_accuracy: 0.5455\n",
      "Epoch 127/250\n",
      "691/691 [==============================] - 0s 45us/sample - loss: 0.5665 - accuracy: 0.6831 - val_loss: 0.8105 - val_accuracy: 0.6494\n",
      "Epoch 128/250\n",
      "691/691 [==============================] - 0s 52us/sample - loss: 0.5666 - accuracy: 0.6961 - val_loss: 0.8124 - val_accuracy: 0.6364\n",
      "Epoch 129/250\n",
      "691/691 [==============================] - 0s 61us/sample - loss: 0.5651 - accuracy: 0.6932 - val_loss: 0.8146 - val_accuracy: 0.5195\n",
      "Epoch 130/250\n",
      "691/691 [==============================] - 0s 52us/sample - loss: 0.5630 - accuracy: 0.7033 - val_loss: 0.8274 - val_accuracy: 0.6234\n",
      "Epoch 131/250\n",
      "691/691 [==============================] - 0s 61us/sample - loss: 0.5711 - accuracy: 0.6831 - val_loss: 0.8163 - val_accuracy: 0.5195\n",
      "Epoch 132/250\n",
      "691/691 [==============================] - 0s 50us/sample - loss: 0.5654 - accuracy: 0.6946 - val_loss: 0.8180 - val_accuracy: 0.5325\n",
      "Epoch 133/250\n",
      "691/691 [==============================] - 0s 51us/sample - loss: 0.5659 - accuracy: 0.6975 - val_loss: 0.8150 - val_accuracy: 0.5714\n",
      "Epoch 134/250\n",
      "691/691 [==============================] - 0s 49us/sample - loss: 0.5637 - accuracy: 0.6961 - val_loss: 0.8084 - val_accuracy: 0.6234\n",
      "Epoch 135/250\n",
      "691/691 [==============================] - 0s 51us/sample - loss: 0.5625 - accuracy: 0.6874 - val_loss: 0.8106 - val_accuracy: 0.6234\n",
      "Epoch 136/250\n",
      "691/691 [==============================] - 0s 56us/sample - loss: 0.5625 - accuracy: 0.6961 - val_loss: 0.8090 - val_accuracy: 0.5844\n",
      "Epoch 137/250\n",
      "691/691 [==============================] - 0s 51us/sample - loss: 0.5628 - accuracy: 0.6990 - val_loss: 0.8112 - val_accuracy: 0.5974\n",
      "Epoch 138/250\n",
      "691/691 [==============================] - 0s 51us/sample - loss: 0.5625 - accuracy: 0.6975 - val_loss: 0.8168 - val_accuracy: 0.5455\n",
      "Epoch 139/250\n",
      "691/691 [==============================] - 0s 55us/sample - loss: 0.5628 - accuracy: 0.7033 - val_loss: 0.8160 - val_accuracy: 0.6104\n",
      "Epoch 140/250\n",
      "691/691 [==============================] - 0s 48us/sample - loss: 0.5608 - accuracy: 0.6990 - val_loss: 0.8202 - val_accuracy: 0.6234\n",
      "Epoch 141/250\n",
      "691/691 [==============================] - 0s 60us/sample - loss: 0.5612 - accuracy: 0.7004 - val_loss: 0.8144 - val_accuracy: 0.6104\n",
      "Epoch 142/250\n",
      "691/691 [==============================] - 0s 53us/sample - loss: 0.5620 - accuracy: 0.6975 - val_loss: 0.8180 - val_accuracy: 0.5844\n",
      "Epoch 143/250\n",
      "691/691 [==============================] - 0s 48us/sample - loss: 0.5629 - accuracy: 0.6903 - val_loss: 0.8196 - val_accuracy: 0.6104\n",
      "Epoch 144/250\n",
      "691/691 [==============================] - 0s 51us/sample - loss: 0.5644 - accuracy: 0.6932 - val_loss: 0.8250 - val_accuracy: 0.6364\n",
      "Epoch 145/250\n",
      "691/691 [==============================] - 0s 48us/sample - loss: 0.5614 - accuracy: 0.7019 - val_loss: 0.8255 - val_accuracy: 0.6104\n",
      "Epoch 146/250\n",
      "691/691 [==============================] - 0s 48us/sample - loss: 0.5614 - accuracy: 0.7019 - val_loss: 0.8233 - val_accuracy: 0.5974\n",
      "Epoch 147/250\n",
      "691/691 [==============================] - 0s 54us/sample - loss: 0.5603 - accuracy: 0.6946 - val_loss: 0.8313 - val_accuracy: 0.6104\n",
      "Epoch 148/250\n",
      "691/691 [==============================] - 0s 49us/sample - loss: 0.5620 - accuracy: 0.6932 - val_loss: 0.8353 - val_accuracy: 0.5844\n",
      "Epoch 149/250\n",
      "691/691 [==============================] - 0s 48us/sample - loss: 0.5635 - accuracy: 0.6860 - val_loss: 0.8304 - val_accuracy: 0.6234\n",
      "Epoch 150/250\n",
      "691/691 [==============================] - 0s 49us/sample - loss: 0.5645 - accuracy: 0.6961 - val_loss: 0.8255 - val_accuracy: 0.6364\n",
      "Epoch 151/250\n",
      "691/691 [==============================] - 0s 53us/sample - loss: 0.5603 - accuracy: 0.7004 - val_loss: 0.8209 - val_accuracy: 0.6494\n",
      "Epoch 152/250\n",
      "691/691 [==============================] - 0s 46us/sample - loss: 0.5680 - accuracy: 0.6946 - val_loss: 0.8229 - val_accuracy: 0.5455\n",
      "Epoch 153/250\n",
      "691/691 [==============================] - 0s 47us/sample - loss: 0.5639 - accuracy: 0.6918 - val_loss: 0.8250 - val_accuracy: 0.5584\n",
      "Epoch 154/250\n",
      "691/691 [==============================] - 0s 47us/sample - loss: 0.5590 - accuracy: 0.6903 - val_loss: 0.8242 - val_accuracy: 0.5844\n",
      "Epoch 155/250\n",
      "691/691 [==============================] - 0s 48us/sample - loss: 0.5600 - accuracy: 0.6918 - val_loss: 0.8263 - val_accuracy: 0.5455\n",
      "Epoch 156/250\n",
      "691/691 [==============================] - 0s 52us/sample - loss: 0.5585 - accuracy: 0.7004 - val_loss: 0.8339 - val_accuracy: 0.6234\n",
      "Epoch 157/250\n",
      "691/691 [==============================] - 0s 58us/sample - loss: 0.5593 - accuracy: 0.6990 - val_loss: 0.8352 - val_accuracy: 0.5455\n",
      "Epoch 158/250\n",
      "691/691 [==============================] - 0s 100us/sample - loss: 0.5614 - accuracy: 0.7033 - val_loss: 0.8308 - val_accuracy: 0.6494\n",
      "Epoch 159/250\n",
      "691/691 [==============================] - 0s 85us/sample - loss: 0.5605 - accuracy: 0.6918 - val_loss: 0.8263 - val_accuracy: 0.6104\n",
      "Epoch 160/250\n",
      "691/691 [==============================] - 0s 122us/sample - loss: 0.5617 - accuracy: 0.6946 - val_loss: 0.8469 - val_accuracy: 0.6364\n",
      "Epoch 161/250\n",
      "691/691 [==============================] - 0s 87us/sample - loss: 0.5623 - accuracy: 0.6990 - val_loss: 0.8172 - val_accuracy: 0.6234\n",
      "Epoch 162/250\n",
      "691/691 [==============================] - 0s 65us/sample - loss: 0.5588 - accuracy: 0.7033 - val_loss: 0.8189 - val_accuracy: 0.6364\n",
      "Epoch 163/250\n",
      "691/691 [==============================] - 0s 62us/sample - loss: 0.5579 - accuracy: 0.6903 - val_loss: 0.8246 - val_accuracy: 0.5584\n",
      "Epoch 164/250\n",
      "691/691 [==============================] - 0s 68us/sample - loss: 0.5605 - accuracy: 0.6990 - val_loss: 0.8150 - val_accuracy: 0.6104\n",
      "Epoch 165/250\n",
      "691/691 [==============================] - 0s 67us/sample - loss: 0.5562 - accuracy: 0.6975 - val_loss: 0.8197 - val_accuracy: 0.6234\n",
      "Epoch 166/250\n",
      "691/691 [==============================] - 0s 61us/sample - loss: 0.5620 - accuracy: 0.6903 - val_loss: 0.8279 - val_accuracy: 0.6364\n",
      "Epoch 167/250\n",
      "691/691 [==============================] - 0s 74us/sample - loss: 0.5602 - accuracy: 0.7004 - val_loss: 0.8301 - val_accuracy: 0.6494\n",
      "Epoch 168/250\n",
      "691/691 [==============================] - 0s 68us/sample - loss: 0.5603 - accuracy: 0.6990 - val_loss: 0.8443 - val_accuracy: 0.5325\n",
      "Epoch 169/250\n",
      "691/691 [==============================] - 0s 69us/sample - loss: 0.5599 - accuracy: 0.6932 - val_loss: 0.8401 - val_accuracy: 0.6234\n",
      "Epoch 170/250\n",
      "691/691 [==============================] - 0s 63us/sample - loss: 0.5599 - accuracy: 0.6990 - val_loss: 0.8382 - val_accuracy: 0.5584\n",
      "Epoch 171/250\n",
      "691/691 [==============================] - 0s 75us/sample - loss: 0.5603 - accuracy: 0.6860 - val_loss: 0.8434 - val_accuracy: 0.5584\n",
      "Epoch 172/250\n",
      "691/691 [==============================] - 0s 50us/sample - loss: 0.5659 - accuracy: 0.6889 - val_loss: 0.8419 - val_accuracy: 0.6364\n",
      "Epoch 173/250\n",
      "691/691 [==============================] - 0s 97us/sample - loss: 0.5626 - accuracy: 0.6845 - val_loss: 0.8458 - val_accuracy: 0.6234\n",
      "Epoch 174/250\n",
      "691/691 [==============================] - 0s 69us/sample - loss: 0.5594 - accuracy: 0.6990 - val_loss: 0.8538 - val_accuracy: 0.5714\n",
      "Epoch 175/250\n",
      "691/691 [==============================] - 0s 79us/sample - loss: 0.5621 - accuracy: 0.6961 - val_loss: 0.8497 - val_accuracy: 0.5844\n",
      "Epoch 176/250\n",
      "691/691 [==============================] - 0s 60us/sample - loss: 0.5659 - accuracy: 0.6903 - val_loss: 0.8603 - val_accuracy: 0.5455\n",
      "Epoch 177/250\n",
      "691/691 [==============================] - 0s 68us/sample - loss: 0.5628 - accuracy: 0.6946 - val_loss: 0.8505 - val_accuracy: 0.6494\n",
      "Epoch 178/250\n",
      "691/691 [==============================] - 0s 63us/sample - loss: 0.5566 - accuracy: 0.7019 - val_loss: 0.8523 - val_accuracy: 0.5974\n",
      "Epoch 179/250\n",
      "691/691 [==============================] - 0s 64us/sample - loss: 0.5571 - accuracy: 0.6946 - val_loss: 0.8594 - val_accuracy: 0.5714\n",
      "Epoch 180/250\n",
      "691/691 [==============================] - 0s 53us/sample - loss: 0.5573 - accuracy: 0.7019 - val_loss: 0.8753 - val_accuracy: 0.5974\n",
      "Epoch 181/250\n",
      "691/691 [==============================] - 0s 45us/sample - loss: 0.5549 - accuracy: 0.7019 - val_loss: 0.8507 - val_accuracy: 0.6364\n",
      "Epoch 182/250\n",
      "691/691 [==============================] - 0s 49us/sample - loss: 0.5550 - accuracy: 0.7062 - val_loss: 0.8460 - val_accuracy: 0.5584\n",
      "Epoch 183/250\n",
      "691/691 [==============================] - 0s 52us/sample - loss: 0.5595 - accuracy: 0.6889 - val_loss: 0.8471 - val_accuracy: 0.6234\n",
      "Epoch 184/250\n",
      "691/691 [==============================] - 0s 46us/sample - loss: 0.5575 - accuracy: 0.6975 - val_loss: 0.8511 - val_accuracy: 0.6364\n",
      "Epoch 185/250\n",
      "691/691 [==============================] - 0s 52us/sample - loss: 0.5541 - accuracy: 0.7019 - val_loss: 0.8636 - val_accuracy: 0.6234\n",
      "Epoch 186/250\n",
      "691/691 [==============================] - 0s 53us/sample - loss: 0.5565 - accuracy: 0.7019 - val_loss: 0.8678 - val_accuracy: 0.5714\n",
      "Epoch 187/250\n",
      "691/691 [==============================] - 0s 48us/sample - loss: 0.5537 - accuracy: 0.7120 - val_loss: 0.8708 - val_accuracy: 0.6364\n",
      "Epoch 188/250\n",
      "691/691 [==============================] - 0s 59us/sample - loss: 0.5546 - accuracy: 0.6975 - val_loss: 0.8629 - val_accuracy: 0.5974\n",
      "Epoch 189/250\n",
      "691/691 [==============================] - 0s 47us/sample - loss: 0.5541 - accuracy: 0.6918 - val_loss: 0.8714 - val_accuracy: 0.5714\n",
      "Epoch 190/250\n",
      "691/691 [==============================] - 0s 43us/sample - loss: 0.5592 - accuracy: 0.7062 - val_loss: 0.8760 - val_accuracy: 0.6234\n",
      "Epoch 191/250\n",
      "691/691 [==============================] - 0s 46us/sample - loss: 0.5580 - accuracy: 0.6860 - val_loss: 0.8707 - val_accuracy: 0.6364\n",
      "Epoch 192/250\n",
      "691/691 [==============================] - 0s 46us/sample - loss: 0.5533 - accuracy: 0.6975 - val_loss: 0.8818 - val_accuracy: 0.5325\n",
      "Epoch 193/250\n",
      "691/691 [==============================] - 0s 50us/sample - loss: 0.5569 - accuracy: 0.6903 - val_loss: 0.8900 - val_accuracy: 0.5974\n",
      "Epoch 194/250\n",
      "691/691 [==============================] - 0s 51us/sample - loss: 0.5531 - accuracy: 0.6975 - val_loss: 0.9049 - val_accuracy: 0.5325\n",
      "Epoch 195/250\n",
      "691/691 [==============================] - 0s 50us/sample - loss: 0.5527 - accuracy: 0.7048 - val_loss: 0.9079 - val_accuracy: 0.6234\n",
      "Epoch 196/250\n",
      "691/691 [==============================] - 0s 51us/sample - loss: 0.5472 - accuracy: 0.7033 - val_loss: 0.9178 - val_accuracy: 0.5844\n",
      "Epoch 197/250\n",
      "691/691 [==============================] - 0s 51us/sample - loss: 0.5497 - accuracy: 0.7019 - val_loss: 0.9577 - val_accuracy: 0.5325\n",
      "Epoch 198/250\n",
      "691/691 [==============================] - 0s 53us/sample - loss: 0.5529 - accuracy: 0.6975 - val_loss: 0.9758 - val_accuracy: 0.6234\n",
      "Epoch 199/250\n",
      "691/691 [==============================] - 0s 44us/sample - loss: 0.5558 - accuracy: 0.6961 - val_loss: 0.9331 - val_accuracy: 0.5974\n",
      "Epoch 200/250\n",
      "691/691 [==============================] - 0s 52us/sample - loss: 0.5523 - accuracy: 0.7019 - val_loss: 1.0210 - val_accuracy: 0.5584\n",
      "Epoch 201/250\n",
      "691/691 [==============================] - 0s 45us/sample - loss: 0.5732 - accuracy: 0.6831 - val_loss: 0.8496 - val_accuracy: 0.5974\n",
      "Epoch 202/250\n",
      "691/691 [==============================] - 0s 45us/sample - loss: 0.5582 - accuracy: 0.7033 - val_loss: 0.8601 - val_accuracy: 0.6234\n",
      "Epoch 203/250\n",
      "691/691 [==============================] - 0s 62us/sample - loss: 0.5574 - accuracy: 0.6975 - val_loss: 0.8727 - val_accuracy: 0.5844\n",
      "Epoch 204/250\n",
      "691/691 [==============================] - 0s 67us/sample - loss: 0.5495 - accuracy: 0.6990 - val_loss: 0.8705 - val_accuracy: 0.5844\n",
      "Epoch 205/250\n",
      "691/691 [==============================] - 0s 61us/sample - loss: 0.5517 - accuracy: 0.7004 - val_loss: 0.8695 - val_accuracy: 0.5974\n",
      "Epoch 206/250\n",
      "691/691 [==============================] - 0s 70us/sample - loss: 0.5497 - accuracy: 0.7019 - val_loss: 0.8754 - val_accuracy: 0.6104\n",
      "Epoch 207/250\n",
      "691/691 [==============================] - 0s 52us/sample - loss: 0.5487 - accuracy: 0.7033 - val_loss: 0.8886 - val_accuracy: 0.6104\n",
      "Epoch 208/250\n",
      "691/691 [==============================] - 0s 57us/sample - loss: 0.5494 - accuracy: 0.6961 - val_loss: 0.8922 - val_accuracy: 0.5844\n",
      "Epoch 209/250\n",
      "691/691 [==============================] - 0s 51us/sample - loss: 0.5482 - accuracy: 0.7033 - val_loss: 0.9067 - val_accuracy: 0.6104\n",
      "Epoch 210/250\n",
      "691/691 [==============================] - 0s 50us/sample - loss: 0.5496 - accuracy: 0.7048 - val_loss: 0.9302 - val_accuracy: 0.6104\n",
      "Epoch 211/250\n",
      "691/691 [==============================] - 0s 51us/sample - loss: 0.5542 - accuracy: 0.6946 - val_loss: 0.9027 - val_accuracy: 0.5974\n",
      "Epoch 212/250\n",
      "691/691 [==============================] - 0s 54us/sample - loss: 0.5456 - accuracy: 0.7033 - val_loss: 0.9052 - val_accuracy: 0.5714\n",
      "Epoch 213/250\n",
      "691/691 [==============================] - 0s 50us/sample - loss: 0.5449 - accuracy: 0.7033 - val_loss: 0.9175 - val_accuracy: 0.5714\n",
      "Epoch 214/250\n",
      "691/691 [==============================] - 0s 52us/sample - loss: 0.5521 - accuracy: 0.6961 - val_loss: 0.9177 - val_accuracy: 0.6234\n",
      "Epoch 215/250\n",
      "691/691 [==============================] - 0s 49us/sample - loss: 0.5430 - accuracy: 0.6975 - val_loss: 0.9139 - val_accuracy: 0.5974\n",
      "Epoch 216/250\n",
      "691/691 [==============================] - 0s 49us/sample - loss: 0.5444 - accuracy: 0.6932 - val_loss: 0.9251 - val_accuracy: 0.5844\n",
      "Epoch 217/250\n",
      "691/691 [==============================] - 0s 45us/sample - loss: 0.5417 - accuracy: 0.7019 - val_loss: 0.9406 - val_accuracy: 0.5974\n",
      "Epoch 218/250\n",
      "691/691 [==============================] - 0s 48us/sample - loss: 0.5428 - accuracy: 0.7019 - val_loss: 0.9444 - val_accuracy: 0.5714\n",
      "Epoch 219/250\n",
      "691/691 [==============================] - 0s 47us/sample - loss: 0.5442 - accuracy: 0.7033 - val_loss: 0.9514 - val_accuracy: 0.5844\n",
      "Epoch 220/250\n",
      "691/691 [==============================] - 0s 53us/sample - loss: 0.5447 - accuracy: 0.6961 - val_loss: 0.9564 - val_accuracy: 0.5974\n",
      "Epoch 221/250\n",
      "691/691 [==============================] - 0s 51us/sample - loss: 0.5435 - accuracy: 0.7004 - val_loss: 0.9726 - val_accuracy: 0.5844\n",
      "Epoch 222/250\n",
      "691/691 [==============================] - 0s 49us/sample - loss: 0.5414 - accuracy: 0.6946 - val_loss: 0.9760 - val_accuracy: 0.5844\n",
      "Epoch 223/250\n",
      "691/691 [==============================] - 0s 48us/sample - loss: 0.5409 - accuracy: 0.7033 - val_loss: 0.9848 - val_accuracy: 0.5844\n",
      "Epoch 224/250\n",
      "691/691 [==============================] - 0s 53us/sample - loss: 0.5404 - accuracy: 0.7106 - val_loss: 0.9828 - val_accuracy: 0.5974\n",
      "Epoch 225/250\n",
      "691/691 [==============================] - 0s 54us/sample - loss: 0.5424 - accuracy: 0.7019 - val_loss: 0.9972 - val_accuracy: 0.5325\n",
      "Epoch 226/250\n",
      "691/691 [==============================] - 0s 50us/sample - loss: 0.5468 - accuracy: 0.6990 - val_loss: 0.9935 - val_accuracy: 0.6234\n",
      "Epoch 227/250\n",
      "691/691 [==============================] - 0s 54us/sample - loss: 0.5454 - accuracy: 0.6990 - val_loss: 0.9963 - val_accuracy: 0.6234\n",
      "Epoch 228/250\n",
      "691/691 [==============================] - 0s 50us/sample - loss: 0.5447 - accuracy: 0.7106 - val_loss: 0.9995 - val_accuracy: 0.5974\n",
      "Epoch 229/250\n",
      "691/691 [==============================] - 0s 59us/sample - loss: 0.5439 - accuracy: 0.7004 - val_loss: 1.0008 - val_accuracy: 0.5974\n",
      "Epoch 230/250\n",
      "691/691 [==============================] - 0s 48us/sample - loss: 0.5422 - accuracy: 0.7019 - val_loss: 1.0146 - val_accuracy: 0.5714\n",
      "Epoch 231/250\n",
      "691/691 [==============================] - 0s 48us/sample - loss: 0.5414 - accuracy: 0.7019 - val_loss: 1.0035 - val_accuracy: 0.5974\n",
      "Epoch 232/250\n",
      "691/691 [==============================] - 0s 51us/sample - loss: 0.5438 - accuracy: 0.7004 - val_loss: 1.0021 - val_accuracy: 0.5974\n",
      "Epoch 233/250\n",
      "691/691 [==============================] - 0s 48us/sample - loss: 0.5437 - accuracy: 0.7004 - val_loss: 1.0207 - val_accuracy: 0.5844\n",
      "Epoch 234/250\n",
      "691/691 [==============================] - 0s 44us/sample - loss: 0.5420 - accuracy: 0.7106 - val_loss: 1.0072 - val_accuracy: 0.6234\n",
      "Epoch 235/250\n",
      "691/691 [==============================] - 0s 40us/sample - loss: 0.5429 - accuracy: 0.7062 - val_loss: 1.0133 - val_accuracy: 0.6234\n",
      "Epoch 236/250\n",
      "691/691 [==============================] - 0s 40us/sample - loss: 0.5419 - accuracy: 0.7048 - val_loss: 1.0300 - val_accuracy: 0.5974\n",
      "Epoch 237/250\n",
      "691/691 [==============================] - 0s 39us/sample - loss: 0.5446 - accuracy: 0.7091 - val_loss: 1.0301 - val_accuracy: 0.5844\n",
      "Epoch 238/250\n",
      "691/691 [==============================] - 0s 44us/sample - loss: 0.5464 - accuracy: 0.7062 - val_loss: 1.0292 - val_accuracy: 0.5714\n",
      "Epoch 239/250\n",
      "691/691 [==============================] - 0s 40us/sample - loss: 0.5423 - accuracy: 0.7033 - val_loss: 1.0299 - val_accuracy: 0.5844\n",
      "Epoch 240/250\n",
      "691/691 [==============================] - 0s 38us/sample - loss: 0.5402 - accuracy: 0.6990 - val_loss: 1.0279 - val_accuracy: 0.5844\n",
      "Epoch 241/250\n",
      "691/691 [==============================] - 0s 42us/sample - loss: 0.5412 - accuracy: 0.7062 - val_loss: 1.0278 - val_accuracy: 0.5974\n",
      "Epoch 242/250\n",
      "691/691 [==============================] - 0s 49us/sample - loss: 0.5414 - accuracy: 0.7062 - val_loss: 1.0377 - val_accuracy: 0.6104\n",
      "Epoch 243/250\n",
      "691/691 [==============================] - 0s 44us/sample - loss: 0.5385 - accuracy: 0.7164 - val_loss: 1.0323 - val_accuracy: 0.5844\n",
      "Epoch 244/250\n",
      "691/691 [==============================] - 0s 39us/sample - loss: 0.5416 - accuracy: 0.6975 - val_loss: 1.0368 - val_accuracy: 0.5974\n",
      "Epoch 245/250\n",
      "691/691 [==============================] - 0s 40us/sample - loss: 0.5405 - accuracy: 0.7077 - val_loss: 1.0471 - val_accuracy: 0.6364\n",
      "Epoch 246/250\n",
      "691/691 [==============================] - 0s 42us/sample - loss: 0.5395 - accuracy: 0.7033 - val_loss: 1.0478 - val_accuracy: 0.5974\n",
      "Epoch 247/250\n",
      "691/691 [==============================] - 0s 47us/sample - loss: 0.5385 - accuracy: 0.7048 - val_loss: 1.0616 - val_accuracy: 0.5455\n",
      "Epoch 248/250\n",
      "691/691 [==============================] - 0s 55us/sample - loss: 0.5560 - accuracy: 0.7033 - val_loss: 1.0377 - val_accuracy: 0.6104\n",
      "Epoch 249/250\n",
      "691/691 [==============================] - 0s 49us/sample - loss: 0.5413 - accuracy: 0.7033 - val_loss: 1.0420 - val_accuracy: 0.5714\n",
      "Epoch 250/250\n",
      "691/691 [==============================] - 0s 49us/sample - loss: 0.5428 - accuracy: 0.7048 - val_loss: 1.0613 - val_accuracy: 0.6104\n"
     ]
    },
    {
     "data": {
      "text/plain": [
       "<tensorflow.python.keras.callbacks.History at 0x141902240>"
      ]
     },
     "execution_count": 60,
     "metadata": {},
     "output_type": "execute_result"
    }
   ],
   "source": [
    "model_improved.fit(X,y, epochs=250, validation_split=.10)"
   ]
  },
  {
   "cell_type": "code",
   "execution_count": 61,
   "metadata": {},
   "outputs": [
    {
     "name": "stdout",
     "output_type": "stream",
     "text": [
      "768/768 [==============================] - 0s 113us/sample - loss: 0.5944 - accuracy: 0.6927\n"
     ]
    },
    {
     "data": {
      "text/plain": [
       "[0.594361212104559, 0.6927083]"
      ]
     },
     "execution_count": 61,
     "metadata": {},
     "output_type": "execute_result"
    }
   ],
   "source": [
    "model_improved.evaluate(X,y)\n",
    "#print(f\"{model_improved.metrics_names[1]}: {scores[1]*100}\")"
   ]
  },
  {
   "cell_type": "markdown",
   "metadata": {},
   "source": [
    "## Challenge\n",
    "\n",
    "You will have to choose your own architectures in today's module project. "
   ]
  },
  {
   "cell_type": "code",
   "execution_count": 62,
   "metadata": {},
   "outputs": [
    {
     "name": "stdout",
     "output_type": "stream",
     "text": [
      "Model: \"SGD\"\n",
      "_________________________________________________________________\n",
      "Layer (type)                 Output Shape              Param #   \n",
      "=================================================================\n",
      "dense_23 (Dense)             (None, 4)                 36        \n",
      "_________________________________________________________________\n",
      "dense_24 (Dense)             (None, 3)                 15        \n",
      "_________________________________________________________________\n",
      "dense_25 (Dense)             (None, 1)                 4         \n",
      "=================================================================\n",
      "Total params: 55\n",
      "Trainable params: 55\n",
      "Non-trainable params: 0\n",
      "_________________________________________________________________\n"
     ]
    }
   ],
   "source": [
    "\n",
    "model = Sequential(name=\"SGD\")\n",
    "\n",
    "model.add(Dense(4, input_dim=8, activation='relu'))\n",
    "model.add(Dense(3, activation='sigmoid'))\n",
    "model.add(Dense(1, activation='sigmoid'))\n",
    "\n",
    "model.compile(loss='binary_crossentropy', optimizer='sgd',\n",
    "              metrics=['accuracy'])\n",
    "\n",
    "# Let's inspect our new architecture\n",
    "model.summary()"
   ]
  },
  {
   "cell_type": "code",
   "execution_count": null,
   "metadata": {},
   "outputs": [],
   "source": []
  },
  {
   "cell_type": "markdown",
   "metadata": {
    "colab_type": "text",
    "id": "tcjMuxtn6wIQ",
    "toc-hr-collapsed": false
   },
   "source": [
    "# Activation Functions (Learn)"
   ]
  },
  {
   "cell_type": "markdown",
   "metadata": {
    "colab_type": "text",
    "id": "tcjMuxtn6wIQ",
    "toc-hr-collapsed": false
   },
   "source": [
    "## Overview\n",
    "What is an activation function and how does it work?\n",
    "\n",
    "- Takes in a weighted sum of inputs + a bias from the previous layer and outputs an \"activation\" value.\n",
    "- Based its inputs the neuron decides how 'activated' it should be. This can be thought of as the neuron deciding how strongly to fire. You can also think of it as if the neuron is deciding how much of the signal that it has received to pass onto the next layer. \n",
    "- Our choice of activation function does not only affect signal that is passed forward but also affects the backpropagation algorithm. It affects how we update weights in reverse order since activated weight/input sums become the inputs of the next layer. "
   ]
  },
  {
   "cell_type": "markdown",
   "metadata": {
    "toc-hr-collapsed": true
   },
   "source": [
    "## Follow Along"
   ]
  },
  {
   "cell_type": "markdown",
   "metadata": {
    "colab_type": "text",
    "id": "n_b0u8Ch60bA"
   },
   "source": [
    "### Step Function\n",
    "\n",
    "![Heaviside Step Function](https://upload.wikimedia.org/wikipedia/commons/thumb/d/d9/Dirac_distribution_CDF.svg/325px-Dirac_distribution_CDF.svg.png)\n",
    "\n",
    "All or nothing, a little extreme, which is fine, but makes updating weights through backpropagation impossible. Why? remember that during backpropagation we use derivatives in order to determine how much to update or not update weights. What is the derivative of the step function?"
   ]
  },
  {
   "cell_type": "markdown",
   "metadata": {
    "colab_type": "text",
    "id": "vKR0YhIVEnXZ"
   },
   "source": [
    "### Linear Function\n",
    "\n",
    "![Linear Function](http://www.roconnell.net/Parent%20function/linear.gif)\n",
    "\n",
    "The linear function takes the opposite tact from the step function and passes the signal onto the next layer by a constant factor. There are problems with this but the biggest problems again lie in backpropagation. The derivative of any linear function is a horizontal line which would indicate that we should update all weights by a constant amount every time -which on balance wouldn't change the behavior of our network. Linear functions are typically only used for very simple tasks where interpretability is important, but if interpretability is your highest priority, you probably shouldn't be using neural networks in the first place."
   ]
  },
  {
   "cell_type": "markdown",
   "metadata": {
    "colab_type": "text",
    "id": "JFurIVL6EkQ8"
   },
   "source": [
    "### Sigmoid Function\n",
    "\n",
    "![Sigmoid Function](https://upload.wikimedia.org/wikipedia/commons/thumb/8/88/Logistic-curve.svg/480px-Logistic-curve.svg.png)\n",
    "\n",
    "The sigmoid function works great as an activation function! it's continuously differentiable, its derivative doesn't have a constant slope, and having the higher slope in the middle pushes y value predictions towards extremes which is particularly useful for binary classification problems. I mean, this is why we use it as the squishifier in logistic regression as well. It constrains output, but over repeated epochs pushes predictions towards a strong binary prediction. \n",
    "\n",
    "What's the biggest problem with the sigmoid function? The fact that its slope gets pretty flat so quickly after its departure from zero. This means that updating weights based on its gradient really diminishes the size of our weight updates as our model gets more confident about its classifications. This is why even after so many iterations with our test score example we couldn't reach the levels of fit that our gradient descent based model could reach in just a few epochs."
   ]
  },
  {
   "cell_type": "markdown",
   "metadata": {
    "colab_type": "text",
    "id": "hm6p1HWbEhYi"
   },
   "source": [
    "### Tanh Function\n",
    "\n",
    "![Tanh Function](http://mathworld.wolfram.com/images/interactive/TanhReal.gif)\n",
    "\n",
    "What if the sigmoid function didn't get so flat quite as soon when moving away from zero and was a little bit steeper in the middle? That's basically the Tanh function. The Tanh function can actually be created by scaling the sigmoid function by 2 in the y dimension and subtracting 1 from all values. It has basically the same properties as the sigmoid, still struggles from diminishingly flat gradients as we move away from 0, but its derivative is higher around 0 causing weights to move to the extremes a little faster. "
   ]
  },
  {
   "cell_type": "markdown",
   "metadata": {
    "colab_type": "text",
    "id": "sFOn_L6gEcz1"
   },
   "source": [
    "### ReLU Function\n",
    "\n",
    "![ReLU Function](https://cdn-images-1.medium.com/max/937/1*oePAhrm74RNnNEolprmTaQ.png)\n",
    "\n",
    "ReLU stands for Rectified Linear Units it is by far the most commonly used activation function in modern neural networks. It doesn't activate neurons that are being passed a negative signal and passes on positive signals. Think about why this might be useful. Remember how a lot of our initial weights got set to negative numbers by chance? This would have dealt with those negative weights a lot faster than the sigmoid function updating. What does the derivative of this function look like? It looks like the step function! This means that not all neurons are activated. With sigmoid basically all of our neurons are passing some amount of signal even if it's small making it hard for the network to differentiate important and less important connections. ReLU turns off a portion of our less important neurons which decreases computational load, but also helps the network learn what the most important connections are faster. \n",
    "\n",
    "What's the problem with relu? Well the left half of its derivative function shows that for neurons that are initialized with weights that cause them to have no activation, our gradient will not update those neuron's weights, this can lead to dead neurons that never fire and whose weights never get updated. We would probably want to update the weights of neurons that didn't fire even if it's just by a little bit in case we got unlucky with our initial weights and want to give those neurons a chance of turning back on in the future."
   ]
  },
  {
   "cell_type": "markdown",
   "metadata": {
    "colab_type": "text",
    "id": "XWdvWOBIETwk"
   },
   "source": [
    "### Leaky ReLU\n",
    "\n",
    "![Leaky ReLU](https://cdn-images-1.medium.com/max/1600/1*ypsvQH7kvtI2BhzR2eT_Sw.png)\n",
    "\n",
    "Leaky ReLU accomplishes exactly that! it avoids having a gradient of 0 on the left side of its derivative function. This means that even \"dead\" neurons have a chance of being revived over enough iterations. In some specifications the slope of the leaky left-hand side can also be experimented with as a hyperparameter of the model!"
   ]
  },
  {
   "cell_type": "markdown",
   "metadata": {
    "colab_type": "text",
    "id": "FcAxkNFREMFb"
   },
   "source": [
    "### Softmax Function\n",
    "\n",
    "![Softmax Function](https://cdn-images-1.medium.com/max/800/1*670CdxchunD-yAuUWdI7Bw.png)\n",
    "\n",
    "Like the sigmoid function but more useful for multi-class classification problems. The softmax function can take any set of inputs and translate them into probabilities that sum up to 1. This means that we can throw any list of outputs at it and it will translate them into probabilities, this is extremely useful for multi-class classification problems. Like MNIST for example..."
   ]
  },
  {
   "cell_type": "markdown",
   "metadata": {
    "colab_type": "text",
    "id": "23-XRRXKHs34"
   },
   "source": [
    "### Major takeaways\n",
    "\n",
    "- ReLU is generally better at obtaining the optimal model fit.\n",
    "- Sigmoid and its derivatives are usually better at classification problems.\n",
    "- Softmax for multi-class classification problems. \n",
    "\n",
    "You'll typically see ReLU used for all initial layers and then the final layer being sigmoid or softmax for classification problems. But you can experiment and tune these selections as hyperparameters as well!"
   ]
  },
  {
   "cell_type": "markdown",
   "metadata": {
    "colab_type": "text",
    "id": "TWuoXZCCKCI7"
   },
   "source": [
    "### MNIST with Keras \n",
    "\n",
    "#### This will be a good chance to bring up dropout regularization. :)"
   ]
  },
  {
   "cell_type": "code",
   "execution_count": 63,
   "metadata": {
    "colab": {},
    "colab_type": "code",
    "id": "jmJ_5azs04pU"
   },
   "outputs": [],
   "source": [
    "### Let's do it!\n",
    "\n",
    "from tensorflow import keras\n",
    "from tensorflow.keras.datasets import mnist\n",
    "from tensorflow.keras.models import Sequential\n",
    "from tensorflow.keras.layers import Dense, Dropout\n",
    "\n",
    "# Stretch - use dropout \n",
    "import numpy as np"
   ]
  },
  {
   "cell_type": "code",
   "execution_count": 64,
   "metadata": {},
   "outputs": [],
   "source": [
    "# Hyper Parameters\n",
    "batch_size = 64\n",
    "num_classes = 10\n",
    "epochs = 20"
   ]
  },
  {
   "cell_type": "code",
   "execution_count": 65,
   "metadata": {},
   "outputs": [],
   "source": [
    "# Load the Data\n",
    "(X_train, y_train), (X_test, y_test) = mnist.load_data()"
   ]
  },
  {
   "cell_type": "code",
   "execution_count": 66,
   "metadata": {},
   "outputs": [
    {
     "data": {
      "text/plain": [
       "(28, 28)"
      ]
     },
     "execution_count": 66,
     "metadata": {},
     "output_type": "execute_result"
    }
   ],
   "source": [
    "X_train[0].shape"
   ]
  },
  {
   "cell_type": "code",
   "execution_count": 67,
   "metadata": {},
   "outputs": [
    {
     "data": {
      "text/plain": [
       "(60000, 28, 28)"
      ]
     },
     "execution_count": 67,
     "metadata": {},
     "output_type": "execute_result"
    }
   ],
   "source": [
    "X_train.shape"
   ]
  },
  {
   "cell_type": "code",
   "execution_count": 68,
   "metadata": {
    "collapsed": true,
    "jupyter": {
     "outputs_hidden": true
    }
   },
   "outputs": [
    {
     "data": {
      "text/plain": [
       "array([[  0,   0,   0,   0,   0,   0,   0,   0,   0,   0,   0,   0,   0,\n",
       "          0,   0,   0,   0,   0,   0,   0,   0,   0,   0,   0,   0,   0,\n",
       "          0,   0],\n",
       "       [  0,   0,   0,   0,   0,   0,   0,   0,   0,   0,   0,   0,   0,\n",
       "          0,   0,   0,   0,   0,   0,   0,   0,   0,   0,   0,   0,   0,\n",
       "          0,   0],\n",
       "       [  0,   0,   0,   0,   0,   0,   0,   0,   0,   0,   0,   0,   0,\n",
       "          0,   0,   0,   0,   0,   0,   0,   0,   0,   0,   0,   0,   0,\n",
       "          0,   0],\n",
       "       [  0,   0,   0,   0,   0,   0,   0,   0,   0,   0,   0,   0,   0,\n",
       "          0,   0,   0,   0,   0,   0,   0,   0,   0,   0,   0,   0,   0,\n",
       "          0,   0],\n",
       "       [  0,   0,   0,   0,   0,   0,   0,   0,   0,   0,   0,   0,   0,\n",
       "          0,   0,   0,   0,   0,   0,   0,   0,   0,   0,   0,   0,   0,\n",
       "          0,   0],\n",
       "       [  0,   0,   0,   0,   0,   0,   0,   0,   0,   0,   0,   0,   3,\n",
       "         18,  18,  18, 126, 136, 175,  26, 166, 255, 247, 127,   0,   0,\n",
       "          0,   0],\n",
       "       [  0,   0,   0,   0,   0,   0,   0,   0,  30,  36,  94, 154, 170,\n",
       "        253, 253, 253, 253, 253, 225, 172, 253, 242, 195,  64,   0,   0,\n",
       "          0,   0],\n",
       "       [  0,   0,   0,   0,   0,   0,   0,  49, 238, 253, 253, 253, 253,\n",
       "        253, 253, 253, 253, 251,  93,  82,  82,  56,  39,   0,   0,   0,\n",
       "          0,   0],\n",
       "       [  0,   0,   0,   0,   0,   0,   0,  18, 219, 253, 253, 253, 253,\n",
       "        253, 198, 182, 247, 241,   0,   0,   0,   0,   0,   0,   0,   0,\n",
       "          0,   0],\n",
       "       [  0,   0,   0,   0,   0,   0,   0,   0,  80, 156, 107, 253, 253,\n",
       "        205,  11,   0,  43, 154,   0,   0,   0,   0,   0,   0,   0,   0,\n",
       "          0,   0],\n",
       "       [  0,   0,   0,   0,   0,   0,   0,   0,   0,  14,   1, 154, 253,\n",
       "         90,   0,   0,   0,   0,   0,   0,   0,   0,   0,   0,   0,   0,\n",
       "          0,   0],\n",
       "       [  0,   0,   0,   0,   0,   0,   0,   0,   0,   0,   0, 139, 253,\n",
       "        190,   2,   0,   0,   0,   0,   0,   0,   0,   0,   0,   0,   0,\n",
       "          0,   0],\n",
       "       [  0,   0,   0,   0,   0,   0,   0,   0,   0,   0,   0,  11, 190,\n",
       "        253,  70,   0,   0,   0,   0,   0,   0,   0,   0,   0,   0,   0,\n",
       "          0,   0],\n",
       "       [  0,   0,   0,   0,   0,   0,   0,   0,   0,   0,   0,   0,  35,\n",
       "        241, 225, 160, 108,   1,   0,   0,   0,   0,   0,   0,   0,   0,\n",
       "          0,   0],\n",
       "       [  0,   0,   0,   0,   0,   0,   0,   0,   0,   0,   0,   0,   0,\n",
       "         81, 240, 253, 253, 119,  25,   0,   0,   0,   0,   0,   0,   0,\n",
       "          0,   0],\n",
       "       [  0,   0,   0,   0,   0,   0,   0,   0,   0,   0,   0,   0,   0,\n",
       "          0,  45, 186, 253, 253, 150,  27,   0,   0,   0,   0,   0,   0,\n",
       "          0,   0],\n",
       "       [  0,   0,   0,   0,   0,   0,   0,   0,   0,   0,   0,   0,   0,\n",
       "          0,   0,  16,  93, 252, 253, 187,   0,   0,   0,   0,   0,   0,\n",
       "          0,   0],\n",
       "       [  0,   0,   0,   0,   0,   0,   0,   0,   0,   0,   0,   0,   0,\n",
       "          0,   0,   0,   0, 249, 253, 249,  64,   0,   0,   0,   0,   0,\n",
       "          0,   0],\n",
       "       [  0,   0,   0,   0,   0,   0,   0,   0,   0,   0,   0,   0,   0,\n",
       "          0,  46, 130, 183, 253, 253, 207,   2,   0,   0,   0,   0,   0,\n",
       "          0,   0],\n",
       "       [  0,   0,   0,   0,   0,   0,   0,   0,   0,   0,   0,   0,  39,\n",
       "        148, 229, 253, 253, 253, 250, 182,   0,   0,   0,   0,   0,   0,\n",
       "          0,   0],\n",
       "       [  0,   0,   0,   0,   0,   0,   0,   0,   0,   0,  24, 114, 221,\n",
       "        253, 253, 253, 253, 201,  78,   0,   0,   0,   0,   0,   0,   0,\n",
       "          0,   0],\n",
       "       [  0,   0,   0,   0,   0,   0,   0,   0,  23,  66, 213, 253, 253,\n",
       "        253, 253, 198,  81,   2,   0,   0,   0,   0,   0,   0,   0,   0,\n",
       "          0,   0],\n",
       "       [  0,   0,   0,   0,   0,   0,  18, 171, 219, 253, 253, 253, 253,\n",
       "        195,  80,   9,   0,   0,   0,   0,   0,   0,   0,   0,   0,   0,\n",
       "          0,   0],\n",
       "       [  0,   0,   0,   0,  55, 172, 226, 253, 253, 253, 253, 244, 133,\n",
       "         11,   0,   0,   0,   0,   0,   0,   0,   0,   0,   0,   0,   0,\n",
       "          0,   0],\n",
       "       [  0,   0,   0,   0, 136, 253, 253, 253, 212, 135, 132,  16,   0,\n",
       "          0,   0,   0,   0,   0,   0,   0,   0,   0,   0,   0,   0,   0,\n",
       "          0,   0],\n",
       "       [  0,   0,   0,   0,   0,   0,   0,   0,   0,   0,   0,   0,   0,\n",
       "          0,   0,   0,   0,   0,   0,   0,   0,   0,   0,   0,   0,   0,\n",
       "          0,   0],\n",
       "       [  0,   0,   0,   0,   0,   0,   0,   0,   0,   0,   0,   0,   0,\n",
       "          0,   0,   0,   0,   0,   0,   0,   0,   0,   0,   0,   0,   0,\n",
       "          0,   0],\n",
       "       [  0,   0,   0,   0,   0,   0,   0,   0,   0,   0,   0,   0,   0,\n",
       "          0,   0,   0,   0,   0,   0,   0,   0,   0,   0,   0,   0,   0,\n",
       "          0,   0]], dtype=uint8)"
      ]
     },
     "execution_count": 68,
     "metadata": {},
     "output_type": "execute_result"
    }
   ],
   "source": [
    "X_train[0]"
   ]
  },
  {
   "cell_type": "code",
   "execution_count": 69,
   "metadata": {},
   "outputs": [],
   "source": [
    "# Reshape the data\n",
    "X_train = X_train.reshape(60000, 784)\n",
    "X_test = X_test.reshape(10000, 784)"
   ]
  },
  {
   "cell_type": "code",
   "execution_count": 70,
   "metadata": {},
   "outputs": [],
   "source": [
    "# X Variable Types\n",
    "X_train = X_train.astype('float32')\n",
    "X_test = X_test.astype('float32')"
   ]
  },
  {
   "cell_type": "code",
   "execution_count": 71,
   "metadata": {},
   "outputs": [
    {
     "data": {
      "text/plain": [
       "4"
      ]
     },
     "execution_count": 71,
     "metadata": {},
     "output_type": "execute_result"
    }
   ],
   "source": [
    "y_train[2] "
   ]
  },
  {
   "cell_type": "code",
   "execution_count": 72,
   "metadata": {},
   "outputs": [
    {
     "data": {
      "text/plain": [
       "4"
      ]
     },
     "execution_count": 72,
     "metadata": {},
     "output_type": "execute_result"
    }
   ],
   "source": [
    "y_train[2]"
   ]
  },
  {
   "cell_type": "code",
   "execution_count": 73,
   "metadata": {},
   "outputs": [],
   "source": [
    "# Correct Encoding on Y\n",
    "# What softmax expects = [0,0,0,0,0,1,0,0,0,0]\n",
    "\n",
    "y_train = keras.utils.to_categorical(y_train, num_classes)\n",
    "y_test = keras.utils.to_categorical(y_test, num_classes)"
   ]
  },
  {
   "cell_type": "code",
   "execution_count": 74,
   "metadata": {},
   "outputs": [
    {
     "data": {
      "text/plain": [
       "array([0., 0., 0., 0., 1., 0., 0., 0., 0., 0.], dtype=float32)"
      ]
     },
     "execution_count": 74,
     "metadata": {},
     "output_type": "execute_result"
    }
   ],
   "source": [
    "y_train[2]"
   ]
  },
  {
   "cell_type": "code",
   "execution_count": 75,
   "metadata": {},
   "outputs": [
    {
     "name": "stdout",
     "output_type": "stream",
     "text": [
      "Model: \"sequential_4\"\n",
      "_________________________________________________________________\n",
      "Layer (type)                 Output Shape              Param #   \n",
      "=================================================================\n",
      "dense_26 (Dense)             (None, 16)                12560     \n",
      "_________________________________________________________________\n",
      "dense_27 (Dense)             (None, 16)                272       \n",
      "_________________________________________________________________\n",
      "dense_28 (Dense)             (None, 16)                272       \n",
      "_________________________________________________________________\n",
      "dense_29 (Dense)             (None, 16)                272       \n",
      "_________________________________________________________________\n",
      "dense_30 (Dense)             (None, 10)                170       \n",
      "=================================================================\n",
      "Total params: 13,546\n",
      "Trainable params: 13,546\n",
      "Non-trainable params: 0\n",
      "_________________________________________________________________\n"
     ]
    }
   ],
   "source": [
    "mnist_model = Sequential()\n",
    "\n",
    "# Input => Hidden\n",
    "mnist_model.add(Dense(16, input_dim=784, activation='relu'))\n",
    "# Hidden\n",
    "mnist_model.add(Dense(16, activation='relu'))\n",
    "# Hidden\n",
    "mnist_model.add(Dense(16, activation='relu'))\n",
    "# Hidden\n",
    "mnist_model.add(Dense(16, activation='relu'))\n",
    "# Output\n",
    "mnist_model.add(Dense(10,activation='softmax'))\n",
    "\n",
    "#Compile\n",
    "mnist_model.compile(loss='categorical_crossentropy',\n",
    "                    optimizer='adam',\n",
    "                    metrics=['accuracy'])\n",
    "\n",
    "mnist_model.summary()"
   ]
  },
  {
   "cell_type": "code",
   "execution_count": 76,
   "metadata": {},
   "outputs": [],
   "source": [
    "def neural_network(X):\n",
    "    \n",
    "    dense1 = Dense(8, activation='relu', input=X)\n",
    "    dense2 = Dense(8, activation='relu')(X)\n",
    "    \n",
    "    \n",
    "    return dense2 #or return model"
   ]
  },
  {
   "cell_type": "code",
   "execution_count": 77,
   "metadata": {},
   "outputs": [
    {
     "data": {
      "text/plain": [
       "12544"
      ]
     },
     "execution_count": 77,
     "metadata": {},
     "output_type": "execute_result"
    }
   ],
   "source": [
    "16 *  784"
   ]
  },
  {
   "cell_type": "code",
   "execution_count": 78,
   "metadata": {},
   "outputs": [
    {
     "data": {
      "text/plain": [
       "(10000, 10)"
      ]
     },
     "execution_count": 78,
     "metadata": {},
     "output_type": "execute_result"
    }
   ],
   "source": [
    "y_test.shape"
   ]
  },
  {
   "cell_type": "code",
   "execution_count": 79,
   "metadata": {
    "collapsed": true,
    "jupyter": {
     "outputs_hidden": true
    }
   },
   "outputs": [
    {
     "ename": "KeyboardInterrupt",
     "evalue": "",
     "output_type": "error",
     "traceback": [
      "\u001b[0;31m---------------------------------------------------------------------------\u001b[0m",
      "\u001b[0;31mKeyboardInterrupt\u001b[0m                         Traceback (most recent call last)",
      "\u001b[0;32m<ipython-input-79-fd0808510929>\u001b[0m in \u001b[0;36m<module>\u001b[0;34m\u001b[0m\n\u001b[0;32m----> 1\u001b[0;31m \u001b[0mhistory\u001b[0m \u001b[0;34m=\u001b[0m \u001b[0mmnist_model\u001b[0m\u001b[0;34m.\u001b[0m\u001b[0mfit\u001b[0m\u001b[0;34m(\u001b[0m\u001b[0mX_train\u001b[0m\u001b[0;34m,\u001b[0m \u001b[0my_train\u001b[0m\u001b[0;34m,\u001b[0m \u001b[0mbatch_size\u001b[0m\u001b[0;34m=\u001b[0m\u001b[0;36m32\u001b[0m\u001b[0;34m,\u001b[0m \u001b[0mepochs\u001b[0m\u001b[0;34m=\u001b[0m\u001b[0;36m100\u001b[0m\u001b[0;34m,\u001b[0m \u001b[0mverbose\u001b[0m\u001b[0;34m=\u001b[0m\u001b[0;32mFalse\u001b[0m\u001b[0;34m)\u001b[0m\u001b[0;34m\u001b[0m\u001b[0m\n\u001b[0m\u001b[1;32m      2\u001b[0m \u001b[0mscores\u001b[0m \u001b[0;34m=\u001b[0m \u001b[0mmnist_model\u001b[0m\u001b[0;34m.\u001b[0m\u001b[0mevaluate\u001b[0m\u001b[0;34m(\u001b[0m\u001b[0mX_test\u001b[0m\u001b[0;34m,\u001b[0m \u001b[0my_test\u001b[0m\u001b[0;34m)\u001b[0m\u001b[0;34m\u001b[0m\u001b[0m\n\u001b[1;32m      3\u001b[0m \u001b[0;31m#print(f'{mnist_model.metrics_names[1]}: {scores[1]*100}')\u001b[0m\u001b[0;34m\u001b[0m\u001b[0;34m\u001b[0m\u001b[0m\n",
      "\u001b[0;32m~/opt/anaconda3/envs/U4-S2-NN/lib/python3.7/site-packages/tensorflow_core/python/keras/engine/training.py\u001b[0m in \u001b[0;36mfit\u001b[0;34m(self, x, y, batch_size, epochs, verbose, callbacks, validation_split, validation_data, shuffle, class_weight, sample_weight, initial_epoch, steps_per_epoch, validation_steps, validation_freq, max_queue_size, workers, use_multiprocessing, **kwargs)\u001b[0m\n\u001b[1;32m    817\u001b[0m         \u001b[0mmax_queue_size\u001b[0m\u001b[0;34m=\u001b[0m\u001b[0mmax_queue_size\u001b[0m\u001b[0;34m,\u001b[0m\u001b[0;34m\u001b[0m\u001b[0m\n\u001b[1;32m    818\u001b[0m         \u001b[0mworkers\u001b[0m\u001b[0;34m=\u001b[0m\u001b[0mworkers\u001b[0m\u001b[0;34m,\u001b[0m\u001b[0;34m\u001b[0m\u001b[0m\n\u001b[0;32m--> 819\u001b[0;31m         use_multiprocessing=use_multiprocessing)\n\u001b[0m\u001b[1;32m    820\u001b[0m \u001b[0;34m\u001b[0m\u001b[0m\n\u001b[1;32m    821\u001b[0m   def evaluate(self,\n",
      "\u001b[0;32m~/opt/anaconda3/envs/U4-S2-NN/lib/python3.7/site-packages/tensorflow_core/python/keras/engine/training_v2.py\u001b[0m in \u001b[0;36mfit\u001b[0;34m(self, model, x, y, batch_size, epochs, verbose, callbacks, validation_split, validation_data, shuffle, class_weight, sample_weight, initial_epoch, steps_per_epoch, validation_steps, validation_freq, max_queue_size, workers, use_multiprocessing, **kwargs)\u001b[0m\n\u001b[1;32m    340\u001b[0m                 \u001b[0mmode\u001b[0m\u001b[0;34m=\u001b[0m\u001b[0mModeKeys\u001b[0m\u001b[0;34m.\u001b[0m\u001b[0mTRAIN\u001b[0m\u001b[0;34m,\u001b[0m\u001b[0;34m\u001b[0m\u001b[0m\n\u001b[1;32m    341\u001b[0m                 \u001b[0mtraining_context\u001b[0m\u001b[0;34m=\u001b[0m\u001b[0mtraining_context\u001b[0m\u001b[0;34m,\u001b[0m\u001b[0;34m\u001b[0m\u001b[0m\n\u001b[0;32m--> 342\u001b[0;31m                 total_epochs=epochs)\n\u001b[0m\u001b[1;32m    343\u001b[0m             \u001b[0mcbks\u001b[0m\u001b[0;34m.\u001b[0m\u001b[0mmake_logs\u001b[0m\u001b[0;34m(\u001b[0m\u001b[0mmodel\u001b[0m\u001b[0;34m,\u001b[0m \u001b[0mepoch_logs\u001b[0m\u001b[0;34m,\u001b[0m \u001b[0mtraining_result\u001b[0m\u001b[0;34m,\u001b[0m \u001b[0mModeKeys\u001b[0m\u001b[0;34m.\u001b[0m\u001b[0mTRAIN\u001b[0m\u001b[0;34m)\u001b[0m\u001b[0;34m\u001b[0m\u001b[0m\n\u001b[1;32m    344\u001b[0m \u001b[0;34m\u001b[0m\u001b[0m\n",
      "\u001b[0;32m~/opt/anaconda3/envs/U4-S2-NN/lib/python3.7/site-packages/tensorflow_core/python/keras/engine/training_v2.py\u001b[0m in \u001b[0;36mrun_one_epoch\u001b[0;34m(model, iterator, execution_function, dataset_size, batch_size, strategy, steps_per_epoch, num_samples, mode, training_context, total_epochs)\u001b[0m\n\u001b[1;32m    126\u001b[0m         step=step, mode=mode, size=current_batch_size) as batch_logs:\n\u001b[1;32m    127\u001b[0m       \u001b[0;32mtry\u001b[0m\u001b[0;34m:\u001b[0m\u001b[0;34m\u001b[0m\u001b[0m\n\u001b[0;32m--> 128\u001b[0;31m         \u001b[0mbatch_outs\u001b[0m \u001b[0;34m=\u001b[0m \u001b[0mexecution_function\u001b[0m\u001b[0;34m(\u001b[0m\u001b[0miterator\u001b[0m\u001b[0;34m)\u001b[0m\u001b[0;34m\u001b[0m\u001b[0m\n\u001b[0m\u001b[1;32m    129\u001b[0m       \u001b[0;32mexcept\u001b[0m \u001b[0;34m(\u001b[0m\u001b[0mStopIteration\u001b[0m\u001b[0;34m,\u001b[0m \u001b[0merrors\u001b[0m\u001b[0;34m.\u001b[0m\u001b[0mOutOfRangeError\u001b[0m\u001b[0;34m)\u001b[0m\u001b[0;34m:\u001b[0m\u001b[0;34m\u001b[0m\u001b[0m\n\u001b[1;32m    130\u001b[0m         \u001b[0;31m# TODO(kaftan): File bug about tf function and errors.OutOfRangeError?\u001b[0m\u001b[0;34m\u001b[0m\u001b[0;34m\u001b[0m\u001b[0m\n",
      "\u001b[0;32m~/opt/anaconda3/envs/U4-S2-NN/lib/python3.7/site-packages/tensorflow_core/python/keras/engine/training_v2_utils.py\u001b[0m in \u001b[0;36mexecution_function\u001b[0;34m(input_fn)\u001b[0m\n\u001b[1;32m     96\u001b[0m     \u001b[0;31m# `numpy` translates Tensors to values in Eager mode.\u001b[0m\u001b[0;34m\u001b[0m\u001b[0;34m\u001b[0m\u001b[0m\n\u001b[1;32m     97\u001b[0m     return nest.map_structure(_non_none_constant_value,\n\u001b[0;32m---> 98\u001b[0;31m                               distributed_function(input_fn))\n\u001b[0m\u001b[1;32m     99\u001b[0m \u001b[0;34m\u001b[0m\u001b[0m\n\u001b[1;32m    100\u001b[0m   \u001b[0;32mreturn\u001b[0m \u001b[0mexecution_function\u001b[0m\u001b[0;34m\u001b[0m\u001b[0m\n",
      "\u001b[0;32m~/opt/anaconda3/envs/U4-S2-NN/lib/python3.7/site-packages/tensorflow_core/python/eager/def_function.py\u001b[0m in \u001b[0;36m__call__\u001b[0;34m(self, *args, **kwds)\u001b[0m\n\u001b[1;32m    566\u001b[0m         \u001b[0mxla_context\u001b[0m\u001b[0;34m.\u001b[0m\u001b[0mExit\u001b[0m\u001b[0;34m(\u001b[0m\u001b[0;34m)\u001b[0m\u001b[0;34m\u001b[0m\u001b[0m\n\u001b[1;32m    567\u001b[0m     \u001b[0;32melse\u001b[0m\u001b[0;34m:\u001b[0m\u001b[0;34m\u001b[0m\u001b[0m\n\u001b[0;32m--> 568\u001b[0;31m       \u001b[0mresult\u001b[0m \u001b[0;34m=\u001b[0m \u001b[0mself\u001b[0m\u001b[0;34m.\u001b[0m\u001b[0m_call\u001b[0m\u001b[0;34m(\u001b[0m\u001b[0;34m*\u001b[0m\u001b[0margs\u001b[0m\u001b[0;34m,\u001b[0m \u001b[0;34m**\u001b[0m\u001b[0mkwds\u001b[0m\u001b[0;34m)\u001b[0m\u001b[0;34m\u001b[0m\u001b[0m\n\u001b[0m\u001b[1;32m    569\u001b[0m \u001b[0;34m\u001b[0m\u001b[0m\n\u001b[1;32m    570\u001b[0m     \u001b[0;32mif\u001b[0m \u001b[0mtracing_count\u001b[0m \u001b[0;34m==\u001b[0m \u001b[0mself\u001b[0m\u001b[0;34m.\u001b[0m\u001b[0m_get_tracing_count\u001b[0m\u001b[0;34m(\u001b[0m\u001b[0;34m)\u001b[0m\u001b[0;34m:\u001b[0m\u001b[0;34m\u001b[0m\u001b[0m\n",
      "\u001b[0;32m~/opt/anaconda3/envs/U4-S2-NN/lib/python3.7/site-packages/tensorflow_core/python/eager/def_function.py\u001b[0m in \u001b[0;36m_call\u001b[0;34m(self, *args, **kwds)\u001b[0m\n\u001b[1;32m    597\u001b[0m       \u001b[0;31m# In this case we have created variables on the first call, so we run the\u001b[0m\u001b[0;34m\u001b[0m\u001b[0;34m\u001b[0m\u001b[0m\n\u001b[1;32m    598\u001b[0m       \u001b[0;31m# defunned version which is guaranteed to never create variables.\u001b[0m\u001b[0;34m\u001b[0m\u001b[0;34m\u001b[0m\u001b[0m\n\u001b[0;32m--> 599\u001b[0;31m       \u001b[0;32mreturn\u001b[0m \u001b[0mself\u001b[0m\u001b[0;34m.\u001b[0m\u001b[0m_stateless_fn\u001b[0m\u001b[0;34m(\u001b[0m\u001b[0;34m*\u001b[0m\u001b[0margs\u001b[0m\u001b[0;34m,\u001b[0m \u001b[0;34m**\u001b[0m\u001b[0mkwds\u001b[0m\u001b[0;34m)\u001b[0m  \u001b[0;31m# pylint: disable=not-callable\u001b[0m\u001b[0;34m\u001b[0m\u001b[0m\n\u001b[0m\u001b[1;32m    600\u001b[0m     \u001b[0;32melif\u001b[0m \u001b[0mself\u001b[0m\u001b[0;34m.\u001b[0m\u001b[0m_stateful_fn\u001b[0m \u001b[0;32mis\u001b[0m \u001b[0;32mnot\u001b[0m \u001b[0;32mNone\u001b[0m\u001b[0;34m:\u001b[0m\u001b[0;34m\u001b[0m\u001b[0m\n\u001b[1;32m    601\u001b[0m       \u001b[0;31m# Release the lock early so that multiple threads can perform the call\u001b[0m\u001b[0;34m\u001b[0m\u001b[0;34m\u001b[0m\u001b[0m\n",
      "\u001b[0;32m~/opt/anaconda3/envs/U4-S2-NN/lib/python3.7/site-packages/tensorflow_core/python/eager/function.py\u001b[0m in \u001b[0;36m__call__\u001b[0;34m(self, *args, **kwargs)\u001b[0m\n\u001b[1;32m   2361\u001b[0m     \u001b[0;32mwith\u001b[0m \u001b[0mself\u001b[0m\u001b[0;34m.\u001b[0m\u001b[0m_lock\u001b[0m\u001b[0;34m:\u001b[0m\u001b[0;34m\u001b[0m\u001b[0m\n\u001b[1;32m   2362\u001b[0m       \u001b[0mgraph_function\u001b[0m\u001b[0;34m,\u001b[0m \u001b[0margs\u001b[0m\u001b[0;34m,\u001b[0m \u001b[0mkwargs\u001b[0m \u001b[0;34m=\u001b[0m \u001b[0mself\u001b[0m\u001b[0;34m.\u001b[0m\u001b[0m_maybe_define_function\u001b[0m\u001b[0;34m(\u001b[0m\u001b[0margs\u001b[0m\u001b[0;34m,\u001b[0m \u001b[0mkwargs\u001b[0m\u001b[0;34m)\u001b[0m\u001b[0;34m\u001b[0m\u001b[0m\n\u001b[0;32m-> 2363\u001b[0;31m     \u001b[0;32mreturn\u001b[0m \u001b[0mgraph_function\u001b[0m\u001b[0;34m.\u001b[0m\u001b[0m_filtered_call\u001b[0m\u001b[0;34m(\u001b[0m\u001b[0margs\u001b[0m\u001b[0;34m,\u001b[0m \u001b[0mkwargs\u001b[0m\u001b[0;34m)\u001b[0m  \u001b[0;31m# pylint: disable=protected-access\u001b[0m\u001b[0;34m\u001b[0m\u001b[0m\n\u001b[0m\u001b[1;32m   2364\u001b[0m \u001b[0;34m\u001b[0m\u001b[0m\n\u001b[1;32m   2365\u001b[0m   \u001b[0;34m@\u001b[0m\u001b[0mproperty\u001b[0m\u001b[0;34m\u001b[0m\u001b[0m\n",
      "\u001b[0;32m~/opt/anaconda3/envs/U4-S2-NN/lib/python3.7/site-packages/tensorflow_core/python/eager/function.py\u001b[0m in \u001b[0;36m_filtered_call\u001b[0;34m(self, args, kwargs)\u001b[0m\n\u001b[1;32m   1609\u001b[0m          if isinstance(t, (ops.Tensor,\n\u001b[1;32m   1610\u001b[0m                            resource_variable_ops.BaseResourceVariable))),\n\u001b[0;32m-> 1611\u001b[0;31m         self.captured_inputs)\n\u001b[0m\u001b[1;32m   1612\u001b[0m \u001b[0;34m\u001b[0m\u001b[0m\n\u001b[1;32m   1613\u001b[0m   \u001b[0;32mdef\u001b[0m \u001b[0m_call_flat\u001b[0m\u001b[0;34m(\u001b[0m\u001b[0mself\u001b[0m\u001b[0;34m,\u001b[0m \u001b[0margs\u001b[0m\u001b[0;34m,\u001b[0m \u001b[0mcaptured_inputs\u001b[0m\u001b[0;34m,\u001b[0m \u001b[0mcancellation_manager\u001b[0m\u001b[0;34m=\u001b[0m\u001b[0;32mNone\u001b[0m\u001b[0;34m)\u001b[0m\u001b[0;34m:\u001b[0m\u001b[0;34m\u001b[0m\u001b[0m\n",
      "\u001b[0;32m~/opt/anaconda3/envs/U4-S2-NN/lib/python3.7/site-packages/tensorflow_core/python/eager/function.py\u001b[0m in \u001b[0;36m_call_flat\u001b[0;34m(self, args, captured_inputs, cancellation_manager)\u001b[0m\n\u001b[1;32m   1690\u001b[0m       \u001b[0;31m# No tape is watching; skip to running the function.\u001b[0m\u001b[0;34m\u001b[0m\u001b[0;34m\u001b[0m\u001b[0m\n\u001b[1;32m   1691\u001b[0m       return self._build_call_outputs(self._inference_function.call(\n\u001b[0;32m-> 1692\u001b[0;31m           ctx, args, cancellation_manager=cancellation_manager))\n\u001b[0m\u001b[1;32m   1693\u001b[0m     forward_backward = self._select_forward_and_backward_functions(\n\u001b[1;32m   1694\u001b[0m         \u001b[0margs\u001b[0m\u001b[0;34m,\u001b[0m\u001b[0;34m\u001b[0m\u001b[0m\n",
      "\u001b[0;32m~/opt/anaconda3/envs/U4-S2-NN/lib/python3.7/site-packages/tensorflow_core/python/eager/function.py\u001b[0m in \u001b[0;36mcall\u001b[0;34m(self, ctx, args, cancellation_manager)\u001b[0m\n\u001b[1;32m    543\u001b[0m               \u001b[0minputs\u001b[0m\u001b[0;34m=\u001b[0m\u001b[0margs\u001b[0m\u001b[0;34m,\u001b[0m\u001b[0;34m\u001b[0m\u001b[0m\n\u001b[1;32m    544\u001b[0m               \u001b[0mattrs\u001b[0m\u001b[0;34m=\u001b[0m\u001b[0;34m(\u001b[0m\u001b[0;34m\"executor_type\"\u001b[0m\u001b[0;34m,\u001b[0m \u001b[0mexecutor_type\u001b[0m\u001b[0;34m,\u001b[0m \u001b[0;34m\"config_proto\"\u001b[0m\u001b[0;34m,\u001b[0m \u001b[0mconfig\u001b[0m\u001b[0;34m)\u001b[0m\u001b[0;34m,\u001b[0m\u001b[0;34m\u001b[0m\u001b[0m\n\u001b[0;32m--> 545\u001b[0;31m               ctx=ctx)\n\u001b[0m\u001b[1;32m    546\u001b[0m         \u001b[0;32melse\u001b[0m\u001b[0;34m:\u001b[0m\u001b[0;34m\u001b[0m\u001b[0m\n\u001b[1;32m    547\u001b[0m           outputs = execute.execute_with_cancellation(\n",
      "\u001b[0;32m~/opt/anaconda3/envs/U4-S2-NN/lib/python3.7/site-packages/tensorflow_core/python/eager/execute.py\u001b[0m in \u001b[0;36mquick_execute\u001b[0;34m(op_name, num_outputs, inputs, attrs, ctx, name)\u001b[0m\n\u001b[1;32m     59\u001b[0m     tensors = pywrap_tensorflow.TFE_Py_Execute(ctx._handle, device_name,\n\u001b[1;32m     60\u001b[0m                                                \u001b[0mop_name\u001b[0m\u001b[0;34m,\u001b[0m \u001b[0minputs\u001b[0m\u001b[0;34m,\u001b[0m \u001b[0mattrs\u001b[0m\u001b[0;34m,\u001b[0m\u001b[0;34m\u001b[0m\u001b[0m\n\u001b[0;32m---> 61\u001b[0;31m                                                num_outputs)\n\u001b[0m\u001b[1;32m     62\u001b[0m   \u001b[0;32mexcept\u001b[0m \u001b[0mcore\u001b[0m\u001b[0;34m.\u001b[0m\u001b[0m_NotOkStatusException\u001b[0m \u001b[0;32mas\u001b[0m \u001b[0me\u001b[0m\u001b[0;34m:\u001b[0m\u001b[0;34m\u001b[0m\u001b[0m\n\u001b[1;32m     63\u001b[0m     \u001b[0;32mif\u001b[0m \u001b[0mname\u001b[0m \u001b[0;32mis\u001b[0m \u001b[0;32mnot\u001b[0m \u001b[0;32mNone\u001b[0m\u001b[0;34m:\u001b[0m\u001b[0;34m\u001b[0m\u001b[0m\n",
      "\u001b[0;31mKeyboardInterrupt\u001b[0m: "
     ]
    }
   ],
   "source": [
    "history = mnist_model.fit(X_train, y_train, batch_size=32, epochs=100, verbose=False)\n",
    "scores = mnist_model.evaluate(X_test, y_test)\n",
    "#print(f'{mnist_model.metrics_names[1]}: {scores[1]*100}')"
   ]
  },
  {
   "cell_type": "markdown",
   "metadata": {
    "colab_type": "text",
    "id": "CKmx8153w9Ci"
   },
   "source": [
    "### Dropout Regularization\n",
    "\n",
    "![Regularization](https://upload.wikimedia.org/wikipedia/commons/thumb/0/02/Regularization.svg/354px-Regularization.svg.png)"
   ]
  },
  {
   "cell_type": "code",
   "execution_count": 80,
   "metadata": {},
   "outputs": [
    {
     "name": "stdout",
     "output_type": "stream",
     "text": [
      "Model: \"sequential_5\"\n",
      "_________________________________________________________________\n",
      "Layer (type)                 Output Shape              Param #   \n",
      "=================================================================\n",
      "dense_31 (Dense)             (None, 32)                25120     \n",
      "_________________________________________________________________\n",
      "dropout (Dropout)            (None, 32)                0         \n",
      "_________________________________________________________________\n",
      "dense_32 (Dense)             (None, 16)                528       \n",
      "_________________________________________________________________\n",
      "dropout_1 (Dropout)          (None, 16)                0         \n",
      "_________________________________________________________________\n",
      "dense_33 (Dense)             (None, 10)                170       \n",
      "=================================================================\n",
      "Total params: 25,818\n",
      "Trainable params: 25,818\n",
      "Non-trainable params: 0\n",
      "_________________________________________________________________\n"
     ]
    }
   ],
   "source": [
    "### Let's do it!\n",
    "from tensorflow import keras \n",
    "from tensorflow.keras.datasets import mnist\n",
    "from tensorflow.keras.models import Sequential\n",
    "from tensorflow.keras.layers import Dense, Dropout\n",
    "\n",
    "import numpy as np\n",
    "\n",
    "mnist_model = Sequential()\n",
    "\n",
    "# Hidden\n",
    "mnist_model.add(Dense(32, input_dim=784, activation='relu'))\n",
    "mnist_model.add(Dropout(0.2))\n",
    "mnist_model.add(Dense(16, activation='relu'))\n",
    "mnist_model.add(Dropout(0.2))\n",
    "# Output Layer\n",
    "mnist_model.add(Dense(10, activation='softmax'))\n",
    "\n",
    "mnist_model.compile(loss='categorical_crossentropy',\n",
    "                    optimizer='adam', \n",
    "                    metrics=['accuracy'])\n",
    "mnist_model.summary()"
   ]
  },
  {
   "cell_type": "code",
   "execution_count": 81,
   "metadata": {},
   "outputs": [
    {
     "name": "stdout",
     "output_type": "stream",
     "text": [
      "10000/10000 [==============================] - 0s 25us/sample - loss: 0.2991 - accuracy: 0.9283\n",
      "accuracy: 92.83000230789185\n"
     ]
    }
   ],
   "source": [
    "history = mnist_model.fit(X_train, y_train, batch_size=32, epochs=epochs, validation_split=.1, verbose=0)\n",
    "scores = mnist_model.evaluate(X_test, y_test)\n",
    "print(f'{mnist_model.metrics_names[1]}: {scores[1]*100}')"
   ]
  },
  {
   "cell_type": "markdown",
   "metadata": {},
   "source": [
    "## Challenge\n",
    "\n",
    "You will apply your choice of activation function inside two Keras Seqeuntial models today. \n",
    "\n",
    "### Notes on today's assignment\n",
    "- two models, "
   ]
  }
 ],
 "metadata": {
  "colab": {
   "collapsed_sections": [],
   "name": "LS_DS_433_Keras_Lecture.ipynb",
   "provenance": [],
   "version": "0.3.2"
  },
  "kernelspec": {
   "display_name": "U4-S2-NN (Python3)",
   "language": "python",
   "name": "u4-s1-nn"
  },
  "language_info": {
   "codemirror_mode": {
    "name": "ipython",
    "version": 3
   },
   "file_extension": ".py",
   "mimetype": "text/x-python",
   "name": "python",
   "nbconvert_exporter": "python",
   "pygments_lexer": "ipython3",
   "version": "3.7.0"
  },
  "toc-autonumbering": false,
  "toc-showmarkdowntxt": false
 },
 "nbformat": 4,
 "nbformat_minor": 4
}
